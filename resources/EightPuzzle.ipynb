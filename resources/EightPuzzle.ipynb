{
  "cells": [
    {
      "cell_type": "code",
      "execution_count": 31,
      "metadata": {
        "id": "XFZhJN_MDO_4"
      },
      "outputs": [],
      "source": [
        "import random"
      ]
    },
    {
      "cell_type": "markdown",
      "metadata": {
        "id": "1qcbuB06Dclj"
      },
      "source": [
        "The class State is the class to initialize the state and to check if the present state is a Goal State or not"
      ]
    },
    {
      "cell_type": "code",
      "execution_count": 32,
      "metadata": {
        "id": "Xiy3Q8-WDUPA"
      },
      "outputs": [],
      "source": [
        "class State:\n",
        "    def __init__(self , finalState = [1,2,3,4,5,6,7,8,0]):\n",
        "        puzz = Puzzle()\n",
        "        self.finalState = finalState.copy()\n",
        "        initialState  = puzz.play(finalState , 10)\n",
        "        # initialState = [1,0,6,4,3,2,7,5,8]\n",
        "        self.initialState = initialState\n",
        "    def get_intialState(self):\n",
        "        return self.initialState\n",
        "    def set_initialState(self , stateEx):\n",
        "        self.initialState = stateEx.copy()\n",
        "    def get_finalState(self):\n",
        "        return self.finalState\n",
        "    def comparator(self,state1):\n",
        "        for i in range(len(state1)):\n",
        "            if(state1[i] != self.finalState[i]):\n",
        "                return False\n",
        "        return True"
      ]
    },
    {
      "cell_type": "markdown",
      "metadata": {
        "id": "xgcfvBC3D5H-"
      },
      "source": [
        "The Puzzle class containa two functions play and move where play is to create a random state by moving k steps from the goal node\n",
        "\n",
        "The move function has the capability to move the gap(0) node Left , Right ,Up and Down given the instruction 0,1,2,3 respectively"
      ]
    },
    {
      "cell_type": "code",
      "execution_count": 33,
      "metadata": {
        "id": "l-c0zTXNDp4L"
      },
      "outputs": [],
      "source": [
        "class Puzzle:\n",
        "    def __init__(self) -> None:\n",
        "        pass\n",
        "    def play(self , state ,k=10):\n",
        "        possible_moves = [0,1,2,3]\n",
        "        for _ in range(k):\n",
        "            move_direction = random.choice(possible_moves)\n",
        "            new_state = self.move(move_direction , state)\n",
        "            if new_state is not None:\n",
        "                state = new_state\n",
        "        return state\n",
        "    def move(self, val , array):\n",
        "        arr = array.copy()\n",
        "        x = arr.index(0)\n",
        "        if(val == 0):\n",
        "            #left\n",
        "            # print(\"L\")\n",
        "            if(x % 3!=0):\n",
        "                arr[x] = arr[x-1]\n",
        "                arr[x-1] = 0\n",
        "                return arr\n",
        "            else:\n",
        "                return None\n",
        "        elif(val == 1):\n",
        "            #right\n",
        "            # print(\"R\")\n",
        "            if(x % 3!= 2):\n",
        "                arr[x] = arr[x+1]\n",
        "                arr[x+1] = 0\n",
        "                return arr\n",
        "            else:\n",
        "                return None\n",
        "        elif(val == 2):\n",
        "            #up\n",
        "            # print(\"U\")\n",
        "            if(x > 2):\n",
        "                arr[x] = arr[x-3]\n",
        "                arr[x-3] = 0\n",
        "                return arr\n",
        "            else:\n",
        "                return None\n",
        "        elif(val == 3):\n",
        "            #down\n",
        "            # print(\"D\")\n",
        "            if(x < 6):\n",
        "                arr[x] = arr[x+3]\n",
        "                arr[x+3] = 0\n",
        "                return arr\n",
        "            else:\n",
        "                return None\n",
        "        else:\n",
        "            return None\n",
        "        return 0"
      ]
    },
    {
      "cell_type": "code",
      "execution_count": 34,
      "metadata": {
        "id": "MrDPwU8GEcMn"
      },
      "outputs": [],
      "source": [
        "class Graph:\n",
        "    #This function to is to check the array in the 2-D array\n",
        "    def checkArray(self, arrayArray, elementArray):\n",
        "        for i in arrayArray:\n",
        "            flag = True\n",
        "            for j in range(len(elementArray)):\n",
        "                if(i[j]!=elementArray[j]):\n",
        "                    flag = False\n",
        "            if(flag == True):\n",
        "                return True\n",
        "        return False\n",
        "    #Helper function for array to string\n",
        "    def arrToStr(self , arr):\n",
        "        string = \"\"\n",
        "        for i in arr:\n",
        "            string+= str(i)\n",
        "        return string\n",
        "    #Helper function for string to array\n",
        "    def strToArr(self , str):\n",
        "        arr = []\n",
        "        for i in str:\n",
        "            arr.append(int(i))\n",
        "        return arr\n",
        "    #Function to return the path of steps chosen to get to goal node\n",
        "    def construct_path(self, state ,parent, found_goal):\n",
        "        moves_path = []\n",
        "        while found_goal != state.get_intialState():\n",
        "            foundstr = self.arrToStr(found_goal)\n",
        "            parent_state, move = parent[foundstr]\n",
        "            moves_path.append(move)\n",
        "            found_goal = self.strToArr(parent_state)\n",
        "        moves_path.reverse()\n",
        "        moves_char = []\n",
        "        for i in moves_path:\n",
        "            if(i == 0):\n",
        "                moves_char.append(\"L\")\n",
        "            elif(i == 1):\n",
        "                moves_char.append(\"R\")\n",
        "            elif(i==2):\n",
        "                moves_char.append(\"U\")\n",
        "            elif(i==3):\n",
        "                moves_char.append(\"D\")\n",
        "        return moves_char\n",
        "\n",
        "    #BFS code\n",
        "    def bfs(self, stateObj ,initialState):\n",
        "        player = Puzzle()\n",
        "        visited = []\n",
        "        queue = [initialState]\n",
        "        parents = {}\n",
        "        while(queue):\n",
        "            currentState = queue.pop(0)\n",
        "            visited.append(currentState)\n",
        "            if(stateObj.comparator(currentState)==True):\n",
        "               return self.construct_path(stateObj , parents  , currentState)\n",
        "            for move in [0,1,2,3]:\n",
        "                nextState = player.move(move, currentState)\n",
        "                if(nextState is not None):\n",
        "                    if(self.checkArray(visited , nextState) == False):\n",
        "                        queue.append(nextState)\n",
        "                        nextStr = self.arrToStr(nextState)\n",
        "                        curStr = self.arrToStr(currentState)\n",
        "                        parents[nextStr] = (curStr , move)\n",
        "                    else:\n",
        "                        pass\n",
        "        return None\n",
        "\n",
        "    #DFS code\n",
        "    def dfs(self , stateObj , initialState):\n",
        "        player = Puzzle()\n",
        "        visited = []\n",
        "        stack = [initialState]\n",
        "        parents = {}\n",
        "        count = 0\n",
        "        while(stack):\n",
        "            count+=1\n",
        "            currentState = stack.pop()\n",
        "            visited.append(currentState)\n",
        "            if(stateObj.comparator(currentState)==True):\n",
        "               return self.construct_path(stateObj , parents  , currentState)\n",
        "            for move in [0,1,2,3]:\n",
        "                nextState = player.move(move, currentState)\n",
        "                if(nextState is not None):\n",
        "                    if(self.checkArray(visited , nextState) == False):\n",
        "                        stack.append(nextState)\n",
        "                        nextStr = self.arrToStr(nextState)\n",
        "                        curStr = self.arrToStr(currentState)\n",
        "                        parents[nextStr] = (curStr , move)\n",
        "                    else:\n",
        "                        pass\n",
        "        return None\n",
        "\n",
        "    #DLS Code\n",
        "    def dls(self, stateObj, initialState, depth_limit=3):\n",
        "        player = Puzzle()\n",
        "        visited = []\n",
        "        stack = [(initialState, 0)]\n",
        "        parents = {}\n",
        "        while stack:\n",
        "            currentState, depth = stack.pop()\n",
        "            visited.append(currentState)\n",
        "\n",
        "            if stateObj.comparator(currentState):\n",
        "                return self.construct_path(stateObj, parents, currentState)\n",
        "\n",
        "            if depth < depth_limit:\n",
        "                for move in [0, 1, 2, 3]:\n",
        "                    nextState = player.move(move, currentState)\n",
        "                    if nextState is not None and not self.checkArray(visited, nextState):\n",
        "                        stack.append((nextState, depth + 1))\n",
        "                        nextStr = self.arrToStr(nextState)\n",
        "                        curStr = self.arrToStr(currentState)\n",
        "                        parents[nextStr] = (curStr, move)\n",
        "        return None\n",
        "\n",
        "    #IDS Code\n",
        "    def ids(self, stateObj, initialState, initial_depth =3 , max_depth = 15 , increment = 2):\n",
        "        i = initial_depth\n",
        "        while(i<= max_depth):\n",
        "            res =  self.dls(stateObj,initialState ,i)\n",
        "            if(res!= None):\n",
        "                print(\"Found Path at Depth : \",i)\n",
        "                return res\n",
        "            else:\n",
        "                print(\"Found None at Depth : \",i)\n",
        "            i+= increment\n",
        "        return None"
      ]
    },
    {
      "cell_type": "code",
      "execution_count": 35,
      "metadata": {
        "colab": {
          "base_uri": "https://localhost:8080/"
        },
        "id": "YxNaWKbuE8yt",
        "outputId": "f6337014-7805-44c8-d1e3-ad0b16671872"
      },
      "outputs": [
        {
          "name": "stdout",
          "output_type": "stream",
          "text": [
            "Initial State:  [4, 1, 2, 5, 3, 0, 7, 8, 6]\n",
            "Goal State:  [1, 2, 3, 4, 5, 6, 7, 8, 0]\n"
          ]
        }
      ],
      "source": [
        "goalState = [1,2,3,4,5,6,7,8,0]\n",
        "state = State(goalState)\n",
        "initial = state.get_intialState()\n",
        "print(\"Initial State: \",initial)\n",
        "print(\"Goal State: \",state.finalState)"
      ]
    },
    {
      "cell_type": "markdown",
      "metadata": {
        "id": "l4LC7SGrFgib"
      },
      "source": [
        "***Breadth First Search implementation***"
      ]
    },
    {
      "cell_type": "code",
      "execution_count": 36,
      "metadata": {
        "colab": {
          "base_uri": "https://localhost:8080/"
        },
        "id": "w1VqC1iqFP5s",
        "outputId": "959d6af3-9a5b-475e-b478-2d6d2244a9eb"
      },
      "outputs": [
        {
          "name": "stdout",
          "output_type": "stream",
          "text": [
            "The Path through BFS method is : ['L', 'L', 'U', 'R', 'R', 'D', 'D']\n"
          ]
        }
      ],
      "source": [
        "#BFS Implementation\n",
        "graph = Graph()\n",
        "print(\"The Path through BFS method is :\" ,graph.bfs(state , initial))"
      ]
    },
    {
      "cell_type": "markdown",
      "metadata": {
        "id": "GfU6Q3D3F5RS"
      },
      "source": [
        "***Depth Limited Search implementation***"
      ]
    },
    {
      "cell_type": "code",
      "execution_count": 37,
      "metadata": {
        "colab": {
          "base_uri": "https://localhost:8080/"
        },
        "id": "e_oEWoxnGBCc",
        "outputId": "cf550c9b-9637-45a7-fb60-753ce575ae0e"
      },
      "outputs": [
        {
          "name": "stdout",
          "output_type": "stream",
          "text": [
            "The Path through DLS method at depth 3 is : None\n"
          ]
        }
      ],
      "source": [
        "print(\"The Path through DLS method at depth 3 is :\" ,graph.dls(state , initial , 3))"
      ]
    },
    {
      "cell_type": "code",
      "execution_count": 38,
      "metadata": {
        "colab": {
          "base_uri": "https://localhost:8080/"
        },
        "id": "PQ_Az8dvGKMn",
        "outputId": "d6884c53-d87f-4d1e-d430-96771bbb52e5"
      },
      "outputs": [
        {
          "name": "stdout",
          "output_type": "stream",
          "text": [
            "The Path through DLS method at depth 3 is : None\n"
          ]
        }
      ],
      "source": [
        "print(\"The Path through DLS method at depth 3 is :\" ,graph.dls(state , initial , 5))"
      ]
    },
    {
      "cell_type": "markdown",
      "metadata": {
        "id": "AkOUpB4uG8jH"
      },
      "source": [
        "***Iterative Deepening Search implementation***"
      ]
    },
    {
      "cell_type": "code",
      "execution_count": 39,
      "metadata": {
        "colab": {
          "base_uri": "https://localhost:8080/"
        },
        "id": "uwtjKJlnG36E",
        "outputId": "36016d78-c44d-45b5-dd0c-347c8d848f00"
      },
      "outputs": [
        {
          "name": "stdout",
          "output_type": "stream",
          "text": [
            "Found None at Depth :  3\n",
            "Found None at Depth :  5\n",
            "Found Path at Depth :  7\n",
            "The Path through IDS method from depths(3,15) incrementing 2 each time is : ['L', 'L', 'U', 'R', 'R', 'D', 'D']\n"
          ]
        }
      ],
      "source": [
        "print(\"The Path through IDS method from depths(3,15) incrementing 2 each time is :\" ,graph.ids(state , initial))"
      ]
    },
    {
      "cell_type": "markdown",
      "metadata": {
        "id": "YCjm_ejYHtRK"
      },
      "source": [
        "***Depth First Search implementation***"
      ]
    },
    {
      "cell_type": "code",
      "execution_count": 40,
      "metadata": {
        "colab": {
          "base_uri": "https://localhost:8080/"
        },
        "id": "NboNt7SWHxzk",
        "outputId": "63ebc726-b49d-4fd2-f186-702f03698f84"
      },
      "outputs": [
        {
          "name": "stdout",
          "output_type": "stream",
          "text": [
            "The Path through DFS method is :  ['D', 'L', 'U', 'U', 'R', 'D', 'D', 'L', 'U', 'U', 'R', 'D', 'D', 'L', 'U', 'U', 'R', 'D', 'D', 'L', 'U', 'U', 'R', 'D', 'D', 'L', 'U', 'U', 'L', 'D', 'D', 'R', 'U', 'U', 'R', 'D', 'D', 'L', 'U', 'U', 'R', 'D', 'D', 'L', 'U', 'U', 'R', 'D', 'D', 'L', 'U', 'U', 'R', 'D', 'D', 'L', 'U', 'U', 'R', 'D', 'L', 'D', 'R', 'U', 'U', 'L', 'D', 'D', 'R', 'U', 'U', 'L', 'D', 'D', 'R', 'U', 'U', 'L', 'D', 'D', 'R', 'U', 'U', 'L', 'D', 'D', 'R', 'U', 'U', 'L', 'L', 'D', 'D', 'R', 'U', 'U', 'R', 'D', 'D', 'L', 'U', 'U', 'R', 'D', 'D', 'L', 'U', 'U', 'R', 'D', 'D', 'L', 'U', 'U', 'R', 'D', 'D', 'L', 'U', 'U', 'R', 'D', 'L', 'D', 'R', 'U', 'U', 'L', 'D', 'D', 'R', 'U', 'U', 'L', 'D', 'D', 'R', 'U', 'U', 'L', 'D', 'D', 'R', 'U', 'U', 'L', 'D', 'D', 'R', 'U', 'U', 'L', 'L', 'D', 'D', 'R', 'U', 'U', 'R', 'D', 'D', 'L', 'U', 'U', 'R', 'D', 'D', 'L', 'U', 'U', 'R', 'D', 'D', 'L', 'U', 'U', 'R', 'D', 'D', 'L', 'U', 'U', 'R', 'D', 'L', 'D', 'R', 'U', 'U', 'L', 'D', 'D', 'R', 'U', 'U', 'L', 'D', 'D', 'R', 'U', 'U', 'L', 'D', 'D', 'R', 'U', 'U', 'L', 'D', 'D', 'R', 'U', 'U', 'L', 'L', 'D', 'D', 'R', 'U', 'U', 'R', 'D', 'D', 'L', 'U', 'U', 'R', 'D', 'D', 'L', 'U', 'U', 'R', 'D', 'D', 'L', 'U', 'U', 'R', 'D', 'D', 'L', 'U', 'U', 'R', 'D', 'L', 'D', 'R', 'U', 'U', 'L', 'D', 'D', 'R', 'U', 'U', 'L', 'D', 'D', 'R', 'U', 'U', 'L', 'D', 'D', 'R', 'U', 'U', 'L', 'D', 'D', 'R', 'U', 'U', 'L', 'L', 'D', 'D', 'R', 'U', 'U', 'R', 'D', 'D', 'L', 'U', 'U', 'R', 'D', 'D', 'L', 'U', 'U', 'R', 'D', 'D', 'L', 'U', 'U', 'R', 'D', 'D', 'L', 'U', 'U', 'R', 'D', 'L', 'D', 'R', 'U', 'U', 'L', 'D', 'D', 'R', 'U', 'U', 'L', 'D', 'D', 'R', 'U', 'U', 'L', 'D', 'D', 'R', 'U', 'U', 'L', 'D', 'D', 'R', 'U', 'U', 'L', 'L', 'D', 'D', 'R', 'U', 'U', 'R', 'D', 'D', 'L', 'U', 'U', 'R', 'D', 'D', 'L', 'U', 'U', 'R', 'D', 'D', 'L', 'U', 'U', 'R', 'D', 'D', 'L', 'U', 'U', 'R', 'D', 'L', 'D', 'R', 'U', 'U', 'L', 'D', 'D', 'R', 'U', 'U', 'L', 'D', 'D', 'R', 'U', 'U', 'L', 'D', 'D', 'R', 'U', 'U', 'L', 'D', 'D', 'R', 'U', 'U', 'L', 'L', 'D', 'D', 'R', 'U', 'U', 'R', 'D', 'D', 'L', 'U', 'U', 'R', 'D', 'D', 'L', 'U', 'U', 'R', 'D', 'D', 'L', 'U', 'U', 'R', 'D', 'D', 'L', 'U', 'U', 'L', 'D', 'D', 'R', 'U', 'U', 'R', 'D', 'D', 'L', 'U', 'U', 'R', 'D', 'D', 'L', 'U', 'U', 'R', 'D', 'D', 'L', 'U', 'U', 'R', 'D', 'D', 'L', 'U', 'U', 'R', 'D', 'L', 'D', 'R', 'U', 'U', 'L', 'D', 'D', 'R', 'U', 'U', 'L', 'D', 'D', 'R', 'U', 'U', 'L', 'D', 'D', 'R', 'U', 'U', 'L', 'D', 'D', 'R', 'U', 'U', 'L', 'L', 'D', 'D', 'R', 'U', 'U', 'R', 'D', 'D', 'L', 'U', 'U', 'R', 'D', 'D', 'L', 'U', 'U', 'R', 'D', 'D', 'L', 'U', 'U', 'R', 'D', 'D', 'L', 'U', 'U', 'R', 'D', 'L', 'D', 'R', 'U', 'U', 'L', 'D', 'D', 'R', 'U', 'U', 'L', 'D', 'D', 'R', 'U', 'U', 'L', 'D', 'D', 'R', 'U', 'U', 'L', 'D', 'D', 'R', 'U', 'U', 'L', 'L', 'D', 'D', 'R', 'U', 'U', 'R', 'D', 'D', 'L', 'U', 'U', 'R', 'D', 'D', 'L', 'U', 'U', 'R', 'D', 'D', 'L', 'U', 'U', 'R', 'D', 'D', 'L', 'U', 'U', 'R', 'D', 'L', 'D', 'R', 'U', 'U', 'L', 'D', 'D', 'R', 'U', 'U', 'L', 'D', 'D', 'R', 'U', 'U', 'L', 'D', 'D', 'R', 'U', 'U', 'L', 'D', 'D', 'R', 'U', 'U', 'L', 'L', 'D', 'D', 'R', 'U', 'U', 'R', 'D', 'D', 'L', 'U', 'U', 'R', 'D', 'D', 'L', 'U', 'U', 'R', 'D', 'D', 'L', 'U', 'U', 'R', 'D', 'D', 'L', 'U', 'U', 'R', 'D', 'L', 'D', 'R', 'U', 'U', 'L', 'D', 'D', 'R', 'U', 'U', 'L', 'D', 'D', 'R', 'U', 'U', 'L', 'D', 'D', 'R', 'U', 'U', 'L', 'D', 'D', 'R', 'U', 'U', 'L', 'L', 'D', 'D', 'R', 'U', 'U', 'R', 'D', 'D', 'L', 'U', 'U', 'R', 'D', 'D', 'L', 'U', 'U', 'R', 'D', 'D', 'L', 'U', 'U', 'R', 'D', 'D', 'L', 'U', 'U', 'R', 'D', 'L', 'D', 'R', 'U', 'U', 'L', 'D', 'D', 'R', 'U', 'U', 'L', 'D', 'D', 'R', 'U', 'U', 'L', 'D', 'D', 'R', 'U', 'U', 'L', 'D', 'D', 'R', 'U', 'U', 'L', 'L', 'D', 'D', 'R', 'U', 'U', 'R', 'D', 'D', 'L', 'U', 'U', 'R', 'D', 'D', 'L', 'U', 'U', 'R', 'D', 'D', 'L', 'U', 'U', 'R', 'D', 'D', 'L', 'U', 'U', 'R', 'D', 'L', 'D', 'R', 'U', 'U', 'L', 'D', 'D', 'R', 'U', 'U', 'L', 'D', 'D', 'R', 'U', 'U', 'L', 'D', 'D', 'R', 'U', 'U', 'L', 'D', 'D', 'R', 'U', 'U', 'L', 'L', 'D', 'D', 'R', 'U', 'U', 'R', 'D', 'D', 'L', 'U', 'U', 'R', 'D', 'D', 'L', 'U', 'U', 'R', 'D', 'D', 'L', 'U', 'U', 'R', 'D', 'D', 'L', 'U', 'U', 'L', 'D', 'D', 'R', 'U', 'U', 'R', 'D', 'D', 'L', 'U', 'U', 'R', 'D', 'D', 'L', 'U', 'U', 'R', 'D', 'D', 'L', 'U', 'U', 'R', 'D', 'D', 'L', 'U', 'U', 'R', 'D', 'L', 'D', 'R', 'U', 'U', 'L', 'D', 'D', 'R', 'U', 'U', 'L', 'D', 'D', 'R', 'U', 'U', 'L', 'D', 'D', 'R', 'U', 'U', 'L', 'D', 'D', 'R', 'U', 'U', 'L', 'L', 'D', 'D', 'R', 'U', 'U', 'R', 'D', 'D', 'L', 'U', 'U', 'R', 'D', 'D', 'L', 'U', 'U', 'R', 'D', 'D', 'L', 'U', 'U', 'R', 'D', 'D', 'L', 'U', 'U', 'R', 'D', 'L', 'D', 'R', 'U', 'U', 'L', 'D', 'D', 'R', 'U', 'U', 'L', 'D', 'D', 'R', 'U', 'U', 'L', 'D', 'D', 'R', 'U', 'U', 'L', 'D', 'D', 'R', 'U', 'U', 'L', 'L', 'D', 'D', 'R', 'U', 'U', 'R', 'D', 'D', 'L', 'U', 'U', 'R', 'D', 'D', 'L', 'U', 'U', 'R', 'D', 'D', 'L', 'U', 'U', 'R', 'D', 'D', 'L', 'U', 'U', 'R', 'D', 'L', 'D', 'R', 'U', 'U', 'L', 'D', 'D', 'R', 'U', 'U', 'L', 'D', 'D', 'R', 'U', 'U', 'L', 'D', 'D', 'R', 'U', 'U', 'L', 'D', 'D', 'R', 'U', 'U', 'L', 'L', 'D', 'D', 'R', 'U', 'U', 'R', 'D', 'D', 'L', 'U', 'U', 'R', 'D', 'D', 'L', 'U', 'U', 'R', 'D', 'D', 'L', 'U', 'U', 'R', 'D', 'D', 'L', 'U', 'U', 'R', 'D', 'L', 'D', 'R', 'U', 'U', 'L', 'D', 'D', 'R', 'U', 'U', 'L', 'D', 'D', 'R', 'U', 'U', 'L', 'D', 'D', 'R', 'U', 'U', 'L', 'D', 'D', 'R', 'U', 'U', 'L', 'L', 'D', 'D', 'R', 'U', 'U', 'R', 'D', 'D', 'L', 'U', 'U', 'R', 'D', 'D', 'L', 'U', 'U', 'R', 'D', 'D', 'L', 'U', 'U', 'R', 'D', 'D', 'L', 'U', 'U', 'R', 'D', 'L', 'D', 'R', 'U', 'U', 'L', 'D', 'D', 'R', 'U', 'U', 'L', 'D', 'D', 'R', 'U', 'U', 'L', 'D', 'D', 'R', 'U', 'U', 'L', 'D', 'D', 'R', 'U', 'U', 'L', 'L', 'D', 'D', 'R', 'U', 'U', 'R', 'D', 'D', 'L', 'U', 'U', 'R', 'D', 'D', 'L', 'U', 'U', 'R', 'D', 'D', 'L', 'U', 'U', 'R', 'D', 'D', 'L', 'U', 'U', 'R', 'D', 'L', 'D', 'R', 'U', 'U', 'L', 'D', 'D', 'R', 'U', 'U', 'L', 'D', 'D', 'R', 'U', 'U', 'L', 'D', 'D', 'R', 'U', 'U', 'L', 'D', 'D', 'R', 'U', 'U', 'L', 'L', 'D', 'R', 'D', 'R', 'U', 'U', 'L', 'D', 'D', 'R', 'U', 'U', 'L', 'D', 'D', 'R', 'U', 'U', 'L', 'D', 'D', 'R', 'U', 'U', 'L', 'D', 'D', 'R', 'U', 'U', 'L', 'L', 'D', 'D', 'R', 'U', 'U', 'R', 'D', 'D', 'L', 'U', 'U', 'R', 'D', 'D', 'L', 'U', 'U', 'R', 'D', 'D', 'L', 'U', 'U', 'R', 'D', 'D', 'L', 'U', 'U', 'R', 'D', 'L', 'D', 'R', 'U', 'U', 'L', 'D', 'D', 'R', 'U', 'U', 'L', 'D', 'D', 'R', 'U', 'U', 'L', 'D', 'D', 'R', 'U', 'U', 'L', 'D', 'D', 'R', 'U', 'U', 'L', 'L', 'D', 'R', 'D', 'R', 'U', 'U', 'L', 'D', 'D', 'R', 'U', 'U', 'L', 'D', 'D', 'R', 'U', 'U', 'L', 'D', 'D', 'R', 'U', 'U', 'L', 'D', 'D', 'R', 'U', 'U', 'L', 'L', 'D', 'D', 'R', 'U', 'U', 'R', 'D', 'D', 'L', 'U', 'U', 'R', 'D', 'D', 'L', 'U', 'U', 'R', 'D', 'D', 'L', 'U', 'U', 'R', 'D', 'D', 'L', 'U', 'U', 'R', 'D', 'L', 'D', 'R', 'U', 'U', 'L', 'D', 'D', 'R', 'U', 'U', 'L', 'D', 'D', 'R', 'U', 'U', 'L', 'D', 'D', 'R', 'U', 'U', 'L', 'D', 'D', 'R', 'U', 'U', 'L', 'L', 'D', 'D', 'R', 'U', 'U', 'R', 'D', 'D', 'L', 'U', 'U', 'R', 'D', 'D', 'L', 'U', 'U', 'R', 'D', 'D', 'L', 'U', 'U', 'R', 'D', 'D', 'L', 'U', 'U', 'R', 'D', 'L', 'D', 'R', 'U', 'U', 'L', 'D', 'D', 'R', 'U', 'U', 'L', 'D', 'D', 'R', 'U', 'U', 'L', 'D', 'D', 'R', 'U', 'U', 'L', 'D', 'D', 'R', 'U', 'U', 'L', 'L', 'D', 'D', 'R', 'U', 'U', 'R', 'D', 'D', 'L', 'U', 'U', 'R', 'D', 'D', 'L', 'U', 'U', 'R', 'D', 'D', 'L', 'U', 'U', 'R', 'D', 'D', 'L', 'U', 'U', 'R', 'D', 'L', 'D', 'R', 'U', 'U', 'L', 'D', 'D', 'R', 'U', 'U', 'L', 'D', 'D', 'R', 'U', 'U', 'L', 'D', 'D', 'R', 'U', 'U', 'L', 'D', 'D', 'R', 'U', 'U', 'L', 'L', 'D', 'D', 'R', 'U', 'U', 'R', 'D', 'D', 'L', 'U', 'U', 'R', 'D', 'D', 'L', 'U', 'U', 'R', 'D', 'D', 'L', 'U', 'U', 'R', 'D', 'D', 'L', 'U', 'U', 'R', 'D', 'L', 'D', 'R', 'U', 'U', 'L', 'D', 'D', 'R', 'U', 'U', 'L', 'D', 'D', 'R', 'U', 'U', 'L', 'D', 'D', 'R', 'U', 'U', 'L', 'D', 'D', 'R', 'U', 'U', 'L', 'L', 'D', 'D', 'R', 'U', 'U', 'R', 'D', 'D', 'L', 'U', 'U', 'R', 'D', 'D', 'L', 'U', 'U', 'R', 'D', 'D', 'L', 'U', 'U', 'R', 'D', 'D', 'L', 'U', 'U', 'R', 'D', 'L', 'D', 'R', 'U', 'U', 'L', 'D', 'D', 'R', 'U', 'U', 'L', 'D', 'D', 'R', 'U', 'U', 'L', 'D', 'D', 'R', 'U', 'U', 'L', 'D', 'D', 'R', 'U', 'U', 'L', 'L', 'D', 'D', 'R', 'U', 'U', 'R', 'D', 'D', 'L', 'U', 'U', 'R', 'D', 'D', 'L', 'U', 'U', 'R', 'D', 'D', 'L', 'U', 'U', 'R', 'D', 'D', 'L', 'U', 'U', 'R', 'D', 'L', 'D', 'R', 'U', 'U', 'L', 'D', 'D', 'R', 'U', 'U', 'L', 'D', 'D', 'R', 'U', 'U', 'L', 'D', 'D', 'R', 'U', 'U', 'L', 'D', 'D', 'R', 'U', 'U', 'L', 'L', 'D', 'D', 'R', 'U', 'U', 'R', 'D', 'D', 'L', 'U', 'U', 'R', 'D', 'D', 'L', 'U', 'U', 'R', 'D', 'D', 'L', 'U', 'U', 'R', 'D', 'D', 'L', 'U', 'U', 'L', 'D', 'D', 'R', 'U', 'U', 'R', 'D', 'D', 'L', 'U', 'U', 'R', 'D', 'D', 'L', 'U', 'U', 'R', 'D', 'D', 'L', 'U', 'U', 'R', 'D', 'D', 'L', 'U', 'U', 'R', 'D', 'L', 'D', 'R', 'U', 'U', 'L', 'D', 'D', 'R', 'U', 'U', 'L', 'D', 'D', 'R', 'U', 'U', 'L', 'D', 'D', 'R', 'U', 'U', 'L', 'D', 'D', 'R', 'U', 'U', 'L', 'L', 'D', 'D', 'R', 'U', 'U', 'R', 'D', 'D', 'L', 'U', 'U', 'R', 'D', 'D', 'L', 'U', 'U', 'R', 'D', 'D', 'L', 'U', 'U', 'R', 'D', 'D', 'L', 'U', 'U', 'R', 'D', 'L', 'D', 'R', 'U', 'U', 'L', 'D', 'D', 'R', 'U', 'U', 'L', 'D', 'D', 'R', 'U', 'U', 'L', 'D', 'D', 'R', 'U', 'U', 'L', 'D', 'D', 'R', 'U', 'U', 'L', 'L', 'D', 'D', 'R', 'U', 'U', 'R', 'D', 'D', 'L', 'U', 'U', 'R', 'D', 'D', 'L', 'U', 'U', 'R', 'D', 'D', 'L', 'U', 'U', 'R', 'D', 'D', 'L', 'U', 'U', 'R', 'D', 'L', 'D', 'R', 'U', 'U', 'L', 'D', 'D', 'R', 'U', 'U', 'L', 'D', 'D', 'R', 'U', 'U', 'L', 'D', 'D', 'R', 'U', 'U', 'L', 'D', 'D', 'R', 'U', 'U', 'L', 'L', 'D', 'D', 'R', 'U', 'U', 'R', 'D', 'D', 'L', 'U', 'U', 'R', 'D', 'D', 'L', 'U', 'U', 'R', 'D', 'D', 'L', 'U', 'U', 'R', 'D', 'D', 'L', 'U', 'U', 'R', 'D', 'L', 'D', 'R', 'U', 'U', 'L', 'D', 'D', 'R', 'U', 'U', 'L', 'D', 'D', 'R', 'U', 'U', 'L', 'D', 'D', 'R', 'U', 'U', 'L', 'D', 'D', 'R', 'U', 'U', 'L', 'L', 'D', 'D', 'R', 'U', 'U', 'R', 'D', 'D', 'L', 'U', 'U', 'R', 'D', 'D', 'L', 'U', 'U', 'R', 'D', 'D', 'L', 'U', 'U', 'R', 'D', 'D', 'L', 'U', 'U', 'R', 'D', 'L', 'D', 'R', 'U', 'U', 'L', 'D', 'D', 'R', 'U', 'U', 'L', 'D', 'D', 'R', 'U', 'U', 'L', 'D', 'D', 'R', 'U', 'U', 'L', 'D', 'D', 'R', 'U', 'U', 'L', 'L', 'D', 'D', 'R', 'U', 'U', 'R', 'D', 'D', 'L', 'U', 'U', 'R', 'D', 'D', 'L', 'U', 'U', 'R', 'D', 'D', 'L', 'U', 'U', 'R', 'D', 'D', 'L', 'U', 'U', 'R', 'D', 'L', 'D', 'R', 'U', 'U', 'L', 'D', 'D', 'R', 'U', 'U', 'L', 'D', 'D', 'R', 'U', 'U', 'L', 'D', 'D', 'R', 'U', 'U', 'L', 'D', 'D', 'R', 'U', 'U', 'L', 'L', 'D', 'D', 'R', 'U', 'U', 'R', 'D', 'D', 'L', 'U', 'U', 'R', 'D', 'D', 'L', 'U', 'U', 'R', 'D', 'D', 'L', 'U', 'U', 'R', 'D', 'D', 'L', 'U', 'U', 'L', 'D', 'D', 'R', 'U', 'U', 'R', 'D', 'D', 'L', 'U', 'U', 'R', 'D', 'D', 'L', 'U', 'U', 'R', 'D', 'D', 'L', 'U', 'U', 'R', 'D', 'D', 'L', 'U', 'U', 'R', 'D', 'L', 'D', 'R', 'U', 'U', 'L', 'D', 'D', 'R', 'U', 'U', 'L', 'D', 'D', 'R', 'U', 'U', 'L', 'D', 'D', 'R', 'U', 'U', 'L', 'D', 'D', 'R', 'U', 'U', 'L', 'L', 'D', 'D', 'R', 'U', 'U', 'R', 'D', 'D', 'L', 'U', 'U', 'R', 'D', 'D', 'L', 'U', 'U', 'R', 'D', 'D', 'L', 'U', 'U', 'R', 'D', 'D', 'L', 'U', 'U', 'R', 'D', 'L', 'D', 'R', 'U', 'U', 'L', 'D', 'D', 'R', 'U', 'U', 'L', 'D', 'D', 'R', 'U', 'U', 'L', 'D', 'D', 'R', 'U', 'U', 'L', 'D', 'D', 'R', 'U', 'U', 'L', 'L', 'D', 'D', 'R', 'U', 'U', 'R', 'D', 'D', 'L', 'U', 'U', 'R', 'D', 'D', 'L', 'U', 'U', 'R', 'D', 'D', 'L', 'U', 'U', 'R', 'D', 'D', 'L', 'U', 'U', 'R', 'D', 'L', 'D', 'R', 'U', 'U', 'L', 'D', 'D', 'R', 'U', 'U', 'L', 'D', 'D', 'R', 'U', 'U', 'L', 'D', 'D', 'R', 'U', 'U', 'L', 'D', 'D', 'R', 'U', 'U', 'L', 'L', 'D', 'D', 'R', 'U', 'U', 'R', 'D', 'D', 'L', 'U', 'U', 'R', 'D', 'D', 'L', 'U', 'U', 'R', 'D', 'D', 'L', 'U', 'U', 'R', 'D', 'D', 'L', 'U', 'U', 'R', 'D', 'L', 'D', 'R', 'U', 'U', 'L', 'D', 'D', 'R', 'U', 'U', 'L', 'D', 'D', 'R', 'U', 'U', 'L', 'D', 'D', 'R', 'U', 'U', 'L', 'D', 'D', 'R', 'U', 'U', 'L', 'L', 'D', 'D', 'R', 'U', 'U', 'R', 'D', 'D', 'L', 'U', 'U', 'R', 'D', 'D', 'L', 'U', 'U', 'R', 'D', 'D', 'L', 'U', 'U', 'R', 'D', 'D', 'L', 'U', 'U', 'R', 'D', 'L', 'D', 'R', 'U', 'U', 'L', 'D', 'D', 'R', 'U', 'U', 'L', 'D', 'D', 'R', 'U', 'U', 'L', 'D', 'D', 'R', 'U', 'U', 'L', 'D', 'D', 'R', 'U', 'U', 'L', 'L', 'D', 'D', 'R', 'U', 'U', 'R', 'D', 'D', 'L', 'U', 'U', 'R', 'D', 'D', 'L', 'U', 'U', 'R', 'D', 'D', 'L', 'U', 'U', 'R', 'D', 'D', 'L', 'U', 'U', 'R', 'D', 'L', 'D', 'R', 'U', 'U', 'L', 'D', 'D', 'R', 'U', 'U', 'L', 'D', 'D', 'R', 'U', 'U', 'L', 'D', 'D', 'R', 'U', 'U', 'L', 'D', 'D', 'R', 'U', 'U', 'L', 'L', 'D', 'R', 'D', 'R', 'U', 'U', 'L', 'D', 'D', 'R', 'U', 'U', 'L', 'D', 'D', 'R', 'U', 'U', 'L', 'D', 'D', 'R', 'U', 'U', 'L', 'D', 'D', 'R', 'U', 'U', 'L', 'L', 'D', 'D', 'R', 'U', 'U', 'R', 'D', 'D', 'L', 'U', 'U', 'R', 'D', 'D', 'L', 'U', 'U', 'R', 'D', 'D', 'L', 'U', 'U', 'R', 'D', 'D', 'L', 'U', 'U', 'R', 'D', 'L', 'D', 'R', 'U', 'U', 'L', 'D', 'D', 'R', 'U', 'U', 'L', 'D', 'D', 'R', 'U', 'U', 'L', 'D', 'D', 'R', 'U', 'U', 'L', 'D', 'D', 'R', 'U', 'L', 'D', 'R', 'U', 'U', 'L', 'D', 'D', 'R', 'U', 'U', 'L', 'D', 'D', 'R', 'U', 'U', 'L', 'D', 'D', 'R', 'U', 'U', 'L', 'D', 'D', 'R', 'U', 'U', 'L', 'L', 'D', 'D', 'R', 'U', 'U', 'R', 'D', 'D', 'L', 'U', 'U', 'R', 'D', 'D', 'L', 'U', 'U', 'R', 'D', 'D', 'L', 'U', 'U', 'R', 'D', 'D', 'L', 'U', 'U', 'R', 'D', 'L', 'D', 'R', 'U', 'U', 'L', 'D', 'D', 'R', 'U', 'U', 'L', 'D', 'D', 'R', 'U', 'U', 'L', 'D', 'D', 'R', 'U', 'U', 'L', 'D', 'D', 'R', 'U', 'U', 'L', 'L', 'D', 'R', 'D', 'R', 'U', 'U', 'L', 'D', 'D', 'R', 'U', 'U', 'L', 'D', 'D', 'R', 'U', 'U', 'L', 'D', 'D', 'R', 'U', 'U', 'L', 'D', 'D', 'R', 'U', 'U', 'L', 'L', 'D', 'D', 'R', 'U', 'U', 'R', 'D', 'D', 'L', 'U', 'U', 'R', 'D', 'D', 'L', 'U', 'U', 'R', 'D', 'D', 'L', 'U', 'U', 'R', 'D', 'D', 'L', 'U', 'U', 'R', 'D', 'L', 'D', 'R', 'U', 'U', 'L', 'D', 'D', 'R', 'U', 'U', 'L', 'D', 'D', 'R', 'U', 'U', 'L', 'D', 'D', 'R', 'U', 'U', 'L', 'D', 'D', 'R', 'U', 'U', 'L', 'L', 'D', 'D', 'R', 'U', 'U', 'R', 'D', 'D', 'L', 'U', 'U', 'R', 'D', 'D', 'L', 'U', 'U', 'R', 'D', 'D', 'L', 'U', 'U', 'R', 'D', 'D', 'L', 'U', 'U', 'R', 'D', 'L', 'D', 'R', 'U', 'U', 'L', 'D', 'D', 'R', 'U', 'U', 'L', 'D', 'D', 'R', 'U', 'U', 'L', 'D', 'D', 'R', 'U', 'U', 'L', 'D', 'D', 'R', 'U', 'U', 'L', 'L', 'D', 'D', 'R', 'U', 'U', 'R', 'D', 'D', 'L', 'U', 'U', 'R', 'D', 'D', 'L', 'U', 'U', 'R', 'D', 'D', 'L', 'U', 'U', 'R', 'D', 'D', 'L', 'U', 'U', 'R', 'D', 'L', 'D', 'R', 'U', 'U', 'L', 'D', 'D', 'R', 'U', 'U', 'L', 'D', 'D', 'R', 'U', 'U', 'L', 'D', 'D', 'R', 'U', 'U', 'L', 'D', 'D', 'R', 'U', 'U', 'L', 'L', 'D', 'D', 'R', 'U', 'U', 'R', 'D', 'D', 'L', 'U', 'U', 'R', 'D', 'D', 'L', 'U', 'U', 'R', 'D', 'D', 'L', 'U', 'U', 'R', 'D', 'D', 'L', 'U', 'U', 'R', 'D', 'L', 'D', 'R', 'U', 'U', 'L', 'D', 'D', 'R', 'U', 'U', 'L', 'D', 'D', 'R', 'U', 'U', 'L', 'D', 'D', 'R', 'U', 'U', 'L', 'D', 'D', 'R', 'U', 'U', 'L', 'L', 'D', 'D', 'R', 'U', 'U', 'R', 'D', 'D', 'L', 'U', 'U', 'R', 'D', 'D', 'L', 'U', 'U', 'R', 'D', 'D', 'L', 'U', 'U', 'R', 'D', 'D', 'L', 'U', 'U', 'R', 'D', 'L', 'D', 'R', 'U', 'U', 'L', 'D', 'D', 'R', 'U', 'U', 'L', 'D', 'D', 'R', 'U', 'U', 'L', 'D', 'D', 'R', 'U', 'U', 'L', 'D', 'D', 'R', 'U', 'U', 'L', 'L', 'D', 'D', 'R', 'U', 'U', 'R', 'D', 'D', 'L', 'U', 'U', 'R', 'D', 'D', 'L', 'U', 'U', 'R', 'D', 'D', 'L', 'U', 'U', 'R', 'D', 'D', 'L', 'U', 'U', 'R', 'D', 'L', 'D', 'R', 'U', 'U', 'L', 'D', 'D', 'R', 'U', 'U', 'L', 'D', 'D', 'R', 'U', 'U', 'L', 'D', 'D', 'R', 'U', 'U', 'L', 'D', 'D', 'R', 'U', 'U', 'L', 'L', 'D', 'D', 'R', 'U', 'U', 'R', 'D', 'D', 'L', 'U', 'U', 'R', 'D', 'D', 'L', 'U', 'U', 'R', 'D', 'D', 'L', 'U', 'U', 'R', 'D', 'D', 'L', 'U', 'U', 'L', 'D', 'D', 'R', 'U', 'U', 'R', 'D', 'D', 'L', 'U', 'U', 'R', 'D', 'D', 'L', 'U', 'U', 'R', 'D', 'D', 'L', 'U', 'U', 'R', 'D', 'D', 'L', 'U', 'U', 'R', 'D', 'L', 'D', 'R', 'U', 'U', 'L', 'D', 'D', 'R', 'U', 'U', 'L', 'D', 'D', 'R', 'U', 'U', 'L', 'D', 'D', 'R', 'U', 'U', 'L', 'D', 'D', 'R', 'U', 'U', 'L', 'L', 'D', 'D', 'R', 'U', 'U', 'R', 'D', 'D', 'L', 'U', 'U', 'R', 'D', 'D', 'L', 'U', 'U', 'R', 'D', 'D', 'L', 'U', 'U', 'R', 'D', 'D', 'L', 'U', 'U', 'R', 'D', 'L', 'D', 'R', 'U', 'U', 'L', 'D', 'D', 'R', 'U', 'U', 'L', 'D', 'D', 'R', 'U', 'U', 'L', 'D', 'D', 'R', 'U', 'U', 'L', 'D', 'D', 'R', 'U', 'U', 'L', 'L', 'D', 'D', 'R', 'U', 'U', 'R', 'D', 'D', 'L', 'U', 'U', 'R', 'D', 'D', 'L', 'U', 'U', 'R', 'D', 'D', 'L', 'U', 'U', 'R', 'D', 'D', 'L', 'U', 'U', 'R', 'D', 'L', 'D', 'R', 'U', 'U', 'L', 'D', 'D', 'R', 'U', 'U', 'L', 'D', 'D', 'R', 'U', 'U', 'L', 'D', 'D', 'R', 'U', 'U', 'L', 'D', 'D', 'R', 'U', 'U', 'L', 'L', 'D', 'D', 'R', 'U', 'U', 'R', 'D', 'D', 'L', 'U', 'U', 'R', 'D', 'D', 'L', 'U', 'U', 'R', 'D', 'D', 'L', 'U', 'U', 'R', 'D', 'D', 'L', 'U', 'U', 'R', 'D', 'L', 'D', 'R', 'U', 'U', 'L', 'D', 'D', 'R', 'U', 'U', 'L', 'D', 'D', 'R', 'U', 'U', 'L', 'D', 'D', 'R', 'U', 'U', 'L', 'D', 'D', 'R', 'U', 'U', 'L', 'L', 'D', 'D', 'R', 'U', 'U', 'R', 'D', 'D', 'L', 'U', 'U', 'R', 'D', 'D', 'L', 'U', 'U', 'R', 'D', 'D', 'L', 'U', 'U', 'R', 'D', 'D', 'L', 'U', 'U', 'R', 'D', 'L', 'D', 'R', 'U', 'U', 'L', 'D', 'D', 'R', 'U', 'U', 'L', 'D', 'D', 'R', 'U', 'U', 'L', 'D', 'D', 'R', 'U', 'U', 'L', 'D', 'D', 'R', 'U', 'U', 'L', 'L', 'D', 'D', 'R', 'U', 'U', 'R', 'D', 'D', 'L', 'U', 'U', 'R', 'D', 'D', 'L', 'U', 'U', 'R', 'D', 'D', 'L', 'U', 'U', 'R', 'D', 'D', 'L', 'U', 'U', 'R', 'D', 'L', 'D', 'R', 'U', 'U', 'L', 'D', 'D', 'R', 'U', 'U', 'L', 'D', 'D', 'R', 'U', 'U', 'L', 'D', 'D', 'R', 'U', 'U', 'L', 'D', 'D', 'R', 'U', 'U', 'L', 'L', 'D', 'D', 'R', 'U', 'U', 'R', 'D', 'D', 'L', 'U', 'U', 'R', 'D', 'D', 'L', 'U', 'U', 'R', 'D', 'D', 'L', 'U', 'U', 'R', 'D', 'D', 'L', 'U', 'U', 'L', 'D', 'D', 'R', 'U', 'U', 'R', 'D', 'D', 'L', 'U', 'U', 'R', 'D', 'D', 'L', 'U', 'U', 'R', 'D', 'D', 'L', 'U', 'U', 'R', 'D', 'D', 'L', 'U', 'U', 'R', 'D', 'L', 'D', 'R', 'U', 'U', 'L', 'D', 'D', 'R', 'U', 'U', 'L', 'D', 'D', 'R', 'U', 'U', 'L', 'D', 'D', 'R', 'U', 'U', 'L', 'D', 'D', 'R', 'U', 'U', 'L', 'L', 'D', 'D', 'R', 'U', 'U', 'R', 'D', 'D', 'L', 'U', 'U', 'R', 'D', 'D', 'L', 'U', 'U', 'R', 'D', 'D', 'L', 'U', 'U', 'R', 'D', 'D', 'L', 'U', 'U', 'R', 'D', 'L', 'D', 'R', 'U', 'U', 'L', 'D', 'D', 'R', 'U', 'U', 'L', 'D', 'D', 'R', 'U', 'U', 'L', 'D', 'D', 'R', 'U', 'U', 'L', 'D', 'D', 'R', 'U', 'U', 'L', 'L', 'D', 'D', 'R', 'U', 'U', 'R', 'D', 'D', 'L', 'U', 'U', 'R', 'D', 'D', 'L', 'U', 'U', 'R', 'D', 'D', 'L', 'U', 'U', 'R', 'D', 'D', 'L', 'U', 'U', 'R', 'D', 'L', 'D', 'R', 'U', 'U', 'L', 'D', 'D', 'R', 'U', 'U', 'L', 'D', 'D', 'R', 'U', 'U', 'L', 'D', 'D', 'R', 'U', 'U', 'L', 'D', 'D', 'R', 'U', 'U', 'L', 'L', 'D', 'D', 'R', 'U', 'U', 'R', 'D', 'D', 'L', 'U', 'U', 'R', 'D', 'D', 'L', 'U', 'U', 'R', 'D', 'D', 'L', 'U', 'U', 'R', 'D', 'D', 'L', 'U', 'U', 'R', 'D', 'L', 'D', 'R', 'U', 'U', 'L', 'D', 'D', 'R', 'U', 'U', 'L', 'D', 'D', 'R', 'U', 'U', 'L', 'D', 'D', 'R', 'U', 'U', 'L', 'D', 'D', 'R', 'U', 'U', 'L', 'L', 'D', 'D', 'R', 'U', 'U', 'R', 'D', 'D', 'L', 'U', 'U', 'R', 'D', 'D', 'L', 'U', 'U', 'R', 'D', 'D', 'L', 'U', 'U', 'R', 'D', 'D', 'L', 'U', 'U', 'R', 'D', 'L', 'D', 'R', 'U', 'U', 'L', 'D', 'D', 'R', 'U', 'U', 'L', 'D', 'D', 'R', 'U', 'U', 'L', 'D', 'D', 'R', 'U', 'U', 'L', 'D', 'D', 'R', 'U', 'U', 'L', 'L', 'D', 'D', 'R', 'U', 'U', 'R', 'D', 'D', 'L', 'U', 'U', 'R', 'D', 'D', 'L', 'U', 'U', 'R', 'D', 'D', 'L', 'U', 'U', 'R', 'D', 'D', 'L', 'U', 'U', 'R', 'D', 'L', 'D', 'R', 'U', 'U', 'L', 'D', 'D', 'R', 'U', 'U', 'L', 'D', 'D', 'R', 'U', 'U', 'L', 'D', 'D', 'R', 'U', 'U', 'L', 'D', 'D', 'R', 'U', 'U', 'L', 'L', 'D', 'R', 'D', 'R', 'U', 'U', 'L', 'D', 'D', 'R', 'U', 'U', 'L', 'D', 'D', 'R', 'U', 'U', 'L', 'D', 'D', 'R', 'U', 'U', 'L', 'D', 'D', 'R', 'U', 'U', 'L', 'L', 'D', 'D', 'R', 'U', 'U', 'R', 'D', 'D', 'L', 'U', 'U', 'R', 'D', 'D', 'L', 'U', 'U', 'R', 'D', 'D', 'L', 'U', 'U', 'R', 'D', 'D', 'L', 'U', 'U', 'R', 'D', 'L', 'D', 'R', 'U', 'U', 'L', 'D', 'D', 'R', 'U', 'U', 'L', 'D', 'D', 'R', 'U', 'U', 'L', 'D', 'D', 'R', 'U', 'U', 'L', 'D', 'D', 'R', 'U', 'U', 'L', 'L', 'D', 'R', 'D', 'R', 'U', 'U', 'L', 'D', 'D', 'R', 'U', 'U', 'L', 'D', 'D', 'R', 'U', 'U', 'L', 'D', 'D', 'R', 'U', 'U', 'L', 'D', 'D', 'R', 'U', 'U', 'L', 'L', 'D', 'R', 'D', 'R', 'U', 'U', 'L', 'D', 'D', 'R', 'U', 'U', 'L', 'D', 'D', 'R', 'U', 'U', 'L', 'D', 'D', 'R', 'U', 'U', 'L', 'D', 'D', 'R', 'U', 'U', 'L', 'L', 'D', 'D', 'R', 'U', 'U', 'R', 'D', 'D', 'L', 'U', 'U', 'R', 'D', 'D', 'L', 'U', 'U', 'R', 'D', 'D', 'L', 'U', 'U', 'R', 'D', 'D', 'L', 'U', 'U', 'R', 'D', 'L', 'D', 'R', 'U', 'U', 'L', 'D', 'D', 'R', 'U', 'U', 'L', 'D', 'D', 'R', 'U', 'U', 'L', 'D', 'D', 'R', 'U', 'U', 'L', 'D', 'D', 'R', 'U', 'U', 'L', 'L', 'D', 'R', 'D', 'R', 'U', 'U', 'L', 'D', 'D', 'R', 'U', 'U', 'L', 'D', 'D', 'R', 'U', 'U', 'L', 'D', 'D', 'R', 'U', 'U', 'L', 'D', 'D', 'R', 'U', 'U', 'L', 'L', 'D', 'D', 'R', 'U', 'U', 'R', 'D', 'D', 'L', 'U', 'U', 'R', 'D', 'D', 'L', 'U', 'U', 'R', 'D', 'D', 'L', 'U', 'U', 'R', 'D', 'D', 'L', 'U', 'U', 'R', 'D', 'L', 'D', 'R', 'U', 'U', 'L', 'D', 'D', 'R', 'U', 'U', 'L', 'D', 'D', 'R', 'U', 'U', 'L', 'D', 'D', 'R', 'U', 'U', 'L', 'D', 'D', 'R', 'U', 'U', 'L', 'L', 'D', 'D', 'R', 'U', 'U', 'R', 'D', 'D', 'L', 'U', 'U', 'R', 'D', 'D', 'L', 'U', 'U', 'R', 'D', 'D', 'L', 'U', 'U', 'R', 'D', 'D', 'L', 'U', 'U', 'L', 'D', 'D', 'R', 'U', 'U', 'R', 'D', 'D', 'L', 'U', 'U', 'R', 'D', 'D', 'L', 'U', 'U', 'R', 'D', 'D', 'L', 'U', 'U', 'R', 'D', 'D', 'L', 'U', 'U', 'R', 'D', 'L', 'D', 'R', 'U', 'U', 'L', 'D', 'D', 'R', 'U', 'U', 'L', 'D', 'D', 'R', 'U', 'U', 'L', 'D', 'D', 'R', 'U', 'U', 'L', 'D', 'D', 'R', 'U', 'U', 'L', 'L', 'D', 'D', 'R', 'U', 'U', 'R', 'D', 'D', 'L', 'U', 'U', 'R', 'D', 'D', 'L', 'U', 'U', 'R', 'D', 'D', 'L', 'U', 'U', 'R', 'D', 'D', 'L', 'U', 'U', 'R', 'D', 'L', 'D', 'R', 'U', 'U', 'L', 'D', 'D', 'R', 'U', 'U', 'L', 'D', 'D', 'R', 'U', 'U', 'L', 'D', 'D', 'R', 'U', 'U', 'L', 'D', 'D', 'R', 'U', 'U', 'L', 'L', 'D', 'D', 'R', 'U', 'U', 'R', 'D', 'D', 'L', 'U', 'U', 'R', 'D', 'D', 'L', 'U', 'U', 'R', 'D', 'D', 'L', 'U', 'U', 'R', 'D', 'D', 'L', 'U', 'U', 'R', 'D', 'L', 'D', 'R', 'U', 'U', 'L', 'D', 'D', 'R', 'U', 'U', 'L', 'D', 'D', 'R', 'U', 'U', 'L', 'D', 'D', 'R', 'U', 'U', 'L', 'D', 'D', 'R', 'U', 'U', 'L', 'L', 'D', 'D', 'R', 'U', 'U', 'R', 'D', 'D', 'L', 'U', 'U', 'R', 'D', 'D', 'L', 'U', 'U', 'R', 'D', 'D', 'L', 'U', 'U', 'R', 'D', 'D', 'L', 'U', 'U', 'R', 'D', 'L', 'D', 'R', 'U', 'U', 'L', 'D', 'D', 'R', 'U', 'U', 'L', 'D', 'D', 'R', 'U', 'U', 'L', 'D', 'D', 'R', 'U', 'U', 'L', 'D', 'D', 'R', 'U', 'U', 'L', 'L', 'D', 'D', 'R', 'U', 'U', 'R', 'D', 'D', 'L', 'U', 'U', 'R', 'D', 'D', 'L', 'U', 'U', 'R', 'D', 'D', 'L', 'U', 'U', 'R', 'D', 'D', 'L', 'U', 'U', 'R', 'D', 'L', 'D', 'R', 'U', 'U', 'L', 'D', 'D', 'R', 'U', 'U', 'L', 'D', 'D', 'R', 'U', 'U', 'L', 'D', 'D', 'R', 'U', 'U', 'L', 'D', 'D', 'R', 'U', 'U', 'L', 'L', 'D', 'R', 'D', 'R', 'U', 'U', 'L', 'D', 'D', 'R', 'U', 'U', 'L', 'D', 'D', 'R', 'U', 'U', 'L', 'D', 'D', 'R', 'U', 'U', 'L', 'D', 'D', 'R', 'U', 'U', 'L', 'L', 'D', 'D', 'R', 'U', 'U', 'R', 'D', 'D', 'L', 'U', 'U', 'R', 'D', 'D', 'L', 'U', 'U', 'R', 'D', 'D', 'L', 'U', 'U', 'R', 'D', 'D', 'L', 'U', 'U', 'R', 'D', 'L', 'D', 'R', 'U', 'U', 'L', 'D', 'D', 'R', 'U', 'U', 'L', 'D', 'D', 'R', 'U', 'U', 'L', 'D', 'D', 'R', 'U', 'U', 'L', 'D', 'D', 'R', 'U', 'U', 'L', 'L', 'D', 'R', 'D', 'R', 'U', 'U', 'L', 'D', 'D', 'R', 'U', 'U', 'L', 'D', 'D', 'R', 'U', 'U', 'L', 'D', 'D', 'R', 'U', 'U', 'L', 'D', 'D', 'R', 'U', 'U', 'L', 'L', 'D', 'D', 'R', 'U', 'U', 'R', 'D', 'D', 'L', 'U', 'U', 'R', 'D', 'D', 'L', 'U', 'U', 'R', 'D', 'D', 'L', 'U', 'U', 'R', 'D', 'D', 'L', 'U', 'U', 'R', 'D', 'L', 'D', 'R', 'U', 'U', 'L', 'D', 'D', 'R', 'U', 'U', 'L', 'D', 'D', 'R', 'U', 'U', 'L', 'D', 'D', 'R', 'U', 'U', 'L', 'D', 'D', 'R', 'U', 'U', 'L', 'L', 'D', 'D', 'R', 'U', 'U', 'R', 'D', 'D', 'L', 'U', 'U', 'R', 'D', 'D', 'L', 'U', 'U', 'R', 'D', 'D', 'L', 'U', 'U', 'R', 'D', 'D', 'L', 'U', 'U', 'R', 'D', 'L', 'D', 'R', 'U', 'U', 'L', 'D', 'D', 'R', 'U', 'U', 'L', 'D', 'D', 'R', 'U', 'U', 'L', 'D', 'D', 'R', 'U', 'U', 'L', 'D', 'D', 'R', 'U', 'U', 'L', 'L', 'D', 'D', 'R', 'U', 'U', 'R', 'D', 'D', 'L', 'U', 'U', 'R', 'D', 'D', 'L', 'U', 'U', 'R', 'D', 'D', 'L', 'U', 'U', 'R', 'D', 'D', 'L', 'U', 'U', 'R', 'D', 'L', 'D', 'R', 'U', 'U', 'L', 'D', 'D', 'R', 'U', 'U', 'L', 'D', 'D', 'R', 'U', 'U', 'L', 'D', 'D', 'R', 'U', 'U', 'L', 'D', 'D', 'R', 'U', 'U', 'L', 'L', 'D', 'D', 'R', 'U', 'U', 'R', 'D', 'D', 'L', 'U', 'U', 'R', 'D', 'D', 'L', 'U', 'U', 'R', 'D', 'D', 'L', 'U', 'U', 'R', 'D', 'D', 'L', 'U', 'U', 'L', 'D', 'D', 'R', 'U', 'U', 'R', 'D', 'D', 'L', 'U', 'U', 'R', 'D', 'D', 'L', 'U', 'U', 'R', 'D', 'D', 'L', 'U', 'U', 'R', 'D', 'D', 'L', 'U', 'U', 'R', 'D', 'L', 'D', 'R', 'U', 'U', 'L', 'D', 'D', 'R', 'U', 'U', 'L', 'D', 'D', 'R', 'U', 'U', 'L', 'D', 'D', 'R', 'U', 'U', 'L', 'D', 'D', 'R', 'U', 'U', 'L', 'L', 'D', 'D', 'R', 'U', 'U', 'R', 'D', 'D', 'L', 'U', 'U', 'R', 'D', 'D', 'L', 'U', 'U', 'R', 'D', 'D', 'L', 'U', 'U', 'R', 'D', 'D', 'L', 'U', 'U', 'R', 'D', 'L', 'D', 'R', 'U', 'U', 'L', 'D', 'D', 'R', 'U', 'U', 'L', 'D', 'D', 'R', 'U', 'U', 'L', 'D', 'D', 'R', 'U', 'U', 'L', 'D', 'D', 'R', 'U', 'U', 'L', 'L', 'D', 'D', 'R', 'U', 'U', 'R', 'D', 'D', 'L', 'U', 'U', 'R', 'D', 'D', 'L', 'U', 'U', 'R', 'D', 'D', 'L', 'U', 'U', 'R', 'D', 'D', 'L', 'U', 'U', 'R', 'D', 'L', 'D', 'R', 'U', 'U', 'L', 'D', 'D', 'R', 'U', 'U', 'L', 'D', 'D', 'R', 'U', 'U', 'L', 'D', 'D', 'R', 'U', 'U', 'L', 'D', 'D', 'R', 'U', 'U', 'L', 'L', 'D', 'D', 'R', 'U', 'U', 'R', 'D', 'D', 'L', 'U', 'U', 'R', 'D', 'D', 'L', 'U', 'U', 'R', 'D', 'D', 'L', 'U', 'U', 'R', 'D', 'D', 'L', 'U', 'U', 'R', 'D', 'L', 'D', 'R', 'U', 'U', 'L', 'D', 'D', 'R', 'U', 'U', 'L', 'D', 'D', 'R', 'U', 'U', 'L', 'D', 'D', 'R', 'U', 'U', 'L', 'D', 'D', 'R', 'U', 'U', 'L', 'L', 'D', 'D', 'R', 'U', 'U', 'R', 'D', 'D', 'L', 'U', 'U', 'R', 'D', 'D', 'L', 'U', 'U', 'R', 'D', 'D', 'L', 'U', 'U', 'R', 'D', 'D', 'L', 'U', 'U', 'R', 'D', 'L', 'D', 'R', 'U', 'U', 'L', 'D', 'D', 'R', 'U', 'U', 'L', 'D', 'D', 'R', 'U', 'U', 'L', 'D', 'D', 'R', 'U', 'U', 'L', 'D', 'D', 'R', 'U', 'U', 'L', 'L', 'D', 'D', 'R', 'U', 'U', 'R', 'D', 'D', 'L', 'U', 'U', 'R', 'D', 'D', 'L', 'U', 'U', 'R', 'D', 'D', 'L', 'U', 'U', 'R', 'D', 'D', 'L', 'U', 'U', 'R', 'D', 'L', 'D', 'R', 'U', 'U', 'L', 'D', 'D', 'R', 'U', 'U', 'L', 'D', 'D', 'R', 'U', 'U', 'L', 'D', 'D', 'R', 'U', 'U', 'L', 'D', 'D', 'R', 'U', 'U', 'L', 'L', 'D', 'D', 'R', 'U', 'U', 'R', 'D', 'D', 'L', 'U', 'U', 'R', 'D', 'D', 'L', 'U', 'U', 'R', 'D', 'D', 'L', 'U', 'U', 'R', 'D', 'D', 'L', 'U', 'U', 'L', 'D', 'D', 'R', 'U', 'U', 'R', 'D', 'D', 'L', 'U', 'U', 'R', 'D', 'D', 'L', 'U', 'U', 'R', 'D', 'D', 'L', 'U', 'U', 'R', 'D', 'D', 'L', 'U', 'U', 'R', 'D', 'L', 'D', 'R', 'U', 'U', 'L', 'D', 'D', 'R', 'U', 'U', 'L', 'D', 'D', 'R', 'U', 'U', 'L', 'D', 'D', 'R', 'U', 'U', 'L', 'D', 'D', 'R', 'U', 'U', 'L', 'L', 'D', 'D', 'R', 'U', 'U', 'R', 'D', 'D', 'L', 'U', 'U', 'R', 'D', 'D', 'L', 'U', 'U', 'R', 'D', 'D', 'L', 'U', 'U', 'R', 'D', 'D', 'L', 'U', 'U', 'R', 'D', 'L', 'D', 'R', 'U', 'U', 'L', 'D', 'D', 'R', 'U', 'U', 'L', 'D', 'D', 'R', 'U', 'U', 'L', 'D', 'D', 'R', 'U', 'U', 'L', 'D', 'D', 'R', 'U', 'U', 'L', 'L', 'D', 'D', 'R', 'U', 'U', 'R', 'D', 'D', 'L', 'U', 'U', 'R', 'D', 'D', 'L', 'U', 'U', 'R', 'D', 'D', 'L', 'U', 'U', 'R', 'D', 'D', 'L', 'U', 'U', 'R', 'D', 'L', 'D', 'R', 'U', 'U', 'L', 'D', 'D', 'R', 'U', 'U', 'L', 'D', 'D', 'R', 'U', 'U', 'L', 'D', 'D', 'R', 'U', 'U', 'L', 'D', 'D', 'R', 'U', 'U', 'L', 'L', 'D', 'D', 'R', 'U', 'U', 'R', 'D', 'D', 'L', 'U', 'U', 'R', 'D', 'D', 'L', 'U', 'U', 'R', 'D', 'D', 'L', 'U', 'U', 'R', 'D', 'D', 'L', 'U', 'U', 'R', 'D', 'L', 'D', 'R', 'U', 'U', 'L', 'D', 'D', 'R', 'U', 'U', 'L', 'D', 'D', 'R', 'U', 'U', 'L', 'D', 'D', 'R', 'U', 'U', 'L', 'D', 'D', 'R', 'U', 'U', 'L', 'L', 'D', 'R', 'D', 'R', 'U', 'U', 'L', 'D', 'D', 'R', 'U', 'U', 'L', 'D', 'D', 'R', 'U', 'U', 'L', 'D', 'D', 'R', 'U', 'U', 'L', 'D', 'D', 'R', 'U', 'U', 'L', 'L', 'D', 'D', 'R', 'U', 'U', 'R', 'D', 'D', 'L', 'U', 'U', 'R', 'D', 'D', 'L', 'U', 'U', 'R', 'D', 'D', 'L', 'U', 'U', 'R', 'D', 'D', 'L', 'U', 'U', 'R', 'D', 'L', 'D', 'R', 'U', 'U', 'L', 'D', 'D', 'R', 'U', 'U', 'L', 'D', 'D', 'R', 'U', 'U', 'L', 'D', 'D', 'R', 'U', 'U', 'L', 'D', 'D', 'R', 'U', 'U', 'L', 'L', 'D', 'D', 'R', 'U', 'U', 'R', 'D', 'D', 'L', 'U', 'U', 'R', 'D', 'D', 'L', 'U', 'U', 'R', 'D', 'D', 'L', 'U', 'U', 'R', 'D', 'D', 'L', 'U', 'U', 'R', 'D', 'L', 'D', 'R', 'U', 'U', 'L', 'D', 'D', 'R', 'U', 'U', 'L', 'D', 'D', 'R', 'U', 'U', 'L', 'D', 'D', 'R', 'U', 'U', 'L', 'D', 'D', 'R', 'U', 'U', 'L', 'L', 'D', 'R', 'D', 'R', 'U', 'U', 'L', 'D', 'D', 'R', 'U', 'U', 'L', 'D', 'D', 'R', 'U', 'U', 'L', 'D', 'D', 'R', 'U', 'U', 'L', 'D', 'D', 'R', 'U', 'U', 'L', 'L', 'D', 'D', 'R', 'U', 'U', 'R', 'D', 'D', 'L', 'U', 'U', 'R', 'D', 'D', 'L', 'U', 'U', 'R', 'D', 'D', 'L', 'U', 'U', 'R', 'D', 'D', 'L', 'U', 'U', 'R', 'D', 'L', 'D', 'R', 'U', 'U', 'L', 'D', 'D', 'R', 'U', 'U', 'L', 'D', 'D', 'R', 'U', 'U', 'L', 'D', 'D', 'R', 'U', 'U', 'L', 'D', 'D', 'R', 'U', 'U', 'L', 'L', 'D', 'D', 'R', 'U', 'U', 'R', 'D', 'D', 'L', 'U', 'U', 'R', 'D', 'D', 'L', 'U', 'U', 'R', 'D', 'D', 'L', 'U', 'U', 'R', 'D', 'D', 'L', 'U', 'U', 'R', 'D', 'L', 'D', 'R', 'U', 'U', 'L', 'D', 'D', 'R', 'U', 'U', 'L', 'D', 'D', 'R', 'U', 'U', 'L', 'D', 'D', 'R', 'U', 'U', 'L', 'D', 'D', 'R', 'U', 'U', 'L', 'L', 'D', 'D', 'R', 'U', 'U', 'R', 'D', 'D', 'L', 'U', 'U', 'R', 'D', 'D', 'L', 'U', 'U', 'R', 'D', 'D', 'L', 'U', 'U', 'R', 'D', 'D', 'L', 'U', 'U', 'R', 'D', 'L', 'D', 'R', 'U', 'U', 'L', 'D', 'D', 'R', 'U', 'U', 'L', 'D', 'D', 'R', 'U', 'U', 'L', 'D', 'D', 'R', 'U', 'U', 'L', 'D', 'D', 'R', 'U', 'U', 'L', 'L', 'D', 'D', 'R', 'U', 'U', 'R', 'D', 'D', 'L', 'U', 'U', 'R', 'D', 'D', 'L', 'U', 'U', 'R', 'D', 'D', 'L', 'U', 'U', 'R', 'D', 'D', 'L', 'U', 'U', 'R', 'D', 'L', 'D', 'R', 'U', 'U', 'L', 'D', 'D', 'R', 'U', 'U', 'L', 'D', 'D', 'R', 'U', 'U', 'L', 'D', 'D', 'R', 'U', 'U', 'L', 'D', 'D', 'R', 'U', 'U', 'L', 'L', 'D', 'D', 'R', 'U', 'U', 'R', 'D', 'D', 'L', 'U', 'U', 'R', 'D', 'D', 'L', 'U', 'U', 'R', 'D', 'D', 'L', 'U', 'U', 'R', 'D', 'D', 'L', 'U', 'U', 'L', 'D', 'D', 'R', 'U', 'U', 'R', 'D', 'D', 'L', 'U', 'U', 'R', 'D', 'D', 'L', 'U', 'U', 'R', 'D', 'D', 'L', 'U', 'U', 'R', 'D', 'D', 'L', 'U', 'U', 'R', 'D', 'L', 'D', 'R', 'U', 'U', 'L', 'D', 'D', 'R', 'U', 'U', 'L', 'D', 'D', 'R', 'U', 'U', 'L', 'D', 'D', 'R', 'U', 'U', 'L', 'D', 'D', 'R', 'U', 'U', 'L', 'L', 'D', 'D', 'R', 'U', 'U', 'R', 'D', 'D', 'L', 'U', 'U', 'R', 'D', 'D', 'L', 'U', 'U', 'R', 'D', 'D', 'L', 'U', 'U', 'R', 'D', 'D', 'L', 'U', 'U', 'R', 'D', 'L', 'D', 'R', 'U', 'U', 'L', 'D', 'D', 'R', 'U', 'U', 'L', 'D', 'D', 'R', 'U', 'U', 'L', 'D', 'D', 'R', 'U', 'U', 'L', 'D', 'D', 'R', 'U', 'U', 'L', 'L', 'D', 'D', 'R', 'U', 'U', 'R', 'D', 'D', 'L', 'U', 'U', 'R', 'D', 'D', 'L', 'U', 'U', 'R', 'D', 'D', 'L', 'U', 'U', 'R', 'D', 'D', 'L', 'U', 'U', 'R', 'D', 'L', 'D', 'R', 'U', 'U', 'L', 'D', 'D', 'R', 'U', 'U', 'L', 'D', 'D', 'R', 'U', 'U', 'L', 'D', 'D', 'R', 'U', 'U', 'L', 'D', 'D', 'R', 'U', 'U', 'L', 'L', 'D', 'R', 'D', 'R', 'U', 'U', 'L', 'D', 'D', 'R', 'U', 'U', 'L', 'D', 'D', 'R', 'U', 'U', 'L', 'D', 'D', 'R', 'U', 'U', 'L', 'D', 'D', 'R', 'U', 'U', 'L', 'L', 'D', 'D', 'R', 'U', 'U', 'R', 'D', 'D', 'L', 'U', 'U', 'R', 'D', 'D', 'L', 'U', 'U', 'R', 'D', 'D', 'L', 'U', 'U', 'R', 'D', 'D', 'L', 'U', 'U', 'R', 'D', 'L', 'D', 'R', 'U', 'U', 'L', 'D', 'D', 'R', 'U', 'U', 'L', 'D', 'D', 'R', 'U', 'U', 'L', 'D', 'D', 'R', 'U', 'U', 'L', 'D', 'D', 'R', 'U', 'U', 'L', 'L', 'D', 'D', 'R', 'U', 'U', 'R', 'D', 'D', 'L', 'U', 'U', 'R', 'D', 'D', 'L', 'U', 'U', 'R', 'D', 'D', 'L', 'U', 'U', 'R', 'D', 'D', 'L', 'U', 'U', 'R', 'D', 'L', 'D', 'R', 'U', 'U', 'L', 'D', 'D', 'R', 'U', 'U', 'L', 'D', 'D', 'R', 'U', 'U', 'L', 'D', 'D', 'R', 'U', 'U', 'L', 'D', 'D', 'R', 'U', 'U', 'L', 'L', 'D', 'D', 'R', 'U', 'U', 'R', 'D', 'D', 'L', 'U', 'U', 'R', 'D', 'D', 'L', 'U', 'U', 'R', 'D', 'D', 'L', 'U', 'U', 'R', 'D', 'D', 'L', 'U', 'U', 'R', 'D', 'L', 'D', 'R', 'U', 'U', 'L', 'D', 'D', 'R', 'U', 'U', 'L', 'D', 'D', 'R', 'U', 'U', 'L', 'D', 'D', 'R', 'U', 'U', 'L', 'D', 'D', 'R', 'U', 'U', 'L', 'L', 'D', 'D', 'R', 'U', 'U', 'R', 'D', 'D', 'L', 'U', 'U', 'R', 'D', 'D', 'L', 'U', 'U', 'R', 'D', 'D', 'L', 'U', 'U', 'R', 'D', 'D', 'L', 'U', 'U', 'R', 'D', 'L', 'D', 'R', 'U', 'U', 'L', 'D', 'D', 'R', 'U', 'U', 'L', 'D', 'D', 'R', 'U', 'U', 'L', 'D', 'D', 'R', 'U', 'U', 'L', 'D', 'D', 'R', 'U', 'U', 'L', 'L', 'D', 'D', 'R', 'U', 'U', 'R', 'D', 'D', 'L', 'U', 'U', 'R', 'D', 'D', 'L', 'U', 'U', 'R', 'D', 'D', 'L', 'U', 'U', 'R', 'D', 'D', 'L', 'U', 'U', 'R', 'D', 'L', 'D', 'R', 'U', 'U', 'L', 'D', 'D', 'R', 'U', 'U', 'L', 'D', 'D', 'R', 'U', 'U', 'L', 'D', 'D', 'R', 'U', 'U', 'L', 'D', 'D', 'R', 'U', 'U', 'L', 'L', 'D', 'D', 'R', 'U', 'U', 'R', 'D', 'D', 'L', 'U', 'U', 'R', 'D', 'D', 'L', 'U', 'U', 'R', 'D', 'D', 'L', 'U', 'U', 'R', 'D', 'D', 'L', 'U', 'U', 'L', 'D', 'D', 'R', 'U', 'U', 'R', 'D', 'D', 'L', 'U', 'U', 'R', 'D', 'D', 'L', 'U', 'U', 'R', 'D', 'D', 'L', 'U', 'U', 'R', 'D', 'D', 'L', 'U', 'U', 'R', 'D', 'L', 'D', 'R', 'U', 'U', 'L', 'D', 'D', 'R', 'U', 'U', 'L', 'D', 'D', 'R', 'U', 'U', 'L', 'D', 'D', 'R', 'U', 'U', 'L', 'D', 'D', 'R', 'U', 'U', 'L', 'L', 'D', 'D', 'R', 'U', 'U', 'R', 'D', 'D', 'L', 'U', 'U', 'R', 'D', 'D', 'L', 'U', 'U', 'R', 'D', 'D', 'L', 'U', 'U', 'R', 'D', 'D', 'L', 'U', 'U', 'R', 'D', 'L', 'D', 'R', 'U', 'U', 'L', 'D', 'D', 'R', 'U', 'U', 'L', 'D', 'D', 'R', 'U', 'U', 'L', 'D', 'D', 'R', 'U', 'U', 'L', 'D', 'D', 'R', 'U', 'U', 'L', 'L', 'D', 'D', 'R', 'U', 'U', 'R', 'D', 'D', 'L', 'U', 'U', 'R', 'D', 'D', 'L', 'U', 'U', 'R', 'D', 'D', 'L', 'U', 'U', 'R', 'D', 'D', 'L', 'U', 'U', 'R', 'D', 'L', 'D', 'R', 'U', 'U', 'L', 'D', 'D', 'R', 'U', 'U', 'L', 'D', 'D', 'R', 'U', 'U', 'L', 'D', 'D', 'R', 'U', 'U', 'L', 'D', 'D', 'R', 'U', 'U', 'L', 'L', 'D', 'D', 'R', 'U', 'U', 'R', 'D', 'D', 'L', 'U', 'U', 'R', 'D', 'D', 'L', 'U', 'U', 'R', 'D', 'D', 'L', 'U', 'U', 'R', 'D', 'D', 'L', 'U', 'U', 'R', 'D', 'L', 'D', 'R', 'U', 'U', 'L', 'D', 'D', 'R', 'U', 'U', 'L', 'D', 'D', 'R', 'U', 'U', 'L', 'D', 'D', 'R', 'U', 'U', 'L', 'D', 'D', 'R', 'U', 'U', 'L', 'L', 'D', 'D', 'R', 'U', 'U', 'R', 'D', 'D', 'L', 'U', 'U', 'R', 'D', 'D', 'L', 'U', 'U', 'R', 'D', 'D', 'L', 'U', 'U', 'R', 'D', 'D', 'L', 'U', 'U', 'R', 'D', 'L', 'D', 'R', 'U', 'U', 'L', 'D', 'D', 'R', 'U', 'U', 'L', 'D', 'D', 'R', 'U', 'U', 'L', 'D', 'D', 'R', 'U', 'U', 'L', 'D', 'D', 'R', 'U', 'U', 'L', 'L', 'D', 'D', 'R', 'U', 'U', 'R', 'D', 'D', 'L', 'U', 'U', 'R', 'D', 'D', 'L', 'U', 'U', 'R', 'D', 'D', 'L', 'U', 'U', 'R', 'D', 'D', 'L', 'U', 'U', 'R', 'D', 'L', 'D', 'R', 'U', 'U', 'L', 'D', 'D', 'R', 'U', 'U', 'L', 'D', 'D', 'R', 'U', 'U', 'L', 'D', 'D', 'R', 'U', 'U', 'L', 'D', 'D', 'R', 'U', 'U', 'L', 'L', 'D', 'R', 'D', 'R', 'U', 'U', 'L', 'D', 'D', 'R', 'U', 'U', 'L', 'D', 'D', 'R', 'U', 'U', 'L', 'D', 'D', 'R', 'U', 'U', 'L', 'D', 'D', 'R', 'U', 'U', 'L', 'L', 'D', 'D', 'R', 'U', 'U', 'R', 'D', 'D', 'L', 'U', 'U', 'R', 'D', 'D', 'L', 'U', 'U', 'R', 'D', 'D', 'L', 'U', 'U', 'R', 'D', 'D', 'L', 'U', 'U', 'R', 'D', 'L', 'D', 'R', 'U', 'U', 'L', 'D', 'D', 'R', 'U', 'U', 'L', 'D', 'D', 'R', 'U', 'U', 'L', 'D', 'D', 'R', 'U', 'U', 'L', 'D', 'D', 'R', 'U', 'U', 'L', 'L', 'D', 'R', 'D', 'R', 'U', 'U', 'L', 'D', 'D', 'R', 'U', 'U', 'L', 'D', 'D', 'R', 'U', 'U', 'L', 'D', 'D', 'R', 'U', 'U', 'L', 'D', 'D', 'R', 'U', 'U', 'L', 'L', 'D', 'D', 'R', 'U', 'U', 'R', 'D', 'D', 'L', 'U', 'U', 'R', 'D', 'D', 'L', 'U', 'U', 'R', 'D', 'D', 'L', 'U', 'U', 'R', 'D', 'D', 'L', 'U', 'U', 'R', 'D', 'L', 'D', 'R', 'U', 'U', 'L', 'D', 'D', 'R', 'U', 'U', 'L', 'D', 'D', 'R', 'U', 'U', 'L', 'D', 'D', 'R', 'U', 'U', 'L', 'D', 'D', 'R', 'U', 'U', 'L', 'L', 'D', 'D', 'R', 'U', 'U', 'R', 'D', 'D', 'L', 'U', 'U', 'R', 'D', 'D', 'L', 'U', 'U', 'R', 'D', 'D', 'L', 'U', 'U', 'R', 'D', 'D', 'L', 'U', 'U', 'R', 'D', 'L', 'D', 'R', 'U', 'U', 'L', 'D', 'D', 'R', 'U', 'U', 'L', 'D', 'D', 'R', 'U', 'U', 'L', 'D', 'D', 'R', 'U', 'U', 'L', 'D', 'D', 'R', 'U', 'U', 'L', 'L', 'D', 'D', 'R', 'U', 'U', 'R', 'D', 'D', 'L', 'U', 'U', 'R', 'D', 'D', 'L', 'U', 'U', 'R', 'D', 'D', 'L', 'U', 'U', 'R', 'D', 'D', 'L', 'U', 'U', 'L', 'D', 'D', 'R', 'U', 'U', 'R', 'D', 'D', 'L', 'U', 'U', 'R', 'D', 'D', 'L', 'U', 'U', 'R', 'D', 'D', 'L', 'U', 'U', 'R', 'D', 'D', 'L', 'U', 'U', 'R', 'D', 'L', 'D', 'R', 'U', 'U', 'L', 'D', 'D', 'R', 'U', 'U', 'L', 'D', 'D', 'R', 'U', 'U', 'L', 'D', 'D', 'R', 'U', 'U', 'L', 'D', 'D', 'R', 'U', 'U', 'L', 'L', 'D', 'D', 'R', 'U', 'U', 'R', 'D', 'D', 'L', 'U', 'U', 'R', 'D', 'D', 'L', 'U', 'U', 'R', 'D', 'D', 'L', 'U', 'U', 'R', 'D', 'D', 'L', 'U', 'U', 'R', 'D', 'L', 'D', 'R', 'U', 'U', 'L', 'D', 'D', 'R', 'U', 'U', 'L', 'D', 'D', 'R', 'U', 'U', 'L', 'D', 'D', 'R', 'U', 'U', 'L', 'D', 'D', 'R', 'U', 'U', 'L', 'L', 'D', 'D', 'R', 'U', 'U', 'R', 'D', 'D', 'L', 'U', 'U', 'R', 'D', 'D', 'L', 'U', 'U', 'R', 'D', 'D', 'L', 'U', 'U', 'R', 'D', 'D', 'L', 'U', 'U', 'R', 'D', 'L', 'D', 'R', 'U', 'U', 'L', 'D', 'D', 'R', 'U', 'U', 'L', 'D', 'D', 'R', 'U', 'U', 'L', 'D', 'D', 'R', 'U', 'U', 'L', 'D', 'D', 'R', 'U', 'U', 'L', 'L', 'D', 'D', 'R', 'U', 'U', 'R', 'D', 'D', 'L', 'U', 'U', 'R', 'D', 'D', 'L', 'U', 'U', 'R', 'D', 'D', 'L', 'U', 'U', 'R', 'D', 'D', 'L', 'U', 'U', 'R', 'D', 'L', 'D', 'R', 'U', 'U', 'L', 'D', 'D', 'R', 'U', 'U', 'L', 'D', 'D', 'R', 'U', 'U', 'L', 'D', 'D', 'R', 'U', 'U', 'L', 'D', 'D', 'R', 'U', 'L', 'D', 'R', 'U', 'U', 'L', 'D', 'D', 'R', 'U', 'U', 'L', 'D', 'D', 'R', 'U', 'U', 'L', 'D', 'D', 'R', 'U', 'U', 'L', 'D', 'D', 'R', 'U', 'U', 'L', 'L', 'D', 'D', 'R', 'U', 'U', 'R', 'D', 'D', 'L', 'U', 'U', 'R', 'D', 'D', 'L', 'U', 'U', 'R', 'D', 'D', 'L', 'U', 'U', 'R', 'D', 'D', 'L', 'U', 'U', 'R', 'D', 'L', 'D', 'R', 'U', 'U', 'L', 'D', 'D', 'R', 'U', 'U', 'L', 'D', 'D', 'R', 'U', 'U', 'L', 'D', 'D', 'R', 'U', 'U', 'L', 'D', 'D', 'R', 'U', 'U', 'L', 'L', 'D', 'R', 'D', 'R', 'U', 'U', 'L', 'D', 'D', 'R', 'U', 'U', 'L', 'D', 'D', 'R', 'U', 'U', 'L', 'D', 'D', 'R', 'U', 'U', 'L', 'D', 'D', 'R', 'U', 'U', 'L', 'L', 'D', 'R', 'D', 'R', 'U', 'U', 'L', 'D', 'D', 'R', 'U', 'U', 'L', 'D', 'D', 'R', 'U', 'U', 'L', 'D', 'D', 'R', 'U', 'U', 'L', 'D', 'D', 'R', 'U', 'U', 'L', 'L', 'D', 'D', 'R', 'U', 'U', 'R', 'D', 'D', 'L', 'U', 'U', 'R', 'D', 'D', 'L', 'U', 'U', 'R', 'D', 'D', 'L', 'U', 'U', 'R', 'D', 'D', 'L', 'U', 'U', 'R', 'D', 'L', 'D', 'R', 'U', 'U', 'L', 'D', 'D', 'R', 'U', 'U', 'L', 'D', 'D', 'R', 'U', 'U', 'L', 'D', 'D', 'R', 'U', 'U', 'L', 'D', 'D', 'R', 'U', 'U', 'L', 'L', 'D', 'D', 'R', 'U', 'U', 'R', 'D', 'D', 'L', 'U', 'U', 'R', 'D', 'D', 'L', 'U', 'U', 'R', 'D', 'D', 'L', 'U', 'U', 'R', 'D', 'D', 'L', 'U', 'U', 'R', 'D', 'L', 'D', 'R', 'U', 'U', 'L', 'D', 'D', 'R', 'U', 'U', 'L', 'D', 'D', 'R', 'U', 'U', 'L', 'D', 'D', 'R', 'U', 'U', 'L', 'D', 'D', 'R', 'U', 'U', 'L', 'L', 'D', 'D', 'R', 'U', 'U', 'R', 'D', 'D', 'L', 'U', 'U', 'R', 'D', 'D', 'L', 'U', 'U', 'R', 'D', 'D', 'L', 'U', 'U', 'R', 'D', 'D', 'L', 'U', 'U', 'R', 'D', 'L', 'D', 'R', 'U', 'U', 'L', 'D', 'D', 'R', 'U', 'U', 'L', 'D', 'D', 'R', 'U', 'U', 'L', 'D', 'D', 'R', 'U', 'U', 'L', 'D', 'D', 'R', 'U', 'U', 'L', 'L', 'D', 'D', 'R', 'U', 'U', 'R', 'D', 'D', 'L', 'U', 'U', 'R', 'D', 'D', 'L', 'U', 'U', 'R', 'D', 'D', 'L', 'U', 'U', 'R', 'D', 'D', 'L', 'U', 'U', 'R', 'D', 'L', 'D', 'R', 'U', 'U', 'L', 'D', 'D', 'R', 'U', 'U', 'L', 'D', 'D', 'R', 'U', 'U', 'L', 'D', 'D', 'R', 'U', 'U', 'L', 'D', 'D', 'R', 'U', 'U', 'L', 'L', 'D', 'D', 'R', 'U', 'U', 'R', 'D', 'D', 'L', 'U', 'U', 'R', 'D', 'D', 'L', 'U', 'U', 'R', 'D', 'D', 'L', 'U', 'U', 'R', 'D', 'D', 'L', 'U', 'U', 'L', 'D', 'D', 'R', 'U', 'U', 'R', 'D', 'D', 'L', 'U', 'U', 'R', 'D', 'D', 'L', 'U', 'U', 'R', 'D', 'D', 'L', 'U', 'U', 'R', 'D', 'D', 'L', 'U', 'U', 'R', 'D', 'L', 'D', 'R', 'U', 'U', 'L', 'D', 'D', 'R', 'U', 'U', 'L', 'D', 'D', 'R', 'U', 'U', 'L', 'D', 'D', 'R', 'U', 'U', 'L', 'D', 'D', 'R', 'U', 'U', 'L', 'L', 'D', 'D', 'R', 'U', 'U', 'R', 'D', 'D', 'L', 'U', 'U', 'R', 'D', 'D', 'L', 'U', 'U', 'R', 'D', 'D', 'L', 'U', 'U', 'R', 'D', 'D', 'L', 'U', 'U', 'R', 'D', 'L', 'D', 'R', 'U', 'U', 'L', 'D', 'D', 'R', 'U', 'U', 'L', 'D', 'D', 'R', 'U', 'U', 'L', 'D', 'D', 'R', 'U', 'U', 'L', 'D', 'D', 'R', 'U', 'U', 'L', 'L', 'D', 'D', 'R', 'U', 'U', 'R', 'D', 'D', 'L', 'U', 'U', 'R', 'D', 'D', 'L', 'U', 'U', 'R', 'D', 'D', 'L', 'U', 'U', 'R', 'D', 'D', 'L', 'U', 'U', 'R', 'D', 'L', 'D', 'R', 'U', 'U', 'L', 'D', 'D', 'R', 'U', 'U', 'L', 'D', 'D', 'R', 'U', 'U', 'L', 'D', 'D', 'R', 'U', 'U', 'L', 'D', 'D', 'R', 'U', 'U', 'L', 'L', 'D', 'D', 'R', 'U', 'U', 'R', 'D', 'D', 'L', 'U', 'U', 'R', 'D', 'D', 'L', 'U', 'U', 'R', 'D', 'D', 'L', 'U', 'U', 'R', 'D', 'D', 'L', 'U', 'U', 'R', 'D', 'L', 'D', 'R', 'U', 'U', 'L', 'D', 'D', 'R', 'U', 'U', 'L', 'D', 'D', 'R', 'U', 'U', 'L', 'D', 'D', 'R', 'U', 'U', 'L', 'D', 'D', 'R', 'U', 'U', 'L', 'L', 'D', 'D', 'R', 'U', 'U', 'R', 'D', 'D', 'L', 'U', 'U', 'R', 'D', 'D', 'L', 'U', 'U', 'R', 'D', 'D', 'L', 'U', 'U', 'R', 'D', 'D', 'L', 'U', 'U', 'R', 'D', 'L', 'D', 'R', 'U', 'U', 'L', 'D', 'D', 'R', 'U', 'U', 'L', 'D', 'D', 'R', 'U', 'U', 'L', 'D', 'D', 'R', 'U', 'U', 'L', 'D', 'D', 'R', 'U', 'U', 'L', 'L', 'D', 'D', 'R', 'U', 'U', 'R', 'D', 'D', 'L', 'U', 'U', 'R', 'D', 'D', 'L', 'U', 'U', 'R', 'D', 'D', 'L', 'U', 'U', 'R', 'D', 'D', 'L', 'U', 'U', 'R', 'D', 'L', 'D', 'R', 'U', 'U', 'L', 'D', 'D', 'R', 'U', 'U', 'L', 'D', 'D', 'R', 'U', 'U', 'L', 'D', 'D', 'R', 'U', 'U', 'L', 'D', 'D', 'R', 'U', 'U', 'L', 'L', 'D', 'D', 'R', 'U', 'U', 'R', 'D', 'D', 'L', 'U', 'U', 'R', 'D', 'D', 'L', 'U', 'U', 'R', 'D', 'D', 'L', 'U', 'U', 'R', 'D', 'D', 'L', 'U', 'U', 'L', 'D', 'D', 'R', 'U', 'U', 'R', 'D', 'D', 'L', 'U', 'U', 'R', 'D', 'D', 'L', 'U', 'U', 'R', 'D', 'D', 'L', 'U', 'U', 'R', 'D', 'D', 'L', 'U', 'U', 'R', 'D', 'L', 'D', 'R', 'U', 'U', 'L', 'D', 'D', 'R', 'U', 'U', 'L', 'D', 'D', 'R', 'U', 'U', 'L', 'D', 'D', 'R', 'U', 'U', 'L', 'D', 'D', 'R', 'U', 'U', 'L', 'L', 'D', 'D', 'R', 'U', 'U', 'R', 'D', 'D', 'L', 'U', 'U', 'R', 'D', 'D', 'L', 'U', 'U', 'R', 'D', 'D', 'L', 'U', 'U', 'R', 'D', 'D', 'L', 'U', 'U', 'R', 'D', 'L', 'D', 'R', 'U', 'U', 'L', 'D', 'D', 'R', 'U', 'U', 'L', 'D', 'D', 'R', 'U', 'U', 'L', 'D', 'D', 'R', 'U', 'U', 'L', 'D', 'D', 'R', 'U', 'U', 'L', 'L', 'D', 'D', 'R', 'U', 'U', 'R', 'D', 'D', 'L', 'U', 'U', 'R', 'D', 'D', 'L', 'U', 'U', 'R', 'D', 'D', 'L', 'U', 'U', 'R', 'D', 'D', 'L', 'U', 'U', 'R', 'D', 'L', 'D', 'R', 'U', 'U', 'L', 'D', 'D', 'R', 'U', 'U', 'L', 'D', 'D', 'R', 'U', 'U', 'L', 'D', 'D', 'R', 'U', 'U', 'L', 'D', 'D', 'R', 'U', 'U', 'L', 'L', 'D', 'D', 'R', 'U', 'U', 'R', 'D', 'D', 'L', 'U', 'U', 'R', 'D', 'D', 'L', 'U', 'U', 'R', 'D', 'D', 'L', 'U', 'U', 'R', 'D', 'D', 'L', 'U', 'U', 'R', 'D', 'L', 'D', 'R', 'U', 'U', 'L', 'D', 'D', 'R', 'U', 'U', 'L', 'D', 'D', 'R', 'U', 'U', 'L', 'D', 'D', 'R', 'U', 'U', 'L', 'D', 'D', 'R', 'U', 'U', 'L', 'L', 'D', 'D', 'R', 'U', 'U', 'R', 'D', 'D', 'L', 'U', 'U', 'R', 'D', 'D', 'L', 'U', 'U', 'R', 'D', 'D', 'L', 'U', 'U', 'R', 'D', 'D', 'L', 'U', 'U', 'R', 'D', 'L', 'D', 'R', 'U', 'U', 'L', 'D', 'D', 'R', 'U', 'U', 'L', 'D', 'D', 'R', 'U', 'U', 'L', 'D', 'D', 'R', 'U', 'U', 'L', 'D', 'D', 'R', 'U', 'U', 'L', 'L', 'D', 'D', 'R', 'U', 'U', 'R', 'D', 'D', 'L', 'U', 'U', 'R', 'D', 'D', 'L', 'U', 'U', 'R', 'D', 'D', 'L', 'U', 'U', 'R', 'D', 'D', 'L', 'U', 'U', 'R', 'D', 'L', 'D', 'R', 'U', 'U', 'L', 'D', 'D', 'R', 'U', 'U', 'L', 'D', 'D', 'R', 'U', 'U', 'L', 'D', 'D', 'R', 'U', 'U', 'L', 'D', 'D', 'R', 'U', 'L', 'D', 'R', 'U', 'U', 'L', 'D', 'D', 'R', 'U', 'U', 'L', 'D', 'D', 'R', 'U', 'U', 'L', 'D', 'D', 'R', 'U', 'U', 'L', 'D', 'D', 'R', 'U', 'U', 'L', 'L', 'D', 'D', 'R', 'U', 'U', 'R', 'D', 'D', 'L', 'U', 'U', 'R', 'D', 'D', 'L', 'U', 'U', 'R', 'D', 'D', 'L', 'U', 'U', 'R', 'D', 'D', 'L', 'U', 'U', 'R', 'D', 'L', 'D', 'R', 'U', 'U', 'L', 'D', 'D', 'R', 'U', 'U', 'L', 'D', 'D', 'R', 'U', 'U', 'L', 'D', 'D', 'R', 'U', 'U', 'L', 'D', 'D', 'R', 'U', 'U', 'L', 'L', 'D', 'D', 'R', 'U', 'U', 'R', 'D', 'D', 'L', 'U', 'U', 'R', 'D', 'D', 'L', 'U', 'U', 'R', 'D', 'D', 'L', 'U', 'U', 'R', 'D', 'D', 'L', 'U', 'U', 'R', 'D', 'L', 'D', 'R', 'U', 'U', 'L', 'D', 'D', 'R', 'U', 'U', 'L', 'D', 'D', 'R', 'U', 'U', 'L', 'D', 'D', 'R', 'U', 'U', 'L', 'D', 'D', 'R', 'U', 'U', 'L', 'L', 'D', 'D', 'R', 'U', 'U', 'R', 'D', 'D', 'L', 'U', 'U', 'R', 'D', 'D', 'L', 'U', 'U', 'R', 'D', 'D', 'L', 'U', 'U', 'R', 'D', 'D', 'L', 'U', 'U', 'R', 'D', 'L', 'D', 'R', 'U', 'U', 'L', 'D', 'D', 'R', 'U', 'U', 'L', 'D', 'D', 'R', 'U', 'U', 'L', 'D', 'D', 'R', 'U', 'U', 'L', 'D', 'D', 'R', 'U', 'U', 'L', 'L', 'D', 'D', 'R', 'U', 'U', 'R', 'D', 'D', 'L', 'U', 'U', 'R', 'D', 'D', 'L', 'U', 'U', 'R', 'D', 'D', 'L', 'U', 'U', 'R', 'D', 'D', 'L', 'U', 'U', 'R', 'D', 'L', 'D', 'R', 'U', 'U', 'L', 'D', 'D', 'R', 'U', 'U', 'L', 'D', 'D', 'R', 'U', 'U', 'L', 'D', 'D', 'R', 'U', 'U', 'L', 'D', 'D', 'R', 'U', 'U', 'L', 'L', 'D', 'D', 'R', 'U', 'U', 'R', 'D', 'D', 'L', 'U', 'U', 'R', 'D', 'D', 'L', 'U', 'U', 'R', 'D', 'D', 'L', 'U', 'U', 'R', 'D', 'D', 'L', 'U', 'U', 'R', 'D', 'L', 'D', 'R', 'U', 'U', 'L', 'D', 'D', 'R', 'U', 'U', 'L', 'D', 'D', 'R', 'U', 'U', 'L', 'D', 'D', 'R', 'U', 'U', 'L', 'D', 'D', 'R', 'U', 'U', 'L', 'L', 'D', 'D', 'R', 'U', 'U', 'R', 'D', 'D', 'L', 'U', 'U', 'R', 'D', 'D', 'L', 'U', 'U', 'R', 'D', 'D', 'L', 'U', 'U', 'R', 'D', 'D', 'L', 'U', 'U', 'R', 'D', 'L', 'D', 'R', 'U', 'U', 'L', 'D', 'D', 'R', 'U', 'U', 'L', 'D', 'D', 'R', 'U', 'U', 'L', 'D', 'D', 'R', 'U', 'U', 'L', 'D', 'D', 'R', 'U', 'U', 'L', 'L', 'D', 'R', 'D', 'R', 'U', 'U', 'L', 'D', 'D', 'R', 'U', 'U', 'L', 'D', 'D', 'R', 'U', 'U', 'L', 'D', 'D', 'R', 'U', 'U', 'L', 'D', 'D', 'R', 'U', 'U', 'L', 'L', 'D', 'R', 'D', 'R', 'U', 'U', 'L', 'D', 'D', 'R', 'U', 'U', 'L', 'D', 'D', 'R', 'U', 'U', 'L', 'D', 'D', 'R', 'U', 'U', 'L', 'D', 'D', 'R', 'U', 'L', 'D', 'R', 'U', 'U', 'L', 'D', 'D', 'R', 'U', 'U', 'L', 'D', 'D', 'R', 'U', 'U', 'L', 'D', 'D', 'R', 'U', 'U', 'L', 'D', 'D', 'R', 'U', 'U', 'L', 'L', 'D', 'D', 'R', 'U', 'U', 'R', 'D', 'D', 'L', 'U', 'U', 'R', 'D', 'D', 'L', 'U', 'U', 'R', 'D', 'D', 'L', 'U', 'U', 'R', 'D', 'D', 'L', 'U', 'U', 'R', 'D', 'L', 'D', 'R', 'U', 'U', 'L', 'D', 'D', 'R', 'U', 'U', 'L', 'D', 'D', 'R', 'U', 'U', 'L', 'D', 'D', 'R', 'U', 'U', 'L', 'D', 'D', 'R', 'U', 'U', 'L', 'L', 'D', 'R', 'D', 'R', 'U', 'U', 'L', 'D', 'D', 'R', 'U', 'U', 'L', 'D', 'D', 'R', 'U', 'U', 'L', 'D', 'D', 'R', 'U', 'U', 'L', 'D', 'D', 'R', 'U', 'U', 'L', 'L', 'D', 'D', 'R', 'U', 'U', 'R', 'D', 'D', 'L', 'U', 'U', 'R', 'D', 'D', 'L', 'U', 'U', 'R', 'D', 'D', 'L', 'U', 'U', 'R', 'D', 'D', 'L', 'U', 'U', 'R', 'D', 'L', 'D', 'R', 'U', 'U', 'L', 'D', 'D', 'R', 'U', 'U', 'L', 'D', 'D', 'R', 'U', 'U', 'L', 'D', 'D', 'R', 'U', 'U', 'L', 'D', 'D', 'R', 'U', 'U', 'L', 'L', 'D', 'D', 'R', 'U', 'U', 'R', 'D', 'D', 'L', 'U', 'U', 'R', 'D', 'D', 'L', 'U', 'U', 'R', 'D', 'D', 'L', 'U', 'U', 'R', 'D', 'D', 'L', 'U', 'U', 'R', 'D', 'L', 'D', 'R', 'U', 'U', 'L', 'D', 'D', 'R', 'U', 'U', 'L', 'D', 'D', 'R', 'U', 'U', 'L', 'D', 'D', 'R', 'U', 'U', 'L', 'D', 'D', 'R', 'U', 'U', 'L', 'L', 'D', 'D', 'R', 'U', 'U', 'R', 'D', 'D', 'L', 'U', 'U', 'R', 'D', 'D', 'L', 'U', 'U', 'R', 'D', 'D', 'L', 'U', 'U', 'R', 'D', 'D', 'L', 'U', 'U', 'R', 'D', 'L', 'D', 'R', 'U', 'U', 'L', 'D', 'D', 'R', 'U', 'U', 'L', 'D', 'D', 'R', 'U', 'U', 'L', 'D', 'D', 'R', 'U', 'U', 'L', 'D', 'D', 'R', 'U', 'U', 'L', 'L', 'D', 'D', 'R', 'U', 'U', 'R', 'D', 'D', 'L', 'U', 'U', 'R', 'D', 'D', 'L', 'U', 'U', 'R', 'D', 'D', 'L', 'U', 'U', 'R', 'D', 'D', 'L', 'U', 'U', 'R', 'D', 'L', 'D', 'R', 'U', 'U', 'L', 'D', 'D', 'R', 'U', 'U', 'L', 'D', 'D', 'R', 'U', 'U', 'L', 'D', 'D', 'R', 'U', 'U', 'L', 'D', 'D', 'R', 'U', 'U', 'L', 'L', 'D', 'D', 'R', 'U', 'U', 'R', 'D', 'D', 'L', 'U', 'U', 'R', 'D', 'D', 'L', 'U', 'U', 'R', 'D', 'D', 'L', 'U', 'U', 'R', 'D', 'D', 'L', 'U', 'U', 'R', 'D', 'L', 'D', 'R', 'U', 'U', 'L', 'D', 'D', 'R', 'U', 'U', 'L', 'D', 'D', 'R', 'U', 'U', 'L', 'D', 'D', 'R', 'U', 'U', 'L', 'D', 'D', 'R', 'U', 'U', 'L', 'L', 'D', 'D', 'R', 'U', 'U', 'R', 'D', 'D', 'L', 'U', 'U', 'R', 'D', 'D', 'L', 'U', 'U', 'R', 'D', 'D', 'L', 'U', 'U', 'R', 'D', 'D', 'L', 'U', 'U', 'R', 'D', 'L', 'D', 'R', 'U', 'U', 'L', 'D', 'D', 'R', 'U', 'U', 'L', 'D', 'D', 'R', 'U', 'U', 'L', 'D', 'D', 'R', 'U', 'U', 'L', 'D', 'D', 'R', 'U', 'U', 'L', 'L', 'D', 'R', 'D', 'R', 'U', 'U', 'L', 'D', 'D', 'R', 'U', 'U', 'L', 'D', 'D', 'R', 'U', 'U', 'L', 'D', 'D', 'R', 'U', 'U', 'L', 'D', 'D', 'R', 'U', 'U', 'L', 'L', 'D', 'D', 'R', 'U', 'U', 'R', 'D', 'D', 'L', 'U', 'U', 'R', 'D', 'D', 'L', 'U', 'U', 'R', 'D', 'D', 'L', 'U', 'U', 'R', 'D', 'D', 'L', 'U', 'U', 'R', 'D', 'L', 'D', 'R', 'U', 'U', 'L', 'D', 'D', 'R', 'U', 'U', 'L', 'D', 'D', 'R', 'U', 'U', 'L', 'D', 'D', 'R', 'U', 'U', 'L', 'D', 'D', 'R', 'U', 'U', 'L', 'L', 'D', 'D', 'R', 'U', 'U', 'R', 'D', 'D', 'L', 'U', 'U', 'R', 'D', 'D', 'L', 'U', 'U', 'R', 'D', 'D', 'L', 'U', 'U', 'R', 'D', 'D', 'L', 'U', 'U', 'L', 'D', 'D', 'R', 'U', 'U', 'R', 'D', 'D', 'L', 'U', 'U', 'R', 'D', 'D', 'L', 'U', 'U', 'R', 'D', 'D', 'L', 'U', 'U', 'R', 'D', 'D', 'L', 'U', 'U', 'R', 'D', 'L', 'D', 'R', 'U', 'U', 'L', 'D', 'D', 'R', 'U', 'U', 'L', 'D', 'D', 'R', 'U', 'U', 'L', 'D', 'D', 'R', 'U', 'U', 'L', 'D', 'D', 'R', 'U', 'U', 'L', 'L', 'D', 'D', 'R', 'U', 'U', 'R', 'D', 'D', 'L', 'U', 'U', 'R', 'D', 'D', 'L', 'U', 'U', 'R', 'D', 'D', 'L', 'U', 'U', 'R', 'D', 'D', 'L', 'U', 'U', 'R', 'D', 'L', 'D', 'R', 'U', 'U', 'L', 'D', 'D', 'R', 'U', 'U', 'L', 'D', 'D', 'R', 'U', 'U', 'L', 'D', 'D', 'R', 'U', 'U', 'L', 'D', 'D', 'R', 'U', 'U', 'L', 'L', 'D', 'D', 'R', 'U', 'U', 'R', 'D', 'D', 'L', 'U', 'U', 'R', 'D', 'D', 'L', 'U', 'U', 'R', 'D', 'D', 'L', 'U', 'U', 'R', 'D', 'D', 'L', 'U', 'U', 'R', 'D', 'L', 'D', 'R', 'U', 'U', 'L', 'D', 'D', 'R', 'U', 'U', 'L', 'D', 'D', 'R', 'U', 'U', 'L', 'D', 'D', 'R', 'U', 'U', 'L', 'D', 'D', 'R', 'U', 'U', 'L', 'L', 'D', 'R', 'D', 'R', 'U', 'U', 'L', 'D', 'D', 'R', 'U', 'U', 'L', 'D', 'D', 'R', 'U', 'U', 'L', 'D', 'D', 'R', 'U', 'U', 'L', 'D', 'D', 'R', 'U', 'U', 'L', 'L', 'D', 'R', 'D', 'R', 'U', 'U', 'L', 'D', 'D', 'R', 'U', 'U', 'L', 'D', 'D', 'R', 'U', 'U', 'L', 'D', 'D', 'R', 'U', 'U', 'L', 'D', 'D', 'R', 'U', 'L', 'D', 'R', 'U', 'U', 'L', 'D', 'D', 'R', 'U', 'U', 'L', 'D', 'D', 'R', 'U', 'U', 'L', 'D', 'D', 'R', 'U', 'U', 'L', 'D', 'D', 'R', 'U', 'U', 'L', 'L', 'D', 'R', 'D', 'R', 'U', 'U', 'L', 'D', 'D', 'R', 'U', 'U', 'L', 'D', 'D', 'R', 'U', 'U', 'L', 'D', 'D', 'R', 'U', 'U', 'L', 'D', 'D', 'R', 'U', 'U', 'L', 'L', 'D', 'D', 'R', 'U', 'U', 'R', 'D', 'D', 'L', 'U', 'U', 'R', 'D', 'D', 'L', 'U', 'U', 'R', 'D', 'D', 'L', 'U', 'U', 'R', 'D', 'D', 'L', 'U', 'U', 'R', 'D', 'L', 'D', 'R', 'U', 'U', 'L', 'D', 'D', 'R', 'U', 'U', 'L', 'D', 'D', 'R', 'U', 'U', 'L', 'D', 'D', 'R', 'U', 'U', 'L', 'D', 'D', 'R', 'U', 'U', 'L', 'L', 'D', 'R', 'D', 'R', 'U', 'U', 'L', 'D', 'D', 'R', 'U', 'U', 'L', 'D', 'D', 'R', 'U', 'U', 'L', 'D', 'D', 'R', 'U', 'U', 'L', 'D', 'D', 'R', 'U', 'U', 'L', 'L', 'D', 'D', 'R', 'U', 'U', 'R', 'D', 'D', 'L', 'U', 'U', 'R', 'D', 'D', 'L', 'U', 'U', 'R', 'D', 'D', 'L', 'U', 'U', 'R', 'D', 'D', 'L', 'U', 'U', 'R', 'D', 'L', 'D', 'R', 'U', 'U', 'L', 'D', 'D', 'R', 'U', 'U', 'L', 'D', 'D', 'R', 'U', 'U', 'L', 'D', 'D', 'R', 'U', 'U', 'L', 'D', 'D', 'R', 'U', 'U', 'L', 'L', 'D', 'D', 'R', 'U', 'U', 'R', 'D', 'D', 'L', 'U', 'U', 'R', 'D', 'D', 'L', 'U', 'U', 'R', 'D', 'D', 'L', 'U', 'U', 'R', 'D', 'D', 'L', 'U', 'U', 'R', 'D', 'L', 'D', 'R', 'U', 'U', 'L', 'D', 'D', 'R', 'U', 'U', 'L', 'D', 'D', 'R', 'U', 'U', 'L', 'D', 'D', 'R', 'U', 'U', 'L', 'D', 'D', 'R', 'U', 'U', 'L', 'L', 'D', 'D', 'R', 'U', 'U', 'R', 'D', 'D', 'L', 'U', 'U', 'R', 'D', 'D', 'L', 'U', 'U', 'R', 'D', 'D', 'L', 'U', 'U', 'R', 'D', 'D', 'L', 'U', 'U', 'R', 'D', 'L', 'D', 'R', 'U', 'U', 'L', 'D', 'D', 'R', 'U', 'U', 'L', 'D', 'D', 'R', 'U', 'U', 'L', 'D', 'D', 'R', 'U', 'U', 'L', 'D', 'D', 'R', 'U', 'U', 'L', 'L', 'D', 'D', 'R', 'U', 'U', 'R', 'D', 'D', 'L', 'U', 'U', 'R', 'D', 'D', 'L', 'U', 'U', 'R', 'D', 'D', 'L', 'U', 'U', 'R', 'D', 'D', 'L', 'U', 'U', 'R', 'D', 'L', 'D', 'R', 'U', 'U', 'L', 'D', 'D', 'R', 'U', 'U', 'L', 'D', 'D', 'R', 'U', 'U', 'L', 'D', 'D', 'R', 'U', 'U', 'L', 'D', 'D', 'R', 'U', 'U', 'L', 'L', 'D', 'D', 'R', 'U', 'U', 'R', 'D', 'D', 'L', 'U', 'U', 'R', 'D', 'D', 'L', 'U', 'U', 'R', 'D', 'D', 'L', 'U', 'U', 'R', 'D', 'D', 'L', 'U', 'U', 'R', 'D', 'L', 'D', 'R', 'U', 'U', 'L', 'D', 'D', 'R', 'U', 'U', 'L', 'D', 'D', 'R', 'U', 'U', 'L', 'D', 'D', 'R', 'U', 'U', 'L', 'D', 'D', 'R', 'U', 'U', 'L', 'L', 'D', 'D', 'R', 'U', 'U', 'R', 'D', 'D', 'L', 'U', 'U', 'R', 'D', 'D', 'L', 'U', 'U', 'R', 'D', 'D', 'L', 'U', 'U', 'R', 'D', 'D', 'L', 'U', 'U', 'R', 'D', 'L', 'D', 'R', 'U', 'U', 'L', 'D', 'D', 'R', 'U', 'U', 'L', 'D', 'D', 'R', 'U', 'U', 'L', 'D', 'D', 'R', 'U', 'U', 'L', 'D', 'D', 'R', 'U', 'U', 'L', 'L', 'D', 'D', 'R', 'U', 'U', 'R', 'D', 'D', 'L', 'U', 'U', 'R', 'D', 'D', 'L', 'U', 'U', 'R', 'D', 'D', 'L', 'U', 'U', 'R', 'D', 'D', 'L', 'U', 'U', 'L', 'D', 'D', 'R', 'U', 'U', 'R', 'D', 'D', 'L', 'U', 'U', 'R', 'D', 'D', 'L', 'U', 'U', 'R', 'D', 'D', 'L', 'U', 'U', 'R', 'D', 'D', 'L', 'U', 'U', 'R', 'D', 'L', 'D', 'R', 'U', 'U', 'L', 'D', 'D', 'R', 'U', 'U', 'L', 'D', 'D', 'R', 'U', 'U', 'L', 'D', 'D', 'R', 'U', 'U', 'L', 'D', 'D', 'R', 'U', 'U', 'L', 'L', 'D', 'D', 'R', 'U', 'U', 'R', 'D', 'D', 'L', 'U', 'U', 'R', 'D', 'D', 'L', 'U', 'U', 'R', 'D', 'D', 'L', 'U', 'U', 'R', 'D', 'D', 'L', 'U', 'U', 'R', 'D', 'L', 'D', 'R', 'U', 'U', 'L', 'D', 'D', 'R', 'U', 'U', 'L', 'D', 'D', 'R', 'U', 'U', 'L', 'D', 'D', 'R', 'U', 'U', 'L', 'D', 'D', 'R', 'U', 'U', 'L', 'L', 'D', 'D', 'R', 'U', 'U', 'R', 'D', 'D', 'L', 'U', 'U', 'R', 'D', 'D', 'L', 'U', 'U', 'R', 'D', 'D', 'L', 'U', 'U', 'R', 'D', 'D', 'L', 'U', 'U', 'R', 'D', 'L', 'D', 'R', 'U', 'U', 'L', 'D', 'D', 'R', 'U', 'U', 'L', 'D', 'D', 'R', 'U', 'U', 'L', 'D', 'D', 'R', 'U', 'U', 'L', 'D', 'D', 'R', 'U', 'U', 'L', 'L', 'D', 'D', 'R', 'U', 'U', 'R', 'D', 'D', 'L', 'U', 'U', 'R', 'D', 'D', 'L', 'U', 'U', 'R', 'D', 'D', 'L', 'U', 'U', 'R', 'D', 'D', 'L', 'U', 'U', 'R', 'D', 'L', 'D', 'R', 'U', 'U', 'L', 'D', 'D', 'R', 'U', 'U', 'L', 'D', 'D', 'R', 'U', 'U', 'L', 'D', 'D', 'R', 'U', 'U', 'L', 'D', 'D', 'R', 'U', 'U', 'L', 'L', 'D', 'D', 'R', 'U', 'U', 'R', 'D', 'D', 'L', 'U', 'U', 'R', 'D', 'D', 'L', 'U', 'U', 'R', 'D', 'D', 'L', 'U', 'U', 'R', 'D', 'D', 'L', 'U', 'U', 'R', 'D', 'L', 'D', 'R', 'U', 'U', 'L', 'D', 'D', 'R', 'U', 'U', 'L', 'D', 'D', 'R', 'U', 'U', 'L', 'D', 'D', 'R', 'U', 'U', 'L', 'D', 'D', 'R', 'U', 'U', 'L', 'L', 'D', 'D', 'R', 'U', 'U', 'R', 'D', 'D', 'L', 'U', 'U', 'R', 'D', 'D', 'L', 'U', 'U', 'R', 'D', 'D', 'L', 'U', 'U', 'R', 'D', 'D', 'L', 'U', 'U', 'R', 'D', 'L', 'D', 'R', 'U', 'U', 'L', 'D', 'D', 'R', 'U', 'U', 'L', 'D', 'D', 'R', 'U', 'U', 'L', 'D', 'D', 'R', 'U', 'U', 'L', 'D', 'D', 'R', 'U', 'U', 'L', 'L', 'D', 'D', 'R', 'U', 'U', 'R', 'D', 'D', 'L', 'U', 'U', 'R', 'D', 'D', 'L', 'U', 'U', 'R', 'D', 'D', 'L', 'U', 'U', 'R', 'D', 'D', 'L', 'U', 'U', 'L', 'D', 'D', 'R', 'U', 'U', 'R', 'D', 'D', 'L', 'U', 'U', 'R', 'D', 'D', 'L', 'U', 'U', 'R', 'D', 'D', 'L', 'U', 'U', 'R', 'D', 'D', 'L', 'U', 'U', 'R', 'D', 'L', 'D', 'R', 'U', 'U', 'L', 'D', 'D', 'R', 'U', 'U', 'L', 'D', 'D', 'R', 'U', 'U', 'L', 'D', 'D', 'R', 'U', 'U', 'L', 'D', 'D', 'R', 'U', 'U', 'L', 'L', 'D', 'D', 'R', 'U', 'U', 'R', 'D', 'D', 'L', 'U', 'U', 'R', 'D', 'D', 'L', 'U', 'U', 'R', 'D', 'D', 'L', 'U', 'U', 'R', 'D', 'D', 'L', 'U', 'U', 'R', 'D', 'L', 'D', 'R', 'U', 'U', 'L', 'D', 'D', 'R', 'U', 'U', 'L', 'D', 'D', 'R', 'U', 'U', 'L', 'D', 'D', 'R', 'U', 'U', 'L', 'D', 'D', 'R', 'U', 'U', 'L', 'L', 'D', 'D', 'R', 'U', 'U', 'R', 'D', 'D', 'L', 'U', 'U', 'R', 'D', 'D', 'L', 'U', 'U', 'R', 'D', 'D', 'L', 'U', 'U', 'R', 'D', 'D', 'L', 'U', 'U', 'R', 'D', 'L', 'D', 'R', 'U', 'U', 'L', 'D', 'D', 'R', 'U', 'U', 'L', 'D', 'D', 'R', 'U', 'U', 'L', 'D', 'D', 'R', 'U', 'U', 'L', 'D', 'D', 'R', 'U', 'U', 'L', 'L', 'D', 'D', 'R', 'U', 'U', 'R', 'D', 'D', 'L', 'U', 'U', 'R', 'D', 'D', 'L', 'U', 'U', 'R', 'D', 'D', 'L', 'U', 'U', 'R', 'D', 'D', 'L', 'U', 'U', 'R', 'D', 'L', 'D', 'R', 'U', 'U', 'L', 'D', 'D', 'R', 'U', 'U', 'L', 'D', 'D', 'R', 'U', 'U', 'L', 'D', 'D', 'R', 'U', 'U', 'L', 'D', 'D', 'R', 'U', 'U', 'L', 'L', 'D', 'D', 'R', 'U', 'U', 'R', 'D', 'D', 'L', 'U', 'U', 'R', 'D', 'D', 'L', 'U', 'U', 'R', 'D', 'D', 'L', 'U', 'U', 'R', 'D', 'D', 'L', 'U', 'U', 'R', 'D', 'L', 'D', 'R', 'U', 'U', 'L', 'D', 'D', 'R', 'U', 'U', 'L', 'D', 'D', 'R', 'U', 'U', 'L', 'D', 'D', 'R', 'U', 'U', 'L', 'D', 'D', 'R', 'U', 'U', 'L', 'L', 'D', 'D', 'R', 'U', 'U', 'R', 'D', 'D', 'L', 'U', 'U', 'R', 'D', 'D', 'L', 'U', 'U', 'R', 'D', 'D', 'L', 'U', 'U', 'R', 'D', 'D', 'L', 'U', 'U', 'R', 'D', 'L', 'D', 'R', 'U', 'U', 'L', 'D', 'D', 'R', 'U', 'U', 'L', 'D', 'D', 'R', 'U', 'U', 'L', 'D', 'D', 'R', 'U', 'U', 'L', 'D', 'D', 'R', 'U', 'U', 'L', 'L', 'D', 'R', 'D', 'R', 'U', 'U', 'L', 'D', 'D', 'R', 'U', 'U', 'L', 'D', 'D', 'R', 'U', 'U', 'L', 'D', 'D', 'R', 'U', 'U', 'L', 'D', 'D', 'R', 'U', 'U', 'L', 'L', 'D', 'R', 'D', 'R', 'U', 'U', 'L', 'D', 'D', 'R', 'U', 'U', 'L', 'D', 'D', 'R', 'U', 'U', 'L', 'D', 'D', 'R', 'U', 'U', 'L', 'D', 'D', 'R', 'U', 'U', 'L', 'L', 'D', 'D', 'R', 'U', 'U', 'R', 'D', 'D', 'L', 'U', 'U', 'R', 'D', 'D', 'L', 'U', 'U', 'R', 'D', 'D', 'L', 'U', 'U', 'R', 'D', 'D', 'L', 'U', 'U', 'R', 'D', 'L', 'D', 'R', 'U', 'U', 'L', 'D', 'D', 'R', 'U', 'U', 'L', 'D', 'D', 'R', 'U', 'U', 'L', 'D', 'D', 'R', 'U', 'U', 'L', 'D', 'D', 'R', 'U', 'U', 'L', 'L', 'D', 'D', 'R', 'U', 'U', 'R', 'D', 'D', 'L', 'U', 'U', 'R', 'D', 'D', 'L', 'U', 'U', 'R', 'D', 'D', 'L', 'U', 'U', 'R', 'D', 'D', 'L', 'U', 'U', 'R', 'D', 'L', 'D', 'R', 'U', 'U', 'L', 'D', 'D', 'R', 'U', 'U', 'L', 'D', 'D', 'R', 'U', 'U', 'L', 'D', 'D', 'R', 'U', 'U', 'L', 'D', 'D', 'R', 'U', 'U', 'L', 'L', 'D', 'D', 'R', 'U', 'U', 'R', 'D', 'D', 'L', 'U', 'U', 'R', 'D', 'D', 'L', 'U', 'U', 'R', 'D', 'D', 'L', 'U', 'U', 'R', 'D', 'D', 'L', 'U', 'U', 'L', 'D', 'D', 'R', 'U', 'U', 'R', 'D', 'D', 'L', 'U', 'U', 'R', 'D', 'D', 'L', 'U', 'U', 'R', 'D', 'D', 'L', 'U', 'U', 'R', 'D', 'D', 'L', 'U', 'U', 'R', 'D', 'L', 'D', 'R', 'U', 'U', 'L', 'D', 'D', 'R', 'U', 'U', 'L', 'D', 'D', 'R', 'U', 'U', 'L', 'D', 'D', 'R', 'U', 'U', 'L', 'D', 'D', 'R', 'U', 'U', 'L', 'L', 'D', 'D', 'R', 'U', 'U', 'R', 'D', 'D', 'L', 'U', 'U', 'R', 'D', 'D', 'L', 'U', 'U', 'R', 'D', 'D', 'L', 'U', 'U', 'R', 'D', 'D', 'L', 'U', 'U', 'R', 'D', 'L', 'D', 'R', 'U', 'U', 'L', 'D', 'D', 'R', 'U', 'U', 'L', 'D', 'D', 'R', 'U', 'U', 'L', 'D', 'D', 'R', 'U', 'U', 'L', 'D', 'D', 'R', 'U', 'U', 'L', 'L', 'D', 'D', 'R', 'U', 'U', 'R', 'D', 'D', 'L', 'U', 'U', 'R', 'D', 'D', 'L', 'U', 'U', 'R', 'D', 'D', 'L', 'U', 'U', 'R', 'D', 'D', 'L', 'U', 'U', 'R', 'D', 'L', 'D', 'R', 'U', 'U', 'L', 'D', 'D', 'R', 'U', 'U', 'L', 'D', 'D', 'R', 'U', 'U', 'L', 'D', 'D', 'R', 'U', 'U', 'L', 'D', 'D', 'R', 'U', 'U', 'L', 'L', 'D', 'D', 'R', 'U', 'U', 'R', 'D', 'D', 'L', 'U', 'U', 'R', 'D', 'D', 'L', 'U', 'U', 'R', 'D', 'D', 'L', 'U', 'U', 'R', 'D', 'D', 'L', 'U', 'U', 'R', 'D', 'L', 'D', 'R', 'U', 'U', 'L', 'D', 'D', 'R', 'U', 'U', 'L', 'D', 'D', 'R', 'U', 'U', 'L', 'D', 'D', 'R', 'U', 'U', 'L', 'D', 'D', 'R', 'U', 'U', 'L', 'L', 'D', 'D', 'R', 'U', 'U', 'R', 'D', 'D', 'L', 'U', 'U', 'R', 'D', 'D', 'L', 'U', 'U', 'R', 'D', 'D', 'L', 'U', 'U', 'R', 'D', 'D', 'L', 'U', 'U', 'R', 'D', 'L', 'D', 'R', 'U', 'U', 'L', 'D', 'D', 'R', 'U', 'U', 'L', 'D', 'D', 'R', 'U', 'U', 'L', 'D', 'D', 'R', 'U', 'U', 'L', 'D', 'D', 'R', 'U', 'U', 'L', 'L', 'D', 'D', 'R', 'U', 'U', 'R', 'D', 'D', 'L', 'U', 'U', 'R', 'D', 'D', 'L', 'U', 'U', 'R', 'D', 'D', 'L', 'U', 'U', 'R', 'D', 'D', 'L', 'U', 'U', 'R', 'D', 'L', 'D', 'R', 'U', 'U', 'L', 'D', 'D', 'R', 'U', 'U', 'L', 'D', 'D', 'R', 'U', 'U', 'L', 'D', 'D', 'R', 'U', 'U', 'L', 'D', 'D', 'R', 'U', 'U', 'L', 'L', 'D', 'R', 'D', 'R', 'U', 'U', 'L', 'D', 'D', 'R', 'U', 'U', 'L', 'D', 'D', 'R', 'U', 'U', 'L', 'D', 'D', 'R', 'U', 'U', 'L', 'D', 'D', 'R', 'U', 'U', 'L', 'L', 'D', 'D', 'R', 'U', 'U', 'R', 'D', 'D', 'L', 'U', 'U', 'R', 'D', 'D', 'L', 'U', 'U', 'R', 'D', 'D', 'L', 'U', 'U', 'R', 'D', 'D', 'L', 'U', 'U', 'R', 'D', 'L', 'D', 'R', 'U', 'U', 'L', 'D', 'D', 'R', 'U', 'U', 'L', 'D', 'D', 'R', 'U', 'U', 'L', 'D', 'D', 'R', 'U', 'U', 'L', 'D', 'D', 'R', 'U', 'U', 'L', 'L', 'D', 'D', 'R', 'U', 'U', 'R', 'D', 'D', 'L', 'U', 'U', 'R', 'D', 'D', 'L', 'U', 'U', 'R', 'D', 'D', 'L', 'U', 'U', 'R', 'D', 'D', 'L', 'U', 'U', 'R', 'D', 'L', 'D', 'R', 'U', 'U', 'L', 'D', 'D', 'R', 'U', 'U', 'L', 'D', 'D', 'R', 'U', 'U', 'L', 'D', 'D', 'R', 'U', 'U', 'L', 'D', 'D', 'R', 'U', 'U', 'L', 'L', 'D', 'R', 'D', 'R', 'U', 'U', 'L', 'D', 'D', 'R', 'U', 'U', 'L', 'D', 'D', 'R', 'U', 'U', 'L', 'D', 'D', 'R', 'U', 'U', 'L', 'D', 'D', 'R', 'U', 'U', 'L', 'L', 'D', 'R', 'D', 'R', 'U', 'U', 'L', 'D', 'D', 'R', 'U', 'U', 'L', 'D', 'D', 'R', 'U', 'U', 'L', 'D', 'D', 'R', 'U', 'U', 'L', 'D', 'D', 'R', 'U', 'U', 'L', 'L', 'D', 'D', 'R', 'U', 'U', 'R', 'D', 'D', 'L', 'U', 'U', 'R', 'D', 'D', 'L', 'U', 'U', 'R', 'D', 'D', 'L', 'U', 'U', 'R', 'D', 'D', 'L', 'U', 'U', 'R', 'D', 'L', 'D', 'R', 'U', 'U', 'L', 'D', 'D', 'R', 'U', 'U', 'L', 'D', 'D', 'R', 'U', 'U', 'L', 'D', 'D', 'R', 'U', 'U', 'L', 'D', 'D', 'R', 'U', 'U', 'L', 'L', 'D', 'D', 'R', 'U', 'U', 'R', 'D', 'D', 'L', 'U', 'U', 'R', 'D', 'D', 'L', 'U', 'U', 'R', 'D', 'D', 'L', 'U', 'U', 'R', 'D', 'D', 'L', 'U', 'U', 'R', 'D', 'L', 'D', 'R', 'U', 'U', 'L', 'D', 'D', 'R', 'U', 'U', 'L', 'D', 'D', 'R', 'U', 'U', 'L', 'D', 'D', 'R', 'U', 'U', 'L', 'D', 'D', 'R', 'U', 'U', 'L', 'L', 'D', 'D', 'R', 'U', 'U', 'R', 'D', 'D', 'L', 'U', 'U', 'R', 'D', 'D', 'L', 'U', 'U', 'R', 'D', 'D', 'L', 'U', 'U', 'R', 'D', 'D', 'L', 'U', 'U', 'R', 'D', 'L', 'D', 'R', 'U', 'U', 'L', 'D', 'D', 'R', 'U', 'U', 'L', 'D', 'D', 'R', 'U', 'U', 'L', 'D', 'D', 'R', 'U', 'U', 'L', 'D', 'D', 'R', 'U', 'U', 'L', 'L', 'D', 'D', 'R', 'U', 'U', 'R', 'D', 'D', 'L', 'U', 'U', 'R', 'D', 'D', 'L', 'U', 'U', 'R', 'D', 'D', 'L', 'U', 'U', 'R', 'D', 'D', 'L', 'U', 'U', 'R', 'D', 'L', 'D', 'R', 'U', 'U', 'L', 'D', 'D', 'R', 'U', 'U', 'L', 'D', 'D', 'R', 'U', 'U', 'L', 'D', 'D', 'R', 'U', 'U', 'L', 'D', 'D', 'R', 'U', 'U', 'L', 'L', 'D', 'D', 'R', 'U', 'U', 'R', 'D', 'D', 'L', 'U', 'U', 'R', 'D', 'D', 'L', 'U', 'U', 'R', 'D', 'D', 'L', 'U', 'U', 'R', 'D', 'D', 'L', 'U', 'U', 'R', 'D', 'L', 'D', 'R', 'U', 'U', 'L', 'D', 'D', 'R', 'U', 'U', 'L', 'D', 'D', 'R', 'U', 'U', 'L', 'D', 'D', 'R', 'U', 'U', 'L', 'D', 'D', 'R', 'U', 'U', 'L', 'L', 'D', 'D', 'R', 'U', 'U', 'R', 'D', 'D', 'L', 'U', 'U', 'R', 'D', 'D', 'L', 'U', 'U', 'R', 'D', 'D', 'L', 'U', 'U', 'R', 'D', 'D', 'L', 'U', 'U', 'R', 'D', 'L', 'D', 'R', 'U', 'U', 'L', 'D', 'D', 'R', 'U', 'U', 'L', 'D', 'D', 'R', 'U', 'U', 'L', 'D', 'D', 'R', 'U', 'U', 'L', 'D', 'D', 'R', 'U', 'U', 'L', 'L', 'D', 'D', 'R', 'U', 'U', 'R', 'D', 'D', 'L', 'U', 'U', 'R', 'D', 'D', 'L', 'U', 'U', 'R', 'D', 'D', 'L', 'U', 'U', 'R', 'D', 'D', 'L', 'U', 'U', 'L', 'D', 'D', 'R', 'U', 'U', 'R', 'D', 'D', 'L', 'U', 'U', 'R', 'D', 'D', 'L', 'U', 'U', 'R', 'D', 'D', 'L', 'U', 'U', 'R', 'D', 'D', 'L', 'U', 'U', 'R', 'D', 'L', 'D', 'R', 'U', 'U', 'L', 'D', 'D', 'R', 'U', 'U', 'L', 'D', 'D', 'R', 'U', 'U', 'L', 'D', 'D', 'R', 'U', 'U', 'L', 'D', 'D', 'R', 'U', 'U', 'L', 'L', 'D', 'D', 'R', 'U', 'U', 'R', 'D', 'D', 'L', 'U', 'U', 'R', 'D', 'D', 'L', 'U', 'U', 'R', 'D', 'D', 'L', 'U', 'U', 'R', 'D', 'D', 'L', 'U', 'U', 'R', 'D', 'L', 'D', 'R', 'U', 'U', 'L', 'D', 'D', 'R', 'U', 'U', 'L', 'D', 'D', 'R', 'U', 'U', 'L', 'D', 'D', 'R', 'U', 'U', 'L', 'D', 'D', 'R', 'U', 'U', 'L', 'L', 'D', 'D', 'R', 'U', 'U', 'R', 'D', 'D', 'L', 'U', 'U', 'R', 'D', 'D', 'L', 'U', 'U', 'R', 'D', 'D', 'L', 'U', 'U', 'R', 'D', 'D', 'L', 'U', 'U', 'R', 'D', 'L', 'D', 'R', 'U', 'U', 'L', 'D', 'D', 'R', 'U', 'U', 'L', 'D', 'D', 'R', 'U', 'U', 'L', 'D', 'D', 'R', 'U', 'U', 'L', 'D', 'D', 'R', 'U', 'U', 'L', 'L', 'D', 'R', 'D', 'R', 'U', 'U', 'L', 'D', 'D', 'R', 'U', 'U', 'L', 'D', 'D', 'R', 'U', 'U', 'L', 'D', 'D', 'R', 'U', 'U', 'L', 'D', 'D', 'R', 'U', 'U', 'L', 'L', 'D', 'R', 'D', 'R', 'U', 'U', 'L', 'D', 'D', 'R', 'U', 'U', 'L', 'D', 'D', 'R', 'U', 'U', 'L', 'D', 'D', 'R', 'U', 'U', 'L', 'D', 'D', 'R', 'U', 'U', 'L', 'L', 'D', 'D', 'R', 'U', 'U', 'R', 'D', 'D', 'L', 'U', 'U', 'R', 'D', 'D', 'L', 'U', 'U', 'R', 'D', 'D', 'L', 'U', 'U', 'R', 'D', 'D', 'L', 'U', 'U', 'R', 'D', 'L', 'D', 'R', 'U', 'U', 'L', 'D', 'D', 'R', 'U', 'U', 'L', 'D', 'D', 'R', 'U', 'U', 'L', 'D', 'D', 'R', 'U', 'U', 'L', 'D', 'D', 'R', 'U', 'U', 'L', 'L', 'D', 'D', 'R', 'U', 'U', 'R', 'D', 'D', 'L', 'U', 'U', 'R', 'D', 'D', 'L', 'U', 'U', 'R', 'D', 'D', 'L', 'U', 'U', 'R', 'D', 'D', 'L', 'U', 'U', 'R', 'D', 'L', 'D', 'R', 'U', 'U', 'L', 'D', 'D', 'R', 'U', 'U', 'L', 'D', 'D', 'R', 'U', 'U', 'L', 'D', 'D', 'R', 'U', 'U', 'L', 'D', 'D', 'R', 'U', 'U', 'L', 'L', 'D', 'D', 'R', 'U', 'U', 'R', 'D', 'D', 'L', 'U', 'U', 'R', 'D', 'D', 'L', 'U', 'U', 'R', 'D', 'D', 'L', 'U', 'U', 'R', 'D', 'D', 'L', 'U', 'U', 'R', 'D', 'L', 'D', 'R', 'U', 'U', 'L', 'D', 'D', 'R', 'U', 'U', 'L', 'D', 'D', 'R', 'U', 'U', 'L', 'D', 'D', 'R', 'U', 'U', 'L', 'D', 'D', 'R', 'U', 'U', 'L', 'L', 'D', 'D', 'R', 'U', 'U', 'R', 'D', 'D', 'L', 'U', 'U', 'R', 'D', 'D', 'L', 'U', 'U', 'R', 'D', 'D', 'L', 'U', 'U', 'R', 'D', 'D', 'L', 'U', 'U', 'R', 'D', 'L', 'D', 'R', 'U', 'U', 'L', 'D', 'D', 'R', 'U', 'U', 'L', 'D', 'D', 'R', 'U', 'U', 'L', 'D', 'D', 'R', 'U', 'U', 'L', 'D', 'D', 'R', 'U', 'U', 'L', 'L', 'D', 'D', 'R', 'U', 'U', 'R', 'D', 'D', 'L', 'U', 'U', 'R', 'D', 'D', 'L', 'U', 'U', 'R', 'D', 'D', 'L', 'U', 'U', 'R', 'D', 'D', 'L', 'U', 'U', 'R', 'D', 'L', 'D', 'R', 'U', 'U', 'L', 'D', 'D', 'R', 'U', 'U', 'L', 'D', 'D', 'R', 'U', 'U', 'L', 'D', 'D', 'R', 'U', 'U', 'L', 'D', 'D', 'R', 'U', 'U', 'L', 'L', 'D', 'D', 'R', 'U', 'U', 'R', 'D', 'D', 'L', 'U', 'U', 'R', 'D', 'D', 'L', 'U', 'U', 'R', 'D', 'D', 'L', 'U', 'U', 'R', 'D', 'D', 'L', 'U', 'U', 'R', 'D', 'L', 'D', 'R', 'U', 'U', 'L', 'D', 'D', 'R', 'U', 'U', 'L', 'D', 'D', 'R', 'U', 'U', 'L', 'D', 'D', 'R', 'U', 'U', 'L', 'D', 'D', 'R', 'U', 'U', 'L', 'L', 'D', 'D', 'R', 'U', 'U', 'R', 'D', 'D', 'L', 'U', 'U', 'R', 'D', 'D', 'L', 'U', 'U', 'R', 'D', 'D', 'L', 'U', 'U', 'R', 'D', 'D', 'L', 'U', 'U', 'L', 'D', 'R', 'D', 'R', 'U', 'U', 'L', 'D', 'D', 'R', 'U', 'U', 'L', 'D', 'D', 'R', 'U', 'U', 'L', 'D', 'D', 'R', 'U', 'U', 'L', 'D', 'D', 'R', 'U', 'U', 'L', 'L', 'D', 'D', 'R', 'U', 'U', 'R', 'D', 'D', 'L', 'U', 'U', 'R', 'D', 'D', 'L', 'U', 'U', 'R', 'D', 'D', 'L', 'U', 'U', 'R', 'D', 'D', 'L', 'U', 'U', 'R', 'D', 'L', 'D', 'R', 'U', 'U', 'L', 'D', 'D', 'R', 'U', 'U', 'L', 'D', 'D', 'R', 'U', 'U', 'L', 'D', 'D', 'R', 'U', 'U', 'L', 'D', 'D', 'R', 'U', 'U', 'L', 'L', 'D', 'D', 'R', 'U', 'U', 'R', 'D', 'D', 'L', 'U', 'U', 'R', 'D', 'D', 'L', 'U', 'U', 'R', 'D', 'D', 'L', 'U', 'U', 'R', 'D', 'D', 'L', 'U', 'U', 'R', 'D', 'L', 'D', 'R', 'U', 'U', 'L', 'D', 'D', 'R', 'U', 'U', 'L', 'D', 'D', 'R', 'U', 'U', 'L', 'D', 'D', 'R', 'U', 'U', 'L', 'D', 'D', 'R', 'U', 'U', 'L', 'L', 'D', 'D', 'R', 'U', 'U', 'R', 'D', 'D', 'L', 'U', 'U', 'R', 'D', 'D', 'L', 'U', 'U', 'R', 'D', 'D', 'L', 'U', 'U', 'R', 'D', 'D', 'L', 'U', 'U', 'R', 'D', 'L', 'D', 'R', 'U', 'U', 'L', 'D', 'D', 'R', 'U', 'U', 'L', 'D', 'D', 'R', 'U', 'U', 'L', 'D', 'D', 'R', 'U', 'U', 'L', 'D', 'D', 'R', 'U', 'U', 'L', 'L', 'D', 'D', 'R', 'U', 'U', 'R', 'D', 'D', 'L', 'U', 'U', 'R', 'D', 'D', 'L', 'U', 'U', 'R', 'D', 'D', 'L', 'U', 'U', 'R', 'D', 'D']\n"
          ]
        }
      ],
      "source": [
        "print(\"The Path through DFS method is : \",graph.dfs(state , initial))"
      ]
    },
    {
      "cell_type": "code",
      "execution_count": null,
      "metadata": {
        "id": "f6ff7B1-NOv7"
      },
      "outputs": [],
      "source": []
    },
    {
      "cell_type": "markdown",
      "metadata": {
        "id": "QDxxsc1UNPsU"
      },
      "source": [
        "***Test Case -2***"
      ]
    },
    {
      "cell_type": "code",
      "execution_count": 41,
      "metadata": {
        "colab": {
          "base_uri": "https://localhost:8080/"
        },
        "id": "l-anL1GoNWBk",
        "outputId": "1d6dba5d-f949-47ac-ef7d-2ec5d514ae22"
      },
      "outputs": [
        {
          "name": "stdout",
          "output_type": "stream",
          "text": [
            "Initial State:  [1, 2, 3, 4, 5, 6, 7, 0, 8]\n",
            "Goal State:  [1, 2, 3, 4, 5, 6, 7, 8, 0]\n"
          ]
        }
      ],
      "source": [
        "goalState = [1,2,3,4,5,6,7,8,0]\n",
        "state2 = State(goalState)\n",
        "initial = state2.get_intialState()\n",
        "print(\"Initial State: \",initial)\n",
        "print(\"Goal State: \",state2.finalState)"
      ]
    },
    {
      "cell_type": "markdown",
      "metadata": {
        "id": "a_bbWzm5Nd0S"
      },
      "source": [
        "***Breadth First Search implementation***"
      ]
    },
    {
      "cell_type": "code",
      "execution_count": 42,
      "metadata": {
        "colab": {
          "base_uri": "https://localhost:8080/"
        },
        "id": "IRYQDyclNauO",
        "outputId": "73be73cd-a7d9-4fa0-cc46-d40b7f275f1d"
      },
      "outputs": [
        {
          "name": "stdout",
          "output_type": "stream",
          "text": [
            "The Path through BFS method is : ['R']\n"
          ]
        }
      ],
      "source": [
        "#BFS Implementation\n",
        "graph = Graph()\n",
        "print(\"The Path through BFS method is :\" ,graph.bfs(state2 , initial))"
      ]
    },
    {
      "cell_type": "markdown",
      "metadata": {
        "id": "MinHTWHTNkpq"
      },
      "source": [
        "***Depth Limited Search implementation***"
      ]
    },
    {
      "cell_type": "code",
      "execution_count": 43,
      "metadata": {
        "colab": {
          "base_uri": "https://localhost:8080/"
        },
        "id": "VJTjgFvoNiC3",
        "outputId": "dcf3392f-e1c3-41ae-acab-7fab100da943"
      },
      "outputs": [
        {
          "name": "stdout",
          "output_type": "stream",
          "text": [
            "The Path through DLS method at depth 3 is : ['R']\n"
          ]
        }
      ],
      "source": [
        "print(\"The Path through DLS method at depth 3 is :\" ,graph.dls(state2 , initial , 3))"
      ]
    },
    {
      "cell_type": "code",
      "execution_count": 44,
      "metadata": {
        "colab": {
          "base_uri": "https://localhost:8080/"
        },
        "id": "iepVPICuNnbn",
        "outputId": "3bcefb5c-5cab-41fe-9f14-182fc45d75aa"
      },
      "outputs": [
        {
          "name": "stdout",
          "output_type": "stream",
          "text": [
            "The Path through DLS method at depth 3 is : ['R']\n"
          ]
        }
      ],
      "source": [
        "print(\"The Path through DLS method at depth 3 is :\" ,graph.dls(state2 , initial , 5))"
      ]
    },
    {
      "cell_type": "markdown",
      "metadata": {
        "id": "1BmAnjSBNvM5"
      },
      "source": [
        "***Iterative Deepening Search implementation***"
      ]
    },
    {
      "cell_type": "code",
      "execution_count": 45,
      "metadata": {
        "colab": {
          "base_uri": "https://localhost:8080/"
        },
        "id": "fFSqwWuNNrSw",
        "outputId": "459b4669-53da-4694-e671-01af5bafab59"
      },
      "outputs": [
        {
          "name": "stdout",
          "output_type": "stream",
          "text": [
            "Found Path at Depth :  3\n",
            "The Path through IDS method from depths(3,15) incrementing 2 each time is : ['R']\n"
          ]
        }
      ],
      "source": [
        "print(\"The Path through IDS method from depths(3,15) incrementing 2 each time is :\" ,graph.ids(state2 , initial))"
      ]
    },
    {
      "cell_type": "code",
      "execution_count": 46,
      "metadata": {
        "colab": {
          "base_uri": "https://localhost:8080/"
        },
        "id": "TcvMMzaSNtoD",
        "outputId": "77e89627-8084-4636-b4e0-e778ea7bad80"
      },
      "outputs": [
        {
          "name": "stdout",
          "output_type": "stream",
          "text": [
            "The Path through DFS method is :  ['U', 'U', 'R', 'D', 'D', 'L', 'U', 'U', 'R', 'D', 'D', 'L', 'U', 'U', 'R', 'D', 'D', 'L', 'U', 'U', 'R', 'D', 'D', 'L', 'U', 'U', 'R', 'D', 'D']\n"
          ]
        }
      ],
      "source": [
        "print(\"The Path through DFS method is : \",graph.dfs(state2 , initial))"
      ]
    },
    {
      "cell_type": "markdown",
      "metadata": {},
      "source": [
        "# Informed Search"
      ]
    },
    {
      "cell_type": "code",
      "execution_count": 47,
      "metadata": {
        "id": "KDKHthXoN1Oz"
      },
      "outputs": [],
      "source": [
        "class Heuristic:\n",
        "    stateNew = State()\n",
        "    FinalState = stateNew.get_finalState()\n",
        "    def __init__(self , heuristicChoice):\n",
        "          self.heuristic = heuristicChoice\n",
        "    def getHeuristic(self, currentState):\n",
        "          if(self.heuristic ==0):\n",
        "                return self.nWrongTiles(currentState)\n",
        "    #First Heuristic Function \n",
        "    def nWrongTiles(self, currentState):\n",
        "            result = 0 \n",
        "            for i in range(0,len(self.FinalState)):\n",
        "                 if(currentState[i]!= self.FinalState[i]):\n",
        "                      result+=1\n",
        "            return result\n",
        "      "
      ]
    },
    {
      "cell_type": "code",
      "execution_count": 48,
      "metadata": {},
      "outputs": [],
      "source": [
        "# h = Heuristic()\n",
        "# print(h.nWrongTiles([1,2,3,4,5,7,6,0,8]))"
      ]
    },
    {
      "cell_type": "code",
      "execution_count": 49,
      "metadata": {},
      "outputs": [],
      "source": [
        "from queue import PriorityQueue"
      ]
    },
    {
      "cell_type": "code",
      "execution_count": 50,
      "metadata": {},
      "outputs": [],
      "source": [
        "class InformedGraph():\n",
        "    #This function to is to check the array in the 2-D array\n",
        "    def checkArray(self, arrayArray, elementArray):\n",
        "        for i in arrayArray:\n",
        "            flag = True\n",
        "            for j in range(len(elementArray)):\n",
        "                if(i[j]!=elementArray[j]):\n",
        "                    flag = False\n",
        "            if(flag == True):\n",
        "                return True\n",
        "        return False\n",
        "    #Helper function for array to string\n",
        "    def arrToStr(self , arr):\n",
        "        string = \"\"\n",
        "        for i in arr:\n",
        "            string+= str(i)\n",
        "        return string\n",
        "    #Helper function for string to array\n",
        "    def strToArr(self , str):\n",
        "        arr = []\n",
        "        for i in str:\n",
        "            arr.append(int(i))\n",
        "        return arr\n",
        "    #Function to return the path of steps chosen to get to goal node\n",
        "    def construct_path(self, state ,parent, found_goal):\n",
        "        moves_path = []\n",
        "        while found_goal != state.get_intialState():\n",
        "            foundstr = self.arrToStr(found_goal)\n",
        "            parent_state, move = parent[foundstr]\n",
        "            moves_path.append(move)\n",
        "            found_goal = self.strToArr(parent_state)\n",
        "        moves_path.reverse()\n",
        "        moves_char = []\n",
        "        for i in moves_path:\n",
        "            if(i == 0):\n",
        "                moves_char.append(\"L\")\n",
        "            elif(i == 1):\n",
        "                moves_char.append(\"R\")\n",
        "            elif(i==2):\n",
        "                moves_char.append(\"U\")\n",
        "            elif(i==3):\n",
        "                moves_char.append(\"D\")\n",
        "        return moves_char\n",
        "  \n",
        "    def greedySearch(self, stateObj , initialState, heuristicChoice):\n",
        "        player = Puzzle()\n",
        "        closed = []#visited List\n",
        "        parents = {}\n",
        "        heuristicObj = Heuristic(heuristicChoice)\n",
        "        open = PriorityQueue() #openToGoList \n",
        "        open.put((heuristicObj.getHeuristic(initialState),initialState))\n",
        "        while(open.empty() == False):\n",
        "            heuristicVal , currentState = open.get()\n",
        "            # currentState = open.get()[1]\n",
        "            print(f\"The heuristic value of the state {currentState} is : {heuristicVal}\")\n",
        "            if(stateObj.comparator(currentState)):\n",
        "               return self.construct_path(stateObj , parents  , currentState) \n",
        "            if(self.checkArray(closed , currentState)== False):\n",
        "                closed.append(currentState)\n",
        "                for move in [0,1,2,3]:\n",
        "                    nextState = player.move(move, currentState)\n",
        "                    if(nextState is not None):\n",
        "                        if(self.checkArray(closed , nextState) == False):\n",
        "                            open.put((heuristicObj.getHeuristic(nextState),nextState))\n",
        "                            nextStr = self.arrToStr(nextState)\n",
        "                            curStr = self.arrToStr(currentState)\n",
        "                            parents[nextStr] = (curStr , move)\n",
        "                    else:\n",
        "                        pass \n",
        "        return None\n",
        "    \n",
        "\n",
        "    def AstarSearch(self, stateObj , initialState, heuristicChoice):\n",
        "        player = Puzzle()\n",
        "        closed = []#visited List\n",
        "        parents = {}\n",
        "        heuristicObj = Heuristic(heuristicChoice)\n",
        "        open = PriorityQueue() #openToGoList \n",
        "        open.put((heuristicObj.getHeuristic(initialState),initialState))\n",
        "        while(open.empty() == False):\n",
        "            heuristicVal , currentState = open.get()\n",
        "            # currentState = open.get()[1]\n",
        "            print(f\"The heuristic(h(n) + depth) value of the state {currentState} is : {heuristicVal}\")\n",
        "            if(stateObj.comparator(currentState)):\n",
        "               return self.construct_path(stateObj , parents  , currentState) \n",
        "            if(self.checkArray(closed , currentState)== False):\n",
        "                closed.append(currentState)\n",
        "                for move in [0,1,2,3]:\n",
        "                    nextState = player.move(move, currentState)\n",
        "                    if(nextState is not None):\n",
        "                        if(self.checkArray(closed , nextState) == False):\n",
        "                            depth = len(self.construct_path(stateObj , parents  , currentState)) + 1 \n",
        "                            open.put(((heuristicObj.getHeuristic(nextState)+depth),nextState))\n",
        "                            nextStr = self.arrToStr(nextState)\n",
        "                            curStr = self.arrToStr(currentState)\n",
        "                            parents[nextStr] = (curStr , move)\n",
        "                    else:\n",
        "                        pass \n",
        "        return None\n"
      ]
    },
    {
      "cell_type": "code",
      "execution_count": 51,
      "metadata": {},
      "outputs": [
        {
          "name": "stdout",
          "output_type": "stream",
          "text": [
            "Initial State:  [1, 2, 3, 4, 8, 5, 0, 7, 6]\n",
            "FinaL state:  [1, 2, 3, 4, 5, 6, 7, 8, 0]\n"
          ]
        }
      ],
      "source": [
        "finalState_1 = [1,2,3,4,5,6,7,8,0]\n",
        "state = State(finalState_1)\n",
        "initial = state.get_intialState()\n",
        "print(\"Initial State: \",initial)\n",
        "print(\"FinaL state: \",state.finalState)"
      ]
    },
    {
      "cell_type": "code",
      "execution_count": 52,
      "metadata": {},
      "outputs": [],
      "source": [
        "graph = Graph()\n",
        "informedGraphObj = InformedGraph()"
      ]
    },
    {
      "cell_type": "code",
      "execution_count": 53,
      "metadata": {},
      "outputs": [
        {
          "name": "stdout",
          "output_type": "stream",
          "text": [
            "The Path through BFS method is : ['R', 'U', 'R', 'D']\n"
          ]
        }
      ],
      "source": [
        "#Getting the Path's of the uninformed and informed graph search \n",
        "searchResults = {}\n",
        "bfsResult = graph.bfs(state , initial)\n",
        "if(bfsResult == None):\n",
        "    bfsResult = \"None\"\n",
        "else:\n",
        "    searchResults[\"Breadth First Search\"] = len(bfsResult)\n",
        "print(\"The Path through BFS method is :\" ,bfsResult)"
      ]
    },
    {
      "cell_type": "code",
      "execution_count": 54,
      "metadata": {},
      "outputs": [
        {
          "name": "stdout",
          "output_type": "stream",
          "text": [
            "The Path through DLS method at depth 10 is : ['R', 'R', 'U', 'L', 'D', 'R', 'U', 'L', 'D', 'R']\n"
          ]
        }
      ],
      "source": [
        "dlsResult = graph.dls(state , initial , 10)\n",
        "if(dlsResult == None):\n",
        "    dlsResult = \"None\"\n",
        "else:\n",
        "    searchResults[\"Depth Limited Search\"] = len(dlsResult)\n",
        "print(\"The Path through DLS method at depth 10 is :\" ,dlsResult)"
      ]
    },
    {
      "cell_type": "code",
      "execution_count": 55,
      "metadata": {},
      "outputs": [
        {
          "name": "stdout",
          "output_type": "stream",
          "text": [
            "Found None at Depth :  3\n",
            "Found Path at Depth :  5\n",
            "The Path through IDS method from depths(3,15) incrementing 2 each time is : ['R', 'U', 'R', 'D']\n"
          ]
        }
      ],
      "source": [
        "idsResult = graph.ids(state , initial)\n",
        "if(idsResult == None):\n",
        "    idsResult = \"None\"\n",
        "else:    \n",
        "    searchResults[\"Iterative Deepening Search\"] = len(idsResult)\n",
        "print(\"The Path through IDS method from depths(3,15) incrementing 2 each time is :\" ,idsResult)"
      ]
    },
    {
      "cell_type": "code",
      "execution_count": 56,
      "metadata": {},
      "outputs": [
        {
          "name": "stdout",
          "output_type": "stream",
          "text": [
            "The Path through DFS method is :  ['U', 'U', 'R', 'D', 'D', 'R', 'U', 'U', 'L', 'D', 'D', 'R', 'U', 'U', 'L', 'D', 'D', 'R', 'U', 'U', 'L', 'D', 'D', 'R', 'U', 'U', 'L', 'D', 'D', 'R', 'U', 'L', 'D', 'R', 'U', 'U', 'L', 'D', 'D', 'R', 'U', 'U', 'L', 'D', 'D', 'R', 'U', 'U', 'L', 'D', 'D', 'R', 'U', 'U', 'L', 'D', 'D', 'R', 'U', 'U', 'L', 'L', 'D', 'D', 'R', 'U', 'U', 'R', 'D', 'D', 'L', 'U', 'U', 'R', 'D', 'D', 'L', 'U', 'U', 'R', 'D', 'D', 'L', 'U', 'U', 'R', 'D', 'D', 'L', 'U', 'U', 'R', 'D', 'L', 'D', 'R', 'U', 'U', 'L', 'D', 'D', 'R', 'U', 'U', 'L', 'D', 'D', 'R', 'U', 'U', 'L', 'D', 'D', 'R', 'U', 'U', 'L', 'D', 'D', 'R', 'U', 'U', 'L', 'L', 'D', 'D', 'R', 'U', 'U', 'R', 'D', 'D', 'L', 'U', 'U', 'R', 'D', 'D', 'L', 'U', 'U', 'R', 'D', 'D', 'L', 'U', 'U', 'R', 'D', 'D', 'L', 'U', 'U', 'R', 'D', 'L', 'D', 'R', 'U', 'U', 'L', 'D', 'D', 'R', 'U', 'U', 'L', 'D', 'D', 'R', 'U', 'U', 'L', 'D', 'D', 'R', 'U', 'U', 'L', 'D', 'D', 'R', 'U', 'U', 'L', 'L', 'D', 'D', 'R', 'U', 'U', 'R', 'D', 'D', 'L', 'U', 'U', 'R', 'D', 'D', 'L', 'U', 'U', 'R', 'D', 'D', 'L', 'U', 'U', 'R', 'D', 'D', 'L', 'U', 'U', 'R', 'D', 'L', 'D', 'R', 'U', 'U', 'L', 'D', 'D', 'R', 'U', 'U', 'L', 'D', 'D', 'R', 'U', 'U', 'L', 'D', 'D', 'R', 'U', 'U', 'L', 'D', 'D', 'R', 'U', 'U', 'L', 'L', 'D', 'D', 'R', 'U', 'U', 'R', 'D', 'D', 'L', 'U', 'U', 'R', 'D', 'D', 'L', 'U', 'U', 'R', 'D', 'D', 'L', 'U', 'U', 'R', 'D', 'D', 'L', 'U', 'U', 'R', 'D', 'L', 'D', 'R', 'U', 'U', 'L', 'D', 'D', 'R', 'U', 'U', 'L', 'D', 'D', 'R', 'U', 'U', 'L', 'D', 'D', 'R', 'U', 'U', 'L', 'D', 'D', 'R', 'U', 'U', 'L', 'L', 'D', 'D', 'R', 'U', 'U', 'R', 'D', 'D', 'L', 'U', 'U', 'R', 'D', 'D', 'L', 'U', 'U', 'R', 'D', 'D', 'L', 'U', 'U', 'R', 'D', 'D', 'L', 'U', 'U', 'R', 'D', 'L', 'D', 'R', 'U', 'U', 'L', 'D', 'D', 'R', 'U', 'U', 'L', 'D', 'D', 'R', 'U', 'U', 'L', 'D', 'D', 'R', 'U', 'U', 'L', 'D', 'D', 'R', 'U', 'U', 'L', 'L', 'D', 'D', 'R', 'U', 'U', 'R', 'D', 'D', 'L', 'U', 'U', 'R', 'D', 'D', 'L', 'U', 'U', 'R', 'D', 'D', 'L', 'U', 'U', 'R', 'D', 'D', 'L', 'U', 'U', 'R', 'D', 'L', 'D', 'R', 'U', 'U', 'L', 'D', 'D', 'R', 'U', 'U', 'L', 'D', 'D', 'R', 'U', 'U', 'L', 'D', 'D', 'R', 'U', 'U', 'L', 'D', 'D', 'R', 'U', 'U', 'L', 'L', 'D', 'R', 'D', 'R', 'U', 'U', 'L', 'D', 'D', 'R', 'U', 'U', 'L', 'D', 'D', 'R', 'U', 'U', 'L', 'D', 'D', 'R', 'U', 'U', 'L', 'D', 'D', 'R', 'U', 'U', 'L', 'L', 'D', 'D', 'R', 'U', 'U', 'R', 'D', 'D', 'L', 'U', 'U', 'R', 'D', 'D', 'L', 'U', 'U', 'R', 'D', 'D', 'L', 'U', 'U', 'R', 'D', 'D', 'L', 'U', 'U', 'R', 'D', 'L', 'D', 'R', 'U', 'U', 'L', 'D', 'D', 'R', 'U', 'U', 'L', 'D', 'D', 'R', 'U', 'U', 'L', 'D', 'D', 'R', 'U', 'U', 'L', 'D', 'D', 'R', 'U', 'U', 'L', 'L', 'D', 'D', 'R', 'U', 'U', 'R', 'D', 'D', 'L', 'U', 'U', 'R', 'D', 'D', 'L', 'U', 'U', 'R', 'D', 'D', 'L', 'U', 'U', 'R', 'D', 'D', 'L', 'U', 'U', 'R', 'D', 'L', 'D', 'R', 'U', 'U', 'L', 'D', 'D', 'R', 'U', 'U', 'L', 'D', 'D', 'R', 'U', 'U', 'L', 'D', 'D', 'R']\n"
          ]
        }
      ],
      "source": [
        "dfsResult = graph.dfs(state , initial)\n",
        "if(dfsResult == None):\n",
        "    dfsResult = \"None\"\n",
        "else:\n",
        "    searchResults[\"Depth First Search\"] = len(dfsResult)\n",
        "print(\"The Path through DFS method is : \",dfsResult)"
      ]
    },
    {
      "cell_type": "markdown",
      "metadata": {},
      "source": [
        "# Informed Search"
      ]
    },
    {
      "cell_type": "code",
      "execution_count": 57,
      "metadata": {},
      "outputs": [
        {
          "name": "stdout",
          "output_type": "stream",
          "text": [
            "The heuristic value of the state [1, 2, 3, 4, 8, 5, 0, 7, 6] is : 5\n",
            "The heuristic value of the state [1, 2, 3, 4, 8, 5, 7, 0, 6] is : 4\n",
            "The heuristic value of the state [1, 2, 3, 4, 0, 5, 7, 8, 6] is : 3\n",
            "The heuristic value of the state [1, 2, 3, 4, 5, 0, 7, 8, 6] is : 2\n",
            "The heuristic value of the state [1, 2, 3, 4, 5, 6, 7, 8, 0] is : 0\n",
            "The Path through Greedy Search method is :  ['R', 'U', 'R', 'D']\n"
          ]
        }
      ],
      "source": [
        "greeedyResult = informedGraphObj.greedySearch(state , initial , 0)\n",
        "if(greeedyResult == None):\n",
        "    greeedyResult = \"None\"\n",
        "else:\n",
        "    searchResults[\"Greedy Search\"] = len(greeedyResult)\n",
        "print(\"The Path through Greedy Search method is : \",greeedyResult)"
      ]
    },
    {
      "cell_type": "code",
      "execution_count": 58,
      "metadata": {},
      "outputs": [
        {
          "name": "stdout",
          "output_type": "stream",
          "text": [
            "The heuristic(h(n) + depth) value of the state [1, 2, 3, 4, 8, 5, 0, 7, 6] is : 5\n",
            "The heuristic(h(n) + depth) value of the state [1, 2, 3, 4, 8, 5, 7, 0, 6] is : 5\n",
            "The heuristic(h(n) + depth) value of the state [1, 2, 3, 4, 0, 5, 7, 8, 6] is : 5\n",
            "The heuristic(h(n) + depth) value of the state [1, 2, 3, 4, 5, 0, 7, 8, 6] is : 5\n",
            "The heuristic(h(n) + depth) value of the state [1, 2, 3, 4, 5, 6, 7, 8, 0] is : 4\n",
            "The Path through A* Search method is :  ['R', 'U', 'R', 'D']\n"
          ]
        }
      ],
      "source": [
        "AstarResult = informedGraphObj.AstarSearch(state , initial , 0)\n",
        "if(AstarResult == None):\n",
        "    AstarResult = \"None\"\n",
        "else:\n",
        "    searchResults[\"A* Search\"] = len(AstarResult)\n",
        "print(\"The Path through A* Search method is : \",AstarResult)"
      ]
    },
    {
      "cell_type": "code",
      "execution_count": 59,
      "metadata": {},
      "outputs": [
        {
          "name": "stdout",
          "output_type": "stream",
          "text": [
            "Breadth First Search  :  4\n",
            "Depth Limited Search  :  10\n",
            "Iterative Deepening Search  :  4\n",
            "Depth First Search  :  580\n",
            "Greedy Search  :  4\n",
            "A* Search  :  4\n"
          ]
        }
      ],
      "source": [
        "for i in searchResults:\n",
        "    print(i , \" : \" , searchResults[i])"
      ]
    },
    {
      "cell_type": "markdown",
      "metadata": {},
      "source": [
        "Performing all the search Algorithms with the know Initial State"
      ]
    },
    {
      "cell_type": "code",
      "execution_count": 60,
      "metadata": {},
      "outputs": [],
      "source": [
        "initialState_1 = [1,3,6,4,0,2,7,5,8]\n",
        "state.set_initialState(initialState_1)\n",
        "initial = state.get_intialState()"
      ]
    },
    {
      "cell_type": "code",
      "execution_count": 61,
      "metadata": {},
      "outputs": [
        {
          "name": "stdout",
          "output_type": "stream",
          "text": [
            "Initial State:  [1, 3, 6, 4, 0, 2, 7, 5, 8]\n",
            "FinaL state:  [1, 2, 3, 4, 5, 6, 7, 8, 0]\n"
          ]
        }
      ],
      "source": [
        "print(\"Initial State: \",initial)\n",
        "print(\"FinaL state: \",state.finalState)"
      ]
    },
    {
      "cell_type": "code",
      "execution_count": 62,
      "metadata": {},
      "outputs": [],
      "source": [
        "graph = Graph()\n",
        "informedGraphObj = InformedGraph()"
      ]
    },
    {
      "cell_type": "code",
      "execution_count": 63,
      "metadata": {},
      "outputs": [
        {
          "name": "stdout",
          "output_type": "stream",
          "text": [
            "The Path through BFS method is : ['R', 'U', 'L', 'D', 'D', 'R']\n"
          ]
        }
      ],
      "source": [
        "searchResults = {}\n",
        "bfsResult = graph.bfs(state , initial)\n",
        "if(bfsResult == None):\n",
        "    bfsResult = \"None\"\n",
        "else:\n",
        "    searchResults[\"Breadth First Search\"] = len(bfsResult)\n",
        "print(\"The Path through BFS method is :\" ,bfsResult)"
      ]
    },
    {
      "cell_type": "code",
      "execution_count": 64,
      "metadata": {},
      "outputs": [
        {
          "name": "stdout",
          "output_type": "stream",
          "text": [
            "The Path through DFS method is :  ['D', 'R', 'U', 'U', 'L', 'D', 'D', 'R', 'U', 'U', 'L', 'D', 'D', 'R', 'U', 'U', 'L', 'D', 'D', 'R', 'U', 'U', 'L', 'D', 'D', 'R', 'U', 'U', 'L', 'L', 'D', 'D', 'R', 'U', 'U', 'R', 'D', 'D', 'L', 'U', 'U', 'R', 'D', 'D', 'L', 'U', 'U', 'R', 'D', 'D', 'L', 'U', 'U', 'R', 'D', 'D', 'L', 'U', 'U', 'R', 'D', 'L', 'D', 'R', 'U', 'U', 'L', 'D', 'D', 'R', 'U', 'U', 'L', 'D', 'D', 'R', 'U', 'U', 'L', 'D', 'D', 'R', 'U', 'U', 'L', 'D', 'D', 'R', 'U', 'U', 'L', 'L', 'D', 'D', 'R', 'U', 'U', 'R', 'D', 'D', 'L', 'U', 'U', 'R', 'D', 'D', 'L', 'U', 'U', 'R', 'D', 'D', 'L', 'U', 'U', 'R', 'D', 'D', 'L', 'U', 'U', 'R', 'D', 'L', 'D', 'R', 'U', 'U', 'L', 'D', 'D', 'R', 'U', 'U', 'L', 'D', 'D', 'R', 'U', 'U', 'L', 'D', 'D', 'R', 'U', 'U', 'L', 'D', 'D', 'R', 'U', 'U', 'L', 'L', 'D', 'D', 'R', 'U', 'U', 'R', 'D', 'D', 'L', 'U', 'U', 'R', 'D', 'D', 'L', 'U', 'U', 'R', 'D', 'D', 'L', 'U', 'U', 'R', 'D', 'D', 'L', 'U', 'U', 'R', 'D', 'L', 'D', 'R', 'U', 'U', 'L', 'D', 'D', 'R', 'U', 'U', 'L', 'D', 'D', 'R', 'U', 'U', 'L', 'D', 'D', 'R', 'U', 'U', 'L', 'D', 'D', 'R', 'U', 'U', 'L', 'L', 'D', 'D', 'R', 'U', 'U', 'R', 'D', 'D', 'L', 'U', 'U', 'R', 'D', 'D', 'L', 'U', 'U', 'R', 'D', 'D', 'L', 'U', 'U', 'R', 'D', 'D', 'L', 'U', 'U', 'R', 'D', 'L', 'D', 'R', 'U', 'U', 'L', 'D', 'D', 'R', 'U', 'U', 'L', 'D', 'D', 'R', 'U', 'U', 'L', 'D', 'D', 'R', 'U', 'U', 'L', 'D', 'D', 'R', 'U', 'U', 'L', 'L', 'D', 'D', 'R', 'U', 'U', 'R', 'D', 'D', 'L', 'U', 'U', 'R', 'D', 'D', 'L', 'U', 'U', 'R', 'D', 'D', 'L', 'U', 'U', 'R', 'D', 'D', 'L', 'U', 'U', 'R', 'D', 'L', 'D', 'R', 'U', 'U', 'L', 'D', 'D', 'R', 'U', 'U', 'L', 'D', 'D', 'R', 'U', 'U', 'L', 'D', 'D', 'R', 'U', 'U', 'L', 'D', 'D', 'R', 'U', 'U', 'L', 'L', 'D', 'D', 'R', 'U', 'U', 'R', 'D', 'D', 'L', 'U', 'U', 'R', 'D', 'D', 'L', 'U', 'U', 'R', 'D', 'D', 'L', 'U', 'U', 'R', 'D', 'D', 'L', 'U', 'U', 'R', 'D', 'L', 'D', 'R', 'U', 'U', 'L', 'D', 'D', 'R', 'U', 'U', 'L', 'D', 'D', 'R', 'U', 'U', 'L', 'D', 'D', 'R', 'U', 'U', 'L', 'D', 'D', 'R', 'U', 'U', 'L', 'L', 'D', 'D', 'R', 'U', 'U', 'R', 'D', 'D', 'L', 'U', 'U', 'R', 'D', 'D', 'L', 'U', 'U', 'R', 'D', 'D', 'L', 'U', 'U', 'R', 'D', 'D']\n"
          ]
        }
      ],
      "source": [
        "dfsResult = graph.dfs(state , initial)\n",
        "if(dfsResult == None):\n",
        "    dfsResult = \"None\"\n",
        "else:\n",
        "    searchResults[\"Depth First Search\"] = len(dfsResult)\n",
        "print(\"The Path through DFS method is : \",dfsResult)"
      ]
    },
    {
      "cell_type": "code",
      "execution_count": 65,
      "metadata": {},
      "outputs": [
        {
          "name": "stdout",
          "output_type": "stream",
          "text": [
            "The Path through DLS method at depth 10 is : ['U', 'R', 'D', 'L', 'U', 'R', 'D', 'L', 'D', 'R']\n"
          ]
        }
      ],
      "source": [
        "dlsResult = graph.dls(state , initial , 10)\n",
        "if(dlsResult == None):\n",
        "    dlsResult = \"None\"\n",
        "else:\n",
        "    searchResults[\"Depth Limited Search\"] = len(dlsResult)\n",
        "print(\"The Path through DLS method at depth 10 is :\" ,dlsResult)"
      ]
    },
    {
      "cell_type": "code",
      "execution_count": 66,
      "metadata": {},
      "outputs": [
        {
          "name": "stdout",
          "output_type": "stream",
          "text": [
            "Found None at Depth :  3\n",
            "Found None at Depth :  5\n",
            "Found Path at Depth :  7\n",
            "The Path through IDS method from depths(3,15) incrementing 2 each time is : ['R', 'U', 'L', 'D', 'D', 'R']\n"
          ]
        }
      ],
      "source": [
        "idsResult = graph.ids(state , initial)\n",
        "if(idsResult == None):\n",
        "    idsResult = \"None\"\n",
        "else:\n",
        "    searchResults[\"Iterative Deepening Search\"] = len(idsResult)\n",
        "print(\"The Path through IDS method from depths(3,15) incrementing 2 each time is :\" ,idsResult)"
      ]
    },
    {
      "cell_type": "markdown",
      "metadata": {},
      "source": [
        "# Informed Search"
      ]
    },
    {
      "cell_type": "code",
      "execution_count": 67,
      "metadata": {},
      "outputs": [
        {
          "name": "stdout",
          "output_type": "stream",
          "text": [
            "The heuristic value of the state [1, 3, 6, 4, 0, 2, 7, 5, 8] is : 6\n",
            "The heuristic value of the state [1, 3, 6, 4, 5, 2, 7, 0, 8] is : 5\n",
            "The heuristic value of the state [1, 3, 6, 4, 5, 2, 7, 8, 0] is : 3\n",
            "The heuristic value of the state [1, 3, 6, 4, 5, 0, 7, 8, 2] is : 4\n",
            "The heuristic value of the state [1, 3, 0, 4, 5, 6, 7, 8, 2] is : 3\n",
            "The heuristic value of the state [1, 0, 3, 4, 5, 6, 7, 8, 2] is : 2\n",
            "The heuristic value of the state [0, 1, 3, 4, 5, 6, 7, 8, 2] is : 3\n",
            "The heuristic value of the state [1, 5, 3, 4, 0, 6, 7, 8, 2] is : 3\n",
            "The heuristic value of the state [1, 5, 3, 0, 4, 6, 7, 8, 2] is : 4\n",
            "The heuristic value of the state [1, 5, 3, 4, 6, 0, 7, 8, 2] is : 4\n",
            "The heuristic value of the state [1, 5, 3, 4, 6, 2, 7, 8, 0] is : 3\n",
            "The heuristic value of the state [1, 5, 3, 4, 8, 6, 7, 0, 2] is : 4\n",
            "The heuristic value of the state [1, 5, 3, 4, 8, 6, 7, 2, 0] is : 3\n",
            "The heuristic value of the state [4, 1, 3, 0, 5, 6, 7, 8, 2] is : 4\n",
            "The heuristic value of the state [0, 5, 3, 1, 4, 6, 7, 8, 2] is : 5\n",
            "The heuristic value of the state [1, 3, 6, 4, 0, 5, 7, 8, 2] is : 5\n",
            "The heuristic value of the state [1, 0, 6, 4, 3, 5, 7, 8, 2] is : 5\n",
            "The heuristic value of the state [1, 5, 0, 4, 6, 3, 7, 8, 2] is : 5\n",
            "The heuristic value of the state [1, 0, 5, 4, 6, 3, 7, 8, 2] is : 5\n",
            "The heuristic value of the state [1, 5, 3, 4, 6, 2, 7, 0, 8] is : 5\n",
            "The heuristic value of the state [1, 5, 3, 4, 0, 2, 7, 6, 8] is : 5\n",
            "The heuristic value of the state [1, 0, 3, 4, 5, 2, 7, 6, 8] is : 4\n",
            "The heuristic value of the state [0, 1, 3, 4, 5, 2, 7, 6, 8] is : 5\n",
            "The heuristic value of the state [1, 3, 0, 4, 5, 2, 7, 6, 8] is : 5\n",
            "The heuristic value of the state [1, 3, 2, 4, 5, 0, 7, 6, 8] is : 5\n",
            "The heuristic value of the state [1, 3, 2, 4, 5, 8, 7, 6, 0] is : 4\n",
            "The heuristic value of the state [1, 3, 2, 4, 5, 8, 7, 0, 6] is : 5\n",
            "The heuristic value of the state [1, 5, 3, 4, 2, 0, 7, 6, 8] is : 5\n",
            "The heuristic value of the state [1, 5, 3, 4, 2, 8, 7, 6, 0] is : 4\n",
            "The heuristic value of the state [1, 5, 3, 4, 2, 8, 7, 0, 6] is : 5\n",
            "The heuristic value of the state [1, 5, 3, 4, 0, 8, 7, 2, 6] is : 5\n",
            "The heuristic value of the state [1, 0, 3, 4, 5, 8, 7, 2, 6] is : 4\n",
            "The heuristic value of the state [0, 1, 3, 4, 5, 8, 7, 2, 6] is : 5\n",
            "The heuristic value of the state [1, 3, 0, 4, 5, 8, 7, 2, 6] is : 5\n",
            "The heuristic value of the state [1, 3, 8, 4, 5, 0, 7, 2, 6] is : 5\n",
            "The heuristic value of the state [1, 3, 8, 4, 5, 6, 7, 2, 0] is : 3\n",
            "The heuristic value of the state [1, 3, 8, 4, 5, 6, 7, 0, 2] is : 4\n",
            "The heuristic value of the state [1, 3, 8, 4, 0, 6, 7, 5, 2] is : 5\n",
            "The heuristic value of the state [1, 0, 8, 4, 3, 6, 7, 5, 2] is : 5\n",
            "The heuristic value of the state [1, 3, 8, 4, 5, 6, 0, 7, 2] is : 5\n",
            "The heuristic value of the state [1, 5, 3, 4, 8, 0, 7, 2, 6] is : 5\n",
            "The heuristic value of the state [1, 5, 3, 4, 8, 0, 7, 2, 6] is : 5\n",
            "The heuristic value of the state [1, 5, 3, 4, 8, 6, 0, 7, 2] is : 5\n",
            "The heuristic value of the state [1, 5, 3, 7, 4, 6, 0, 8, 2] is : 5\n",
            "The heuristic value of the state [1, 6, 0, 4, 3, 5, 7, 8, 2] is : 5\n",
            "The heuristic value of the state [1, 6, 5, 4, 0, 3, 7, 8, 2] is : 5\n",
            "The heuristic value of the state [1, 6, 5, 4, 3, 0, 7, 8, 2] is : 5\n",
            "The heuristic value of the state [1, 6, 5, 4, 3, 2, 7, 8, 0] is : 4\n",
            "The heuristic value of the state [1, 6, 5, 4, 3, 0, 7, 8, 2] is : 5\n",
            "The heuristic value of the state [1, 8, 0, 4, 3, 6, 7, 5, 2] is : 5\n",
            "The heuristic value of the state [4, 1, 3, 5, 0, 6, 7, 8, 2] is : 5\n",
            "The heuristic value of the state [4, 0, 3, 5, 1, 6, 7, 8, 2] is : 5\n",
            "The heuristic value of the state [0, 4, 3, 5, 1, 6, 7, 8, 2] is : 5\n",
            "The heuristic value of the state [4, 1, 3, 7, 5, 6, 0, 8, 2] is : 5\n",
            "The heuristic value of the state [5, 0, 3, 1, 4, 6, 7, 8, 2] is : 5\n",
            "The heuristic value of the state [5, 4, 3, 0, 1, 6, 7, 8, 2] is : 5\n",
            "The heuristic value of the state [5, 4, 3, 1, 0, 6, 7, 8, 2] is : 5\n",
            "The heuristic value of the state [5, 4, 3, 1, 0, 6, 7, 8, 2] is : 5\n",
            "The heuristic value of the state [0, 1, 5, 4, 6, 3, 7, 8, 2] is : 6\n",
            "The heuristic value of the state [0, 1, 6, 4, 3, 5, 7, 8, 2] is : 6\n",
            "The heuristic value of the state [0, 1, 8, 4, 3, 6, 7, 5, 2] is : 6\n",
            "The heuristic value of the state [1, 0, 6, 4, 3, 2, 7, 5, 8] is : 6\n",
            "The heuristic value of the state [1, 3, 2, 4, 0, 5, 7, 6, 8] is : 6\n",
            "The heuristic value of the state [1, 0, 2, 4, 3, 5, 7, 6, 8] is : 6\n",
            "The heuristic value of the state [1, 2, 0, 4, 3, 5, 7, 6, 8] is : 5\n",
            "The heuristic value of the state [1, 2, 5, 4, 3, 0, 7, 6, 8] is : 5\n",
            "The heuristic value of the state [1, 2, 5, 4, 3, 8, 7, 6, 0] is : 4\n",
            "The heuristic value of the state [1, 2, 5, 4, 0, 3, 7, 6, 8] is : 5\n",
            "The heuristic value of the state [1, 2, 5, 4, 3, 8, 7, 0, 6] is : 5\n",
            "The heuristic value of the state [1, 2, 5, 4, 0, 8, 7, 3, 6] is : 5\n",
            "The heuristic value of the state [1, 2, 5, 4, 6, 3, 7, 0, 8] is : 5\n",
            "The heuristic value of the state [1, 2, 5, 4, 6, 3, 7, 8, 0] is : 3\n",
            "The heuristic value of the state [1, 2, 5, 4, 6, 0, 7, 8, 3] is : 4\n",
            "The heuristic value of the state [1, 2, 5, 4, 0, 6, 7, 8, 3] is : 3\n",
            "The heuristic value of the state [1, 0, 5, 4, 2, 6, 7, 8, 3] is : 4\n",
            "The heuristic value of the state [1, 2, 0, 4, 6, 5, 7, 8, 3] is : 4\n",
            "The heuristic value of the state [1, 2, 5, 0, 4, 6, 7, 8, 3] is : 4\n",
            "The heuristic value of the state [1, 2, 5, 4, 8, 6, 7, 0, 3] is : 4\n",
            "The heuristic value of the state [1, 2, 5, 4, 8, 6, 7, 3, 0] is : 3\n",
            "The heuristic value of the state [1, 5, 0, 4, 2, 6, 7, 8, 3] is : 4\n",
            "The heuristic value of the state [0, 1, 5, 4, 2, 6, 7, 8, 3] is : 5\n",
            "The heuristic value of the state [0, 2, 5, 1, 4, 6, 7, 8, 3] is : 5\n",
            "The heuristic value of the state [1, 0, 2, 4, 6, 5, 7, 8, 3] is : 5\n",
            "The heuristic value of the state [1, 2, 5, 4, 8, 0, 7, 3, 6] is : 5\n",
            "The heuristic value of the state [1, 2, 0, 4, 8, 5, 7, 3, 6] is : 5\n",
            "The heuristic value of the state [1, 2, 5, 4, 8, 0, 7, 3, 6] is : 5\n",
            "The heuristic value of the state [1, 2, 5, 4, 8, 6, 0, 7, 3] is : 5\n",
            "The heuristic value of the state [1, 2, 5, 7, 4, 6, 0, 8, 3] is : 5\n",
            "The heuristic value of the state [1, 5, 6, 4, 2, 0, 7, 8, 3] is : 5\n",
            "The heuristic value of the state [1, 5, 6, 4, 2, 3, 7, 8, 0] is : 4\n",
            "The heuristic value of the state [1, 5, 6, 4, 0, 2, 7, 8, 3] is : 5\n",
            "The heuristic value of the state [1, 0, 6, 4, 5, 2, 7, 8, 3] is : 4\n",
            "The heuristic value of the state [1, 6, 0, 4, 5, 2, 7, 8, 3] is : 4\n",
            "The heuristic value of the state [1, 6, 2, 4, 5, 0, 7, 8, 3] is : 4\n",
            "The heuristic value of the state [1, 6, 2, 4, 5, 3, 7, 8, 0] is : 3\n",
            "The heuristic value of the state [0, 1, 6, 4, 5, 2, 7, 8, 3] is : 5\n",
            "The heuristic value of the state [1, 6, 2, 4, 0, 5, 7, 8, 3] is : 5\n",
            "The heuristic value of the state [1, 6, 2, 4, 0, 5, 7, 8, 3] is : 5\n",
            "The heuristic value of the state [1, 6, 2, 4, 5, 3, 7, 0, 8] is : 5\n",
            "The heuristic value of the state [0, 1, 2, 4, 6, 5, 7, 8, 3] is : 6\n",
            "The heuristic value of the state [1, 0, 2, 4, 8, 5, 7, 3, 6] is : 6\n",
            "The heuristic value of the state [1, 0, 5, 4, 2, 3, 7, 6, 8] is : 6\n",
            "The heuristic value of the state [1, 0, 5, 4, 2, 8, 7, 3, 6] is : 6\n",
            "The heuristic value of the state [1, 2, 5, 0, 4, 3, 7, 6, 8] is : 6\n",
            "The heuristic value of the state [1, 2, 5, 0, 4, 8, 7, 3, 6] is : 6\n",
            "The heuristic value of the state [1, 2, 5, 0, 8, 6, 4, 7, 3] is : 6\n",
            "The heuristic value of the state [1, 2, 5, 4, 3, 8, 0, 7, 6] is : 6\n",
            "The heuristic value of the state [1, 2, 5, 4, 6, 3, 0, 7, 8] is : 6\n",
            "The heuristic value of the state [1, 2, 5, 7, 4, 6, 8, 0, 3] is : 6\n",
            "The heuristic value of the state [1, 2, 5, 7, 4, 6, 8, 3, 0] is : 5\n",
            "The heuristic value of the state [1, 2, 5, 7, 0, 6, 8, 4, 3] is : 6\n",
            "The heuristic value of the state [1, 2, 5, 0, 7, 6, 8, 4, 3] is : 6\n",
            "The heuristic value of the state [1, 2, 5, 8, 0, 6, 4, 7, 3] is : 6\n",
            "The heuristic value of the state [1, 2, 5, 8, 7, 6, 0, 4, 3] is : 6\n",
            "The heuristic value of the state [1, 2, 5, 8, 7, 6, 4, 0, 3] is : 6\n",
            "The heuristic value of the state [1, 2, 5, 8, 7, 6, 4, 3, 0] is : 5\n",
            "The heuristic value of the state [1, 2, 5, 8, 7, 6, 4, 0, 3] is : 6\n",
            "The heuristic value of the state [1, 3, 2, 4, 0, 8, 7, 5, 6] is : 6\n",
            "The heuristic value of the state [1, 0, 2, 4, 3, 8, 7, 5, 6] is : 6\n",
            "The heuristic value of the state [1, 2, 0, 4, 3, 8, 7, 5, 6] is : 5\n",
            "The heuristic value of the state [1, 2, 8, 4, 3, 0, 7, 5, 6] is : 5\n",
            "The heuristic value of the state [1, 2, 8, 4, 3, 6, 7, 5, 0] is : 3\n",
            "The heuristic value of the state [1, 2, 8, 4, 3, 6, 7, 0, 5] is : 4\n",
            "The heuristic value of the state [1, 2, 8, 4, 0, 6, 7, 3, 5] is : 4\n",
            "The heuristic value of the state [1, 0, 8, 4, 2, 6, 7, 3, 5] is : 5\n",
            "The heuristic value of the state [1, 2, 8, 0, 4, 6, 7, 3, 5] is : 5\n",
            "The heuristic value of the state [1, 2, 8, 4, 0, 3, 7, 5, 6] is : 5\n",
            "The heuristic value of the state [1, 2, 8, 4, 5, 3, 7, 0, 6] is : 4\n",
            "The heuristic value of the state [1, 2, 8, 4, 5, 3, 7, 6, 0] is : 3\n",
            "The heuristic value of the state [1, 2, 8, 4, 5, 0, 7, 6, 3] is : 4\n",
            "The heuristic value of the state [1, 2, 0, 4, 5, 8, 7, 6, 3] is : 4\n",
            "The heuristic value of the state [1, 0, 2, 4, 5, 8, 7, 6, 3] is : 5\n",
            "The heuristic value of the state [1, 2, 8, 4, 0, 5, 7, 6, 3] is : 5\n",
            "The heuristic value of the state [1, 2, 8, 4, 3, 6, 0, 7, 5] is : 5\n",
            "The heuristic value of the state [1, 2, 8, 4, 5, 3, 0, 7, 6] is : 5\n",
            "The heuristic value of the state [1, 2, 8, 4, 6, 0, 7, 3, 5] is : 5\n",
            "The heuristic value of the state [1, 2, 8, 4, 6, 5, 7, 3, 0] is : 4\n",
            "The heuristic value of the state [1, 2, 0, 4, 6, 8, 7, 3, 5] is : 5\n",
            "The heuristic value of the state [1, 2, 8, 4, 6, 5, 7, 0, 3] is : 5\n",
            "The heuristic value of the state [1, 2, 8, 4, 6, 5, 7, 0, 3] is : 5\n",
            "The heuristic value of the state [1, 8, 0, 4, 2, 6, 7, 3, 5] is : 5\n",
            "The heuristic value of the state [0, 1, 2, 4, 5, 8, 7, 6, 3] is : 6\n",
            "The heuristic value of the state [0, 1, 8, 4, 2, 6, 7, 3, 5] is : 6\n",
            "The heuristic value of the state [0, 2, 8, 1, 4, 6, 7, 3, 5] is : 6\n",
            "The heuristic value of the state [1, 0, 2, 4, 6, 8, 7, 3, 5] is : 6\n",
            "The heuristic value of the state [1, 0, 8, 4, 2, 3, 7, 5, 6] is : 6\n",
            "The heuristic value of the state [1, 0, 8, 4, 2, 5, 7, 6, 3] is : 6\n",
            "The heuristic value of the state [1, 2, 8, 0, 3, 6, 4, 7, 5] is : 6\n",
            "The heuristic value of the state [1, 2, 8, 0, 4, 3, 7, 5, 6] is : 6\n",
            "The heuristic value of the state [1, 2, 8, 0, 4, 5, 7, 6, 3] is : 6\n",
            "The heuristic value of the state [1, 2, 8, 0, 5, 3, 4, 7, 6] is : 6\n",
            "The heuristic value of the state [1, 2, 8, 3, 0, 6, 4, 7, 5] is : 6\n",
            "The heuristic value of the state [1, 2, 8, 3, 7, 6, 4, 0, 5] is : 6\n",
            "The heuristic value of the state [1, 2, 8, 3, 7, 6, 4, 5, 0] is : 5\n",
            "The heuristic value of the state [1, 2, 8, 3, 7, 6, 0, 4, 5] is : 6\n",
            "The heuristic value of the state [1, 2, 8, 0, 7, 6, 3, 4, 5] is : 6\n",
            "The heuristic value of the state [1, 2, 8, 4, 6, 5, 0, 7, 3] is : 6\n",
            "The heuristic value of the state [1, 2, 8, 7, 0, 6, 3, 4, 5] is : 6\n",
            "The heuristic value of the state [1, 2, 8, 7, 4, 6, 0, 3, 5] is : 6\n",
            "The heuristic value of the state [1, 2, 8, 7, 4, 6, 3, 0, 5] is : 6\n",
            "The heuristic value of the state [1, 2, 8, 7, 4, 6, 3, 5, 0] is : 5\n",
            "The heuristic value of the state [1, 2, 8, 7, 4, 6, 3, 0, 5] is : 6\n",
            "The heuristic value of the state [1, 3, 2, 4, 5, 8, 0, 7, 6] is : 6\n",
            "The heuristic value of the state [1, 3, 2, 4, 6, 5, 7, 0, 8] is : 6\n",
            "The heuristic value of the state [1, 3, 2, 4, 6, 5, 7, 8, 0] is : 4\n",
            "The heuristic value of the state [1, 3, 2, 4, 6, 0, 7, 8, 5] is : 5\n",
            "The heuristic value of the state [1, 3, 2, 4, 0, 6, 7, 8, 5] is : 4\n",
            "The heuristic value of the state [1, 0, 2, 4, 3, 6, 7, 8, 5] is : 4\n",
            "The heuristic value of the state [1, 2, 0, 4, 3, 6, 7, 8, 5] is : 3\n",
            "The heuristic value of the state [1, 2, 6, 4, 3, 0, 7, 8, 5] is : 4\n",
            "The heuristic value of the state [1, 2, 6, 4, 3, 5, 7, 8, 0] is : 3\n",
            "The heuristic value of the state [1, 2, 6, 4, 0, 3, 7, 8, 5] is : 4\n",
            "The heuristic value of the state [0, 1, 2, 4, 3, 6, 7, 8, 5] is : 5\n",
            "The heuristic value of the state [1, 0, 6, 4, 2, 3, 7, 8, 5] is : 5\n",
            "The heuristic value of the state [1, 2, 6, 0, 4, 3, 7, 8, 5] is : 5\n",
            "The heuristic value of the state [1, 2, 6, 4, 3, 5, 7, 0, 8] is : 5\n",
            "The heuristic value of the state [1, 2, 6, 4, 0, 5, 7, 3, 8] is : 5\n",
            "The heuristic value of the state [1, 2, 6, 4, 5, 0, 7, 3, 8] is : 4\n",
            "The heuristic value of the state [1, 2, 0, 4, 5, 6, 7, 3, 8] is : 3\n",
            "The heuristic value of the state [1, 2, 6, 4, 5, 8, 7, 3, 0] is : 3\n",
            "The heuristic value of the state [1, 0, 2, 4, 5, 6, 7, 3, 8] is : 4\n",
            "The heuristic value of the state [1, 2, 6, 4, 5, 8, 7, 0, 3] is : 4\n",
            "The heuristic value of the state [0, 1, 2, 4, 5, 6, 7, 3, 8] is : 5\n",
            "The heuristic value of the state [1, 2, 6, 4, 0, 8, 7, 5, 3] is : 5\n",
            "The heuristic value of the state [1, 2, 6, 4, 5, 8, 0, 7, 3] is : 5\n",
            "The heuristic value of the state [1, 2, 6, 4, 8, 0, 7, 5, 3] is : 5\n",
            "The heuristic value of the state [1, 2, 0, 4, 8, 6, 7, 5, 3] is : 4\n",
            "The heuristic value of the state [1, 2, 6, 4, 8, 3, 7, 5, 0] is : 4\n",
            "The heuristic value of the state [1, 0, 2, 4, 8, 6, 7, 5, 3] is : 5\n",
            "The heuristic value of the state [1, 2, 6, 4, 8, 3, 7, 0, 5] is : 5\n",
            "The heuristic value of the state [1, 2, 6, 4, 8, 3, 7, 0, 5] is : 5\n",
            "The heuristic value of the state [1, 3, 0, 4, 6, 2, 7, 8, 5] is : 5\n",
            "The heuristic value of the state [1, 0, 3, 4, 6, 2, 7, 8, 5] is : 4\n",
            "The heuristic value of the state [1, 6, 3, 4, 0, 2, 7, 8, 5] is : 4\n",
            "The heuristic value of the state [1, 6, 3, 4, 2, 0, 7, 8, 5] is : 4\n",
            "The heuristic value of the state [1, 6, 3, 4, 2, 5, 7, 8, 0] is : 3\n",
            "The heuristic value of the state [0, 1, 3, 4, 6, 2, 7, 8, 5] is : 5\n",
            "The heuristic value of the state [1, 3, 2, 0, 4, 6, 7, 8, 5] is : 5\n",
            "The heuristic value of the state [1, 3, 2, 4, 8, 6, 7, 0, 5] is : 5\n",
            "The heuristic value of the state [1, 3, 2, 4, 8, 6, 7, 5, 0] is : 4\n",
            "The heuristic value of the state [1, 5, 2, 4, 0, 6, 7, 3, 8] is : 5\n",
            "The heuristic value of the state [1, 5, 2, 4, 3, 6, 7, 0, 8] is : 5\n",
            "The heuristic value of the state [1, 5, 2, 4, 3, 6, 7, 8, 0] is : 3\n",
            "The heuristic value of the state [1, 5, 2, 4, 3, 0, 7, 8, 6] is : 5\n",
            "The heuristic value of the state [1, 5, 0, 4, 3, 2, 7, 8, 6] is : 5\n",
            "The heuristic value of the state [1, 0, 5, 4, 3, 2, 7, 8, 6] is : 5\n",
            "The heuristic value of the state [1, 3, 5, 4, 0, 2, 7, 8, 6] is : 5\n",
            "The heuristic value of the state [1, 3, 5, 4, 2, 0, 7, 8, 6] is : 5\n",
            "The heuristic value of the state [1, 3, 5, 4, 2, 6, 7, 8, 0] is : 3\n",
            "The heuristic value of the state [1, 3, 0, 4, 2, 5, 7, 8, 6] is : 5\n",
            "The heuristic value of the state [1, 0, 3, 4, 2, 5, 7, 8, 6] is : 4\n",
            "The heuristic value of the state [1, 2, 3, 4, 0, 5, 7, 8, 6] is : 3\n",
            "The heuristic value of the state [1, 2, 3, 4, 5, 0, 7, 8, 6] is : 2\n",
            "The heuristic value of the state [1, 2, 3, 4, 5, 6, 7, 8, 0] is : 0\n",
            "The Path through Greedy Search method is :  ['D', 'R', 'U', 'U', 'L', 'D', 'R', 'D', 'L', 'U', 'U', 'R', 'D', 'L', 'D', 'R', 'U', 'L', 'U', 'R', 'D', 'D', 'L', 'U', 'R', 'U', 'L', 'D', 'D', 'R', 'U', 'U', 'L', 'D', 'R', 'U', 'L', 'D', 'R', 'D']\n"
          ]
        }
      ],
      "source": [
        "greeedyResult = informedGraphObj.greedySearch(state , initial , 0)\n",
        "if(greeedyResult == None):\n",
        "    greeedyResult = \"None\"\n",
        "else:\n",
        "    searchResults[\"Greedy Search\"] = len(greeedyResult)\n",
        "print(\"The Path through Greedy Search method is : \",greeedyResult)"
      ]
    },
    {
      "cell_type": "code",
      "execution_count": 68,
      "metadata": {},
      "outputs": [
        {
          "name": "stdout",
          "output_type": "stream",
          "text": [
            "The heuristic(h(n) + depth) value of the state [1, 3, 6, 4, 0, 2, 7, 5, 8] is : 6\n",
            "The heuristic(h(n) + depth) value of the state [1, 3, 6, 4, 5, 2, 7, 0, 8] is : 6\n",
            "The heuristic(h(n) + depth) value of the state [1, 3, 6, 4, 5, 2, 7, 8, 0] is : 5\n",
            "The heuristic(h(n) + depth) value of the state [1, 0, 6, 4, 3, 2, 7, 5, 8] is : 7\n",
            "The heuristic(h(n) + depth) value of the state [1, 3, 6, 4, 2, 0, 7, 5, 8] is : 7\n",
            "The heuristic(h(n) + depth) value of the state [1, 3, 0, 4, 2, 6, 7, 5, 8] is : 7\n",
            "The heuristic(h(n) + depth) value of the state [1, 0, 3, 4, 2, 6, 7, 5, 8] is : 7\n",
            "The heuristic(h(n) + depth) value of the state [1, 2, 3, 4, 0, 6, 7, 5, 8] is : 7\n",
            "The heuristic(h(n) + depth) value of the state [1, 2, 3, 4, 5, 6, 7, 0, 8] is : 7\n",
            "The heuristic(h(n) + depth) value of the state [1, 2, 3, 4, 5, 6, 7, 8, 0] is : 6\n",
            "The Path through A* Search method is :  ['R', 'U', 'L', 'D', 'D', 'R']\n"
          ]
        }
      ],
      "source": [
        "AstarResult = informedGraphObj.AstarSearch(state , initial , 0)\n",
        "if(AstarResult == None):\n",
        "    AstarResult = \"None\"\n",
        "else:\n",
        "    searchResults[\"A* Search\"] = len(AstarResult)\n",
        "print(\"The Path through A* Search method is : \",AstarResult)"
      ]
    },
    {
      "cell_type": "code",
      "execution_count": 69,
      "metadata": {},
      "outputs": [
        {
          "name": "stdout",
          "output_type": "stream",
          "text": [
            "Breadth First Search  :  6\n",
            "Depth First Search  :  428\n",
            "Depth Limited Search  :  10\n",
            "Iterative Deepening Search  :  6\n",
            "Greedy Search  :  40\n",
            "A* Search  :  6\n"
          ]
        }
      ],
      "source": [
        "for i in searchResults:\n",
        "    print(i , \" : \" , searchResults[i])"
      ]
    },
    {
      "cell_type": "code",
      "execution_count": 77,
      "metadata": {},
      "outputs": [],
      "source": [
        "initialState_1 = [1,3,6,4,0,2,7,5,8]\n",
        "state.set_initialState(initialState_1)\n",
        "initial = state.get_intialState()"
      ]
    },
    {
      "cell_type": "code",
      "execution_count": 78,
      "metadata": {},
      "outputs": [
        {
          "name": "stdout",
          "output_type": "stream",
          "text": [
            "The heuristic value of the state [1, 3, 6, 4, 0, 2, 7, 5, 8] is : 6\n",
            "The heuristic value of the state [1, 3, 6, 4, 5, 2, 7, 0, 8] is : 5\n",
            "The heuristic value of the state [1, 3, 6, 4, 5, 2, 7, 8, 0] is : 3\n",
            "The heuristic value of the state [1, 3, 6, 4, 5, 0, 7, 8, 2] is : 4\n",
            "The heuristic value of the state [1, 3, 0, 4, 5, 6, 7, 8, 2] is : 3\n",
            "The heuristic value of the state [1, 0, 3, 4, 5, 6, 7, 8, 2] is : 2\n",
            "The heuristic value of the state [0, 1, 3, 4, 5, 6, 7, 8, 2] is : 3\n",
            "The heuristic value of the state [1, 5, 3, 4, 0, 6, 7, 8, 2] is : 3\n",
            "The heuristic value of the state [1, 5, 3, 0, 4, 6, 7, 8, 2] is : 4\n",
            "The heuristic value of the state [1, 5, 3, 4, 6, 0, 7, 8, 2] is : 4\n",
            "The heuristic value of the state [1, 5, 3, 4, 6, 2, 7, 8, 0] is : 3\n",
            "The heuristic value of the state [1, 5, 3, 4, 8, 6, 7, 0, 2] is : 4\n",
            "The heuristic value of the state [1, 5, 3, 4, 8, 6, 7, 2, 0] is : 3\n",
            "The heuristic value of the state [4, 1, 3, 0, 5, 6, 7, 8, 2] is : 4\n",
            "The heuristic value of the state [0, 5, 3, 1, 4, 6, 7, 8, 2] is : 5\n",
            "The heuristic value of the state [1, 3, 6, 4, 0, 5, 7, 8, 2] is : 5\n",
            "The heuristic value of the state [1, 0, 6, 4, 3, 5, 7, 8, 2] is : 5\n",
            "The heuristic value of the state [1, 5, 0, 4, 6, 3, 7, 8, 2] is : 5\n",
            "The heuristic value of the state [1, 0, 5, 4, 6, 3, 7, 8, 2] is : 5\n",
            "The heuristic value of the state [1, 5, 3, 4, 6, 2, 7, 0, 8] is : 5\n",
            "The heuristic value of the state [1, 5, 3, 4, 0, 2, 7, 6, 8] is : 5\n",
            "The heuristic value of the state [1, 0, 3, 4, 5, 2, 7, 6, 8] is : 4\n",
            "The heuristic value of the state [0, 1, 3, 4, 5, 2, 7, 6, 8] is : 5\n",
            "The heuristic value of the state [1, 3, 0, 4, 5, 2, 7, 6, 8] is : 5\n",
            "The heuristic value of the state [1, 3, 2, 4, 5, 0, 7, 6, 8] is : 5\n",
            "The heuristic value of the state [1, 3, 2, 4, 5, 8, 7, 6, 0] is : 4\n",
            "The heuristic value of the state [1, 3, 2, 4, 5, 8, 7, 0, 6] is : 5\n",
            "The heuristic value of the state [1, 5, 3, 4, 2, 0, 7, 6, 8] is : 5\n",
            "The heuristic value of the state [1, 5, 3, 4, 2, 8, 7, 6, 0] is : 4\n",
            "The heuristic value of the state [1, 5, 3, 4, 2, 8, 7, 0, 6] is : 5\n",
            "The heuristic value of the state [1, 5, 3, 4, 0, 8, 7, 2, 6] is : 5\n",
            "The heuristic value of the state [1, 0, 3, 4, 5, 8, 7, 2, 6] is : 4\n",
            "The heuristic value of the state [0, 1, 3, 4, 5, 8, 7, 2, 6] is : 5\n",
            "The heuristic value of the state [1, 3, 0, 4, 5, 8, 7, 2, 6] is : 5\n",
            "The heuristic value of the state [1, 3, 8, 4, 5, 0, 7, 2, 6] is : 5\n",
            "The heuristic value of the state [1, 3, 8, 4, 5, 6, 7, 2, 0] is : 3\n",
            "The heuristic value of the state [1, 3, 8, 4, 5, 6, 7, 0, 2] is : 4\n",
            "The heuristic value of the state [1, 3, 8, 4, 0, 6, 7, 5, 2] is : 5\n",
            "The heuristic value of the state [1, 0, 8, 4, 3, 6, 7, 5, 2] is : 5\n",
            "The heuristic value of the state [1, 3, 8, 4, 5, 6, 0, 7, 2] is : 5\n",
            "The heuristic value of the state [1, 5, 3, 4, 8, 0, 7, 2, 6] is : 5\n",
            "The heuristic value of the state [1, 5, 3, 4, 8, 0, 7, 2, 6] is : 5\n",
            "The heuristic value of the state [1, 5, 3, 4, 8, 6, 0, 7, 2] is : 5\n",
            "The heuristic value of the state [1, 5, 3, 7, 4, 6, 0, 8, 2] is : 5\n",
            "The heuristic value of the state [1, 6, 0, 4, 3, 5, 7, 8, 2] is : 5\n",
            "The heuristic value of the state [1, 6, 5, 4, 0, 3, 7, 8, 2] is : 5\n",
            "The heuristic value of the state [1, 6, 5, 4, 3, 0, 7, 8, 2] is : 5\n",
            "The heuristic value of the state [1, 6, 5, 4, 3, 2, 7, 8, 0] is : 4\n",
            "The heuristic value of the state [1, 6, 5, 4, 3, 0, 7, 8, 2] is : 5\n",
            "The heuristic value of the state [1, 8, 0, 4, 3, 6, 7, 5, 2] is : 5\n",
            "The heuristic value of the state [4, 1, 3, 5, 0, 6, 7, 8, 2] is : 5\n",
            "The heuristic value of the state [4, 0, 3, 5, 1, 6, 7, 8, 2] is : 5\n",
            "The heuristic value of the state [0, 4, 3, 5, 1, 6, 7, 8, 2] is : 5\n",
            "The heuristic value of the state [4, 1, 3, 7, 5, 6, 0, 8, 2] is : 5\n",
            "The heuristic value of the state [5, 0, 3, 1, 4, 6, 7, 8, 2] is : 5\n",
            "The heuristic value of the state [5, 4, 3, 0, 1, 6, 7, 8, 2] is : 5\n",
            "The heuristic value of the state [5, 4, 3, 1, 0, 6, 7, 8, 2] is : 5\n",
            "The heuristic value of the state [5, 4, 3, 1, 0, 6, 7, 8, 2] is : 5\n",
            "The heuristic value of the state [0, 1, 5, 4, 6, 3, 7, 8, 2] is : 6\n",
            "The heuristic value of the state [0, 1, 6, 4, 3, 5, 7, 8, 2] is : 6\n",
            "The heuristic value of the state [0, 1, 8, 4, 3, 6, 7, 5, 2] is : 6\n",
            "The heuristic value of the state [1, 0, 6, 4, 3, 2, 7, 5, 8] is : 6\n",
            "The heuristic value of the state [1, 3, 2, 4, 0, 5, 7, 6, 8] is : 6\n",
            "The heuristic value of the state [1, 0, 2, 4, 3, 5, 7, 6, 8] is : 6\n",
            "The heuristic value of the state [1, 2, 0, 4, 3, 5, 7, 6, 8] is : 5\n",
            "The heuristic value of the state [1, 2, 5, 4, 3, 0, 7, 6, 8] is : 5\n",
            "The heuristic value of the state [1, 2, 5, 4, 3, 8, 7, 6, 0] is : 4\n",
            "The heuristic value of the state [1, 2, 5, 4, 0, 3, 7, 6, 8] is : 5\n",
            "The heuristic value of the state [1, 2, 5, 4, 3, 8, 7, 0, 6] is : 5\n",
            "The heuristic value of the state [1, 2, 5, 4, 0, 8, 7, 3, 6] is : 5\n",
            "The heuristic value of the state [1, 2, 5, 4, 6, 3, 7, 0, 8] is : 5\n",
            "The heuristic value of the state [1, 2, 5, 4, 6, 3, 7, 8, 0] is : 3\n",
            "The heuristic value of the state [1, 2, 5, 4, 6, 0, 7, 8, 3] is : 4\n",
            "The heuristic value of the state [1, 2, 5, 4, 0, 6, 7, 8, 3] is : 3\n",
            "The heuristic value of the state [1, 0, 5, 4, 2, 6, 7, 8, 3] is : 4\n",
            "The heuristic value of the state [1, 2, 0, 4, 6, 5, 7, 8, 3] is : 4\n",
            "The heuristic value of the state [1, 2, 5, 0, 4, 6, 7, 8, 3] is : 4\n",
            "The heuristic value of the state [1, 2, 5, 4, 8, 6, 7, 0, 3] is : 4\n",
            "The heuristic value of the state [1, 2, 5, 4, 8, 6, 7, 3, 0] is : 3\n",
            "The heuristic value of the state [1, 5, 0, 4, 2, 6, 7, 8, 3] is : 4\n",
            "The heuristic value of the state [0, 1, 5, 4, 2, 6, 7, 8, 3] is : 5\n",
            "The heuristic value of the state [0, 2, 5, 1, 4, 6, 7, 8, 3] is : 5\n",
            "The heuristic value of the state [1, 0, 2, 4, 6, 5, 7, 8, 3] is : 5\n",
            "The heuristic value of the state [1, 2, 5, 4, 8, 0, 7, 3, 6] is : 5\n",
            "The heuristic value of the state [1, 2, 0, 4, 8, 5, 7, 3, 6] is : 5\n",
            "The heuristic value of the state [1, 2, 5, 4, 8, 0, 7, 3, 6] is : 5\n",
            "The heuristic value of the state [1, 2, 5, 4, 8, 6, 0, 7, 3] is : 5\n",
            "The heuristic value of the state [1, 2, 5, 7, 4, 6, 0, 8, 3] is : 5\n",
            "The heuristic value of the state [1, 5, 6, 4, 2, 0, 7, 8, 3] is : 5\n",
            "The heuristic value of the state [1, 5, 6, 4, 2, 3, 7, 8, 0] is : 4\n",
            "The heuristic value of the state [1, 5, 6, 4, 0, 2, 7, 8, 3] is : 5\n",
            "The heuristic value of the state [1, 0, 6, 4, 5, 2, 7, 8, 3] is : 4\n",
            "The heuristic value of the state [1, 6, 0, 4, 5, 2, 7, 8, 3] is : 4\n",
            "The heuristic value of the state [1, 6, 2, 4, 5, 0, 7, 8, 3] is : 4\n",
            "The heuristic value of the state [1, 6, 2, 4, 5, 3, 7, 8, 0] is : 3\n",
            "The heuristic value of the state [0, 1, 6, 4, 5, 2, 7, 8, 3] is : 5\n",
            "The heuristic value of the state [1, 6, 2, 4, 0, 5, 7, 8, 3] is : 5\n",
            "The heuristic value of the state [1, 6, 2, 4, 0, 5, 7, 8, 3] is : 5\n",
            "The heuristic value of the state [1, 6, 2, 4, 5, 3, 7, 0, 8] is : 5\n",
            "The heuristic value of the state [0, 1, 2, 4, 6, 5, 7, 8, 3] is : 6\n",
            "The heuristic value of the state [1, 0, 2, 4, 8, 5, 7, 3, 6] is : 6\n",
            "The heuristic value of the state [1, 0, 5, 4, 2, 3, 7, 6, 8] is : 6\n",
            "The heuristic value of the state [1, 0, 5, 4, 2, 8, 7, 3, 6] is : 6\n",
            "The heuristic value of the state [1, 2, 5, 0, 4, 3, 7, 6, 8] is : 6\n",
            "The heuristic value of the state [1, 2, 5, 0, 4, 8, 7, 3, 6] is : 6\n",
            "The heuristic value of the state [1, 2, 5, 0, 8, 6, 4, 7, 3] is : 6\n",
            "The heuristic value of the state [1, 2, 5, 4, 3, 8, 0, 7, 6] is : 6\n",
            "The heuristic value of the state [1, 2, 5, 4, 6, 3, 0, 7, 8] is : 6\n",
            "The heuristic value of the state [1, 2, 5, 7, 4, 6, 8, 0, 3] is : 6\n",
            "The heuristic value of the state [1, 2, 5, 7, 4, 6, 8, 3, 0] is : 5\n",
            "The heuristic value of the state [1, 2, 5, 7, 0, 6, 8, 4, 3] is : 6\n",
            "The heuristic value of the state [1, 2, 5, 0, 7, 6, 8, 4, 3] is : 6\n",
            "The heuristic value of the state [1, 2, 5, 8, 0, 6, 4, 7, 3] is : 6\n",
            "The heuristic value of the state [1, 2, 5, 8, 7, 6, 0, 4, 3] is : 6\n",
            "The heuristic value of the state [1, 2, 5, 8, 7, 6, 4, 0, 3] is : 6\n",
            "The heuristic value of the state [1, 2, 5, 8, 7, 6, 4, 3, 0] is : 5\n",
            "The heuristic value of the state [1, 2, 5, 8, 7, 6, 4, 0, 3] is : 6\n",
            "The heuristic value of the state [1, 3, 2, 4, 0, 8, 7, 5, 6] is : 6\n",
            "The heuristic value of the state [1, 0, 2, 4, 3, 8, 7, 5, 6] is : 6\n",
            "The heuristic value of the state [1, 2, 0, 4, 3, 8, 7, 5, 6] is : 5\n",
            "The heuristic value of the state [1, 2, 8, 4, 3, 0, 7, 5, 6] is : 5\n",
            "The heuristic value of the state [1, 2, 8, 4, 3, 6, 7, 5, 0] is : 3\n",
            "The heuristic value of the state [1, 2, 8, 4, 3, 6, 7, 0, 5] is : 4\n",
            "The heuristic value of the state [1, 2, 8, 4, 0, 6, 7, 3, 5] is : 4\n",
            "The heuristic value of the state [1, 0, 8, 4, 2, 6, 7, 3, 5] is : 5\n",
            "The heuristic value of the state [1, 2, 8, 0, 4, 6, 7, 3, 5] is : 5\n",
            "The heuristic value of the state [1, 2, 8, 4, 0, 3, 7, 5, 6] is : 5\n",
            "The heuristic value of the state [1, 2, 8, 4, 5, 3, 7, 0, 6] is : 4\n",
            "The heuristic value of the state [1, 2, 8, 4, 5, 3, 7, 6, 0] is : 3\n",
            "The heuristic value of the state [1, 2, 8, 4, 5, 0, 7, 6, 3] is : 4\n",
            "The heuristic value of the state [1, 2, 0, 4, 5, 8, 7, 6, 3] is : 4\n",
            "The heuristic value of the state [1, 0, 2, 4, 5, 8, 7, 6, 3] is : 5\n",
            "The heuristic value of the state [1, 2, 8, 4, 0, 5, 7, 6, 3] is : 5\n",
            "The heuristic value of the state [1, 2, 8, 4, 3, 6, 0, 7, 5] is : 5\n",
            "The heuristic value of the state [1, 2, 8, 4, 5, 3, 0, 7, 6] is : 5\n",
            "The heuristic value of the state [1, 2, 8, 4, 6, 0, 7, 3, 5] is : 5\n",
            "The heuristic value of the state [1, 2, 8, 4, 6, 5, 7, 3, 0] is : 4\n",
            "The heuristic value of the state [1, 2, 0, 4, 6, 8, 7, 3, 5] is : 5\n",
            "The heuristic value of the state [1, 2, 8, 4, 6, 5, 7, 0, 3] is : 5\n",
            "The heuristic value of the state [1, 2, 8, 4, 6, 5, 7, 0, 3] is : 5\n",
            "The heuristic value of the state [1, 8, 0, 4, 2, 6, 7, 3, 5] is : 5\n",
            "The heuristic value of the state [0, 1, 2, 4, 5, 8, 7, 6, 3] is : 6\n",
            "The heuristic value of the state [0, 1, 8, 4, 2, 6, 7, 3, 5] is : 6\n",
            "The heuristic value of the state [0, 2, 8, 1, 4, 6, 7, 3, 5] is : 6\n",
            "The heuristic value of the state [1, 0, 2, 4, 6, 8, 7, 3, 5] is : 6\n",
            "The heuristic value of the state [1, 0, 8, 4, 2, 3, 7, 5, 6] is : 6\n",
            "The heuristic value of the state [1, 0, 8, 4, 2, 5, 7, 6, 3] is : 6\n",
            "The heuristic value of the state [1, 2, 8, 0, 3, 6, 4, 7, 5] is : 6\n",
            "The heuristic value of the state [1, 2, 8, 0, 4, 3, 7, 5, 6] is : 6\n",
            "The heuristic value of the state [1, 2, 8, 0, 4, 5, 7, 6, 3] is : 6\n",
            "The heuristic value of the state [1, 2, 8, 0, 5, 3, 4, 7, 6] is : 6\n",
            "The heuristic value of the state [1, 2, 8, 3, 0, 6, 4, 7, 5] is : 6\n",
            "The heuristic value of the state [1, 2, 8, 3, 7, 6, 4, 0, 5] is : 6\n",
            "The heuristic value of the state [1, 2, 8, 3, 7, 6, 4, 5, 0] is : 5\n",
            "The heuristic value of the state [1, 2, 8, 3, 7, 6, 0, 4, 5] is : 6\n",
            "The heuristic value of the state [1, 2, 8, 0, 7, 6, 3, 4, 5] is : 6\n",
            "The heuristic value of the state [1, 2, 8, 4, 6, 5, 0, 7, 3] is : 6\n",
            "The heuristic value of the state [1, 2, 8, 7, 0, 6, 3, 4, 5] is : 6\n",
            "The heuristic value of the state [1, 2, 8, 7, 4, 6, 0, 3, 5] is : 6\n",
            "The heuristic value of the state [1, 2, 8, 7, 4, 6, 3, 0, 5] is : 6\n",
            "The heuristic value of the state [1, 2, 8, 7, 4, 6, 3, 5, 0] is : 5\n",
            "The heuristic value of the state [1, 2, 8, 7, 4, 6, 3, 0, 5] is : 6\n",
            "The heuristic value of the state [1, 3, 2, 4, 5, 8, 0, 7, 6] is : 6\n",
            "The heuristic value of the state [1, 3, 2, 4, 6, 5, 7, 0, 8] is : 6\n",
            "The heuristic value of the state [1, 3, 2, 4, 6, 5, 7, 8, 0] is : 4\n",
            "The heuristic value of the state [1, 3, 2, 4, 6, 0, 7, 8, 5] is : 5\n",
            "The heuristic value of the state [1, 3, 2, 4, 0, 6, 7, 8, 5] is : 4\n",
            "The heuristic value of the state [1, 0, 2, 4, 3, 6, 7, 8, 5] is : 4\n",
            "The heuristic value of the state [1, 2, 0, 4, 3, 6, 7, 8, 5] is : 3\n",
            "The heuristic value of the state [1, 2, 6, 4, 3, 0, 7, 8, 5] is : 4\n",
            "The heuristic value of the state [1, 2, 6, 4, 3, 5, 7, 8, 0] is : 3\n",
            "The heuristic value of the state [1, 2, 6, 4, 0, 3, 7, 8, 5] is : 4\n",
            "The heuristic value of the state [0, 1, 2, 4, 3, 6, 7, 8, 5] is : 5\n",
            "The heuristic value of the state [1, 0, 6, 4, 2, 3, 7, 8, 5] is : 5\n",
            "The heuristic value of the state [1, 2, 6, 0, 4, 3, 7, 8, 5] is : 5\n",
            "The heuristic value of the state [1, 2, 6, 4, 3, 5, 7, 0, 8] is : 5\n",
            "The heuristic value of the state [1, 2, 6, 4, 0, 5, 7, 3, 8] is : 5\n",
            "The heuristic value of the state [1, 2, 6, 4, 5, 0, 7, 3, 8] is : 4\n",
            "The heuristic value of the state [1, 2, 0, 4, 5, 6, 7, 3, 8] is : 3\n",
            "The heuristic value of the state [1, 2, 6, 4, 5, 8, 7, 3, 0] is : 3\n",
            "The heuristic value of the state [1, 0, 2, 4, 5, 6, 7, 3, 8] is : 4\n",
            "The heuristic value of the state [1, 2, 6, 4, 5, 8, 7, 0, 3] is : 4\n",
            "The heuristic value of the state [0, 1, 2, 4, 5, 6, 7, 3, 8] is : 5\n",
            "The heuristic value of the state [1, 2, 6, 4, 0, 8, 7, 5, 3] is : 5\n",
            "The heuristic value of the state [1, 2, 6, 4, 5, 8, 0, 7, 3] is : 5\n",
            "The heuristic value of the state [1, 2, 6, 4, 8, 0, 7, 5, 3] is : 5\n",
            "The heuristic value of the state [1, 2, 0, 4, 8, 6, 7, 5, 3] is : 4\n",
            "The heuristic value of the state [1, 2, 6, 4, 8, 3, 7, 5, 0] is : 4\n",
            "The heuristic value of the state [1, 0, 2, 4, 8, 6, 7, 5, 3] is : 5\n",
            "The heuristic value of the state [1, 2, 6, 4, 8, 3, 7, 0, 5] is : 5\n",
            "The heuristic value of the state [1, 2, 6, 4, 8, 3, 7, 0, 5] is : 5\n",
            "The heuristic value of the state [1, 3, 0, 4, 6, 2, 7, 8, 5] is : 5\n",
            "The heuristic value of the state [1, 0, 3, 4, 6, 2, 7, 8, 5] is : 4\n",
            "The heuristic value of the state [1, 6, 3, 4, 0, 2, 7, 8, 5] is : 4\n",
            "The heuristic value of the state [1, 6, 3, 4, 2, 0, 7, 8, 5] is : 4\n",
            "The heuristic value of the state [1, 6, 3, 4, 2, 5, 7, 8, 0] is : 3\n",
            "The heuristic value of the state [0, 1, 3, 4, 6, 2, 7, 8, 5] is : 5\n",
            "The heuristic value of the state [1, 3, 2, 0, 4, 6, 7, 8, 5] is : 5\n",
            "The heuristic value of the state [1, 3, 2, 4, 8, 6, 7, 0, 5] is : 5\n",
            "The heuristic value of the state [1, 3, 2, 4, 8, 6, 7, 5, 0] is : 4\n",
            "The heuristic value of the state [1, 5, 2, 4, 0, 6, 7, 3, 8] is : 5\n",
            "The heuristic value of the state [1, 5, 2, 4, 3, 6, 7, 0, 8] is : 5\n",
            "The heuristic value of the state [1, 5, 2, 4, 3, 6, 7, 8, 0] is : 3\n",
            "The heuristic value of the state [1, 5, 2, 4, 3, 0, 7, 8, 6] is : 5\n",
            "The heuristic value of the state [1, 5, 0, 4, 3, 2, 7, 8, 6] is : 5\n",
            "The heuristic value of the state [1, 0, 5, 4, 3, 2, 7, 8, 6] is : 5\n",
            "The heuristic value of the state [1, 3, 5, 4, 0, 2, 7, 8, 6] is : 5\n",
            "The heuristic value of the state [1, 3, 5, 4, 2, 0, 7, 8, 6] is : 5\n",
            "The heuristic value of the state [1, 3, 5, 4, 2, 6, 7, 8, 0] is : 3\n",
            "The heuristic value of the state [1, 3, 0, 4, 2, 5, 7, 8, 6] is : 5\n",
            "The heuristic value of the state [1, 0, 3, 4, 2, 5, 7, 8, 6] is : 4\n",
            "The heuristic value of the state [1, 2, 3, 4, 0, 5, 7, 8, 6] is : 3\n",
            "The heuristic value of the state [1, 2, 3, 4, 5, 0, 7, 8, 6] is : 2\n",
            "The heuristic value of the state [1, 2, 3, 4, 5, 6, 7, 8, 0] is : 0\n",
            "The Path through Greedy Search method is :  ['D', 'R', 'U', 'U', 'L', 'D', 'R', 'D', 'L', 'U', 'U', 'R', 'D', 'L', 'D', 'R', 'U', 'L', 'U', 'R', 'D', 'D', 'L', 'U', 'R', 'U', 'L', 'D', 'D', 'R', 'U', 'U', 'L', 'D', 'R', 'U', 'L', 'D', 'R', 'D']\n"
          ]
        }
      ],
      "source": [
        "greeedyResult = informedGraphObj.greedySearch(state , initial , 0)\n",
        "if(greeedyResult == None):\n",
        "    greeedyResult = \"None\"\n",
        "else:\n",
        "    searchResults[\"Greedy Search\"] = len(greeedyResult)\n",
        "print(\"The Path through Greedy Search method is : \",greeedyResult)"
      ]
    },
    {
      "cell_type": "code",
      "execution_count": 79,
      "metadata": {},
      "outputs": [
        {
          "name": "stdout",
          "output_type": "stream",
          "text": [
            "The heuristic(h(n) + depth) value of the state [1, 3, 6, 4, 0, 2, 7, 5, 8] is : 6\n",
            "The heuristic(h(n) + depth) value of the state [1, 3, 6, 4, 5, 2, 7, 0, 8] is : 6\n",
            "The heuristic(h(n) + depth) value of the state [1, 3, 6, 4, 5, 2, 7, 8, 0] is : 5\n",
            "The heuristic(h(n) + depth) value of the state [1, 0, 6, 4, 3, 2, 7, 5, 8] is : 7\n",
            "The heuristic(h(n) + depth) value of the state [1, 3, 6, 4, 2, 0, 7, 5, 8] is : 7\n",
            "The heuristic(h(n) + depth) value of the state [1, 3, 0, 4, 2, 6, 7, 5, 8] is : 7\n",
            "The heuristic(h(n) + depth) value of the state [1, 0, 3, 4, 2, 6, 7, 5, 8] is : 7\n",
            "The heuristic(h(n) + depth) value of the state [1, 2, 3, 4, 0, 6, 7, 5, 8] is : 7\n",
            "The heuristic(h(n) + depth) value of the state [1, 2, 3, 4, 5, 6, 7, 0, 8] is : 7\n",
            "The heuristic(h(n) + depth) value of the state [1, 2, 3, 4, 5, 6, 7, 8, 0] is : 6\n",
            "The Path through A* Search method is :  ['R', 'U', 'L', 'D', 'D', 'R']\n"
          ]
        }
      ],
      "source": [
        "AstarResult = informedGraphObj.AstarSearch(state , initial , 0)\n",
        "if(AstarResult == None):\n",
        "    AstarResult = \"None\"\n",
        "else:\n",
        "    searchResults[\"A* Search\"] = len(AstarResult)\n",
        "print(\"The Path through A* Search method is : \",AstarResult)"
      ]
    },
    {
      "cell_type": "code",
      "execution_count": null,
      "metadata": {},
      "outputs": [],
      "source": []
    }
  ],
  "metadata": {
    "accelerator": "TPU",
    "colab": {
      "provenance": []
    },
    "kernelspec": {
      "display_name": "Python 3",
      "name": "python3"
    },
    "language_info": {
      "codemirror_mode": {
        "name": "ipython",
        "version": 3
      },
      "file_extension": ".py",
      "mimetype": "text/x-python",
      "name": "python",
      "nbconvert_exporter": "python",
      "pygments_lexer": "ipython3",
      "version": "3.10.1"
    }
  },
  "nbformat": 4,
  "nbformat_minor": 0
}
