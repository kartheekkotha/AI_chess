{
 "cells": [
  {
   "cell_type": "markdown",
   "metadata": {},
   "source": [
    "Representation of each stateQ\n",
    "- First trying with 6 x 6 matrix ! "
   ]
  },
  {
   "cell_type": "code",
   "execution_count": 9,
   "metadata": {},
   "outputs": [],
   "source": [
    "import random\n",
    "import math\n",
    "from queue import PriorityQueue"
   ]
  },
  {
   "cell_type": "markdown",
   "metadata": {},
   "source": [
    "The Puzzle class contains \n",
    "- generateStates to generate the next states given the piece to move \n",
    "- play function to generate all possible states and select the best state "
   ]
  },
  {
   "cell_type": "code",
   "execution_count": 10,
   "metadata": {},
   "outputs": [],
   "source": [
    "class Puzzle:\n",
    "    def __init__(self) -> None:\n",
    "        pass\n",
    "    def play(self , presentState):\n",
    "        # generate the possible states\n",
    "        return 0\n",
    "    def move(self, pieceToMove , presentState):\n",
    "        # make the move respectively given the instruction \n",
    "        return 0"
   ]
  },
  {
   "cell_type": "markdown",
   "metadata": {},
   "source": [
    "The class State is the class \n",
    "- initialize the state \n",
    "- check for the win / loss \n",
    "- check for a draw "
   ]
  },
  {
   "cell_type": "code",
   "execution_count": 11,
   "metadata": {},
   "outputs": [],
   "source": [
    "class State:\n",
    "    def __init__(self , initialState = [['R','K','Q','Ki','K','R'],['P','P','P','P','P','P'],['0','0','0','0','0','0'],['0','0','0','0','0','0'],['BP','BP','BP','BP','BP','BP'],['BR','BK','BQ','BKi','BK','BR']]):\n",
    "        puzz = Puzzle()\n",
    "        self.initialState = initialState.copy()\n",
    "        # initialState  = puzz.play(finalState)\n",
    "        # initialState = [1,0,6,4,3,2,7,5,8]\n",
    "        # self.initialState = initialState\n",
    "    def get_intialState(self):\n",
    "        return self.initialState\n",
    "    def set_initialState(self , stateEx):\n",
    "        self.initialState = stateEx.copy()\n",
    "    def isDraw(self,presentState):\n",
    "        return True\n",
    "    def isWin(self,presentState):\n",
    "        return True\n",
    "    def islost(self,presentState):\n",
    "        return True"
   ]
  },
  {
   "cell_type": "markdown",
   "metadata": {},
   "source": [
    "The Heuristic class \n",
    "- to calculate the specific Heuristic given the state"
   ]
  },
  {
   "cell_type": "code",
   "execution_count": 12,
   "metadata": {},
   "outputs": [],
   "source": [
    "class Heuristic:\n",
    "    stateNew = State()\n",
    "#     FinalState = stateNew.get_finalState()\n",
    "    def __init__(self , heuristicChoice):\n",
    "          self.heuristic = heuristicChoice\n",
    "    def getHeuristic(self, presentState):\n",
    "          if(self.heuristic ==0):\n",
    "                return self.nWrongTiles(presentState)\n",
    "    #First Heuristic Function \n",
    "    def nWrongTiles(self, presentState):\n",
    "            return 0    "
   ]
  },
  {
   "cell_type": "markdown",
   "metadata": {},
   "source": [
    "The Graph class is to \n",
    "- create the different graph algorithms to do the state search \n",
    "- Add any helper functions if needed"
   ]
  },
  {
   "cell_type": "code",
   "execution_count": 13,
   "metadata": {},
   "outputs": [],
   "source": [
    "class Graph():\n",
    "    #This function to is to check the array in the 2-D array\n",
    "    def checkArray(self, arrayArray, elementArray):\n",
    "        for i in arrayArray:\n",
    "            flag = True\n",
    "            for j in range(len(elementArray)):\n",
    "                if(i[j]!=elementArray[j]):\n",
    "                    flag = False\n",
    "            if(flag == True):\n",
    "                return True\n",
    "        return False\n",
    "    #Helper function for array to string\n",
    "    def arrToStr(self , arr):\n",
    "        string = \"\"\n",
    "        for i in arr:\n",
    "            string+= str(i)\n",
    "        return string\n",
    "    #Helper function for string to array\n",
    "    def strToArr(self , str):\n",
    "        arr = []\n",
    "        for i in str:\n",
    "            arr.append(int(i))\n",
    "        return arr\n",
    "    #Function to return the path of steps chosen to get to goal node\n",
    "    def construct_path(self, state ,parent, found_goal):\n",
    "        moves_path = []\n",
    "        while found_goal != state.get_intialState():\n",
    "            foundstr = self.arrToStr(found_goal)\n",
    "            parent_state, move = parent[foundstr]\n",
    "            moves_path.append(move)\n",
    "            found_goal = self.strToArr(parent_state)\n",
    "        moves_path.reverse()\n",
    "        moves_char = []\n",
    "        for i in moves_path:\n",
    "            if(i == 0):\n",
    "                moves_char.append(\"L\")\n",
    "            elif(i == 1):\n",
    "                moves_char.append(\"R\")\n",
    "            elif(i==2):\n",
    "                moves_char.append(\"U\")\n",
    "            elif(i==3):\n",
    "                moves_char.append(\"D\")\n",
    "        return moves_char\n",
    "  \n",
    "    def greedySearch(self, stateObj , initialState, heuristicChoice):\n",
    "        player = Puzzle()\n",
    "        closed = []#visited List\n",
    "        parents = {}\n",
    "        heuristicObj = Heuristic(heuristicChoice)\n",
    "        open = PriorityQueue() #openToGoList \n",
    "        open.put((heuristicObj.getHeuristic(initialState),initialState))\n",
    "        while(open.empty() == False):\n",
    "            heuristicVal , currentState = open.get()\n",
    "            # currentState = open.get()[1]\n",
    "            print(f\"The heuristic value of the state {currentState} is : {heuristicVal}\")\n",
    "            if(stateObj.comparator(currentState)):\n",
    "               return self.construct_path(stateObj , parents  , currentState) \n",
    "            if(self.checkArray(closed , currentState)== False):\n",
    "                closed.append(currentState)\n",
    "                for move in [0,1,2,3]:\n",
    "                    nextState = player.move(move, currentState)\n",
    "                    if(nextState is not None):\n",
    "                        if(self.checkArray(closed , nextState) == False):\n",
    "                            open.put((heuristicObj.getHeuristic(nextState),nextState))\n",
    "                            nextStr = self.arrToStr(nextState)\n",
    "                            curStr = self.arrToStr(currentState)\n",
    "                            parents[nextStr] = (curStr , move)\n",
    "                    else:\n",
    "                        pass \n",
    "        return None\n",
    "    \n",
    "\n",
    "    def AstarSearch(self, stateObj , initialState, heuristicChoice):\n",
    "        player = Puzzle()\n",
    "        closed = []#visited List\n",
    "        parents = {}\n",
    "        heuristicObj = Heuristic(heuristicChoice)\n",
    "        open = PriorityQueue() #openToGoList \n",
    "        open.put((heuristicObj.getHeuristic(initialState),initialState))\n",
    "        while(open.empty() == False):\n",
    "            heuristicVal , currentState = open.get()\n",
    "            # currentState = open.get()[1]\n",
    "            print(f\"The heuristic(h(n) + depth) value of the state {currentState} is : {heuristicVal}\")\n",
    "            if(stateObj.comparator(currentState)):\n",
    "               return self.construct_path(stateObj , parents  , currentState) \n",
    "            if(self.checkArray(closed , currentState)== False):\n",
    "                closed.append(currentState)\n",
    "                for move in [0,1,2,3]:\n",
    "                    nextState = player.move(move, currentState)\n",
    "                    if(nextState is not None):\n",
    "                        if(self.checkArray(closed , nextState) == False):\n",
    "                            depth = len(self.construct_path(stateObj , parents  , currentState)) + 1 \n",
    "                            open.put(((heuristicObj.getHeuristic(nextState)+depth),nextState))\n",
    "                            nextStr = self.arrToStr(nextState)\n",
    "                            curStr = self.arrToStr(currentState)\n",
    "                            parents[nextStr] = (curStr , move)\n",
    "                    else:\n",
    "                        pass \n",
    "        return None\n"
   ]
  },
  {
   "cell_type": "markdown",
   "metadata": {},
   "source": [
    "TO RUN CODE AND IF ANY FUNTIONS ARE NEEDED WE WILL ADD BELOW "
   ]
  },
  {
   "cell_type": "code",
   "execution_count": 14,
   "metadata": {},
   "outputs": [],
   "source": [
    "graphObj = Graph()"
   ]
  },
  {
   "cell_type": "code",
   "execution_count": null,
   "metadata": {},
   "outputs": [],
   "source": []
  }
 ],
 "metadata": {
  "kernelspec": {
   "display_name": "Python 3",
   "language": "python",
   "name": "python3"
  },
  "language_info": {
   "codemirror_mode": {
    "name": "ipython",
    "version": 3
   },
   "file_extension": ".py",
   "mimetype": "text/x-python",
   "name": "python",
   "nbconvert_exporter": "python",
   "pygments_lexer": "ipython3",
   "version": "3.10.1"
  }
 },
 "nbformat": 4,
 "nbformat_minor": 2
}
